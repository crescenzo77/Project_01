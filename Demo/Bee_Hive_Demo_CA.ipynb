{
 "cells": [
  {
   "cell_type": "code",
   "execution_count": 1,
   "metadata": {},
   "outputs": [],
   "source": [
    "# Bee Demo\n",
    "\n",
    "%matplotlib inline\n",
    "# Dependencies and Setup\n",
    "import matplotlib.pyplot as plt\n",
    "import pandas as pd\n",
    "import numpy as np\n",
    "import os\n",
    "import datetime\n",
    "import seaborn as sns\n",
    "\n",
    "import scipy.stats as stats\n",
    "from scipy.stats import linregress\n",
    "import os\n",
    "\n",
    "# Hide warning messages in notebook\n",
    "import warnings\n",
    "warnings.filterwarnings('ignore')\n",
    "\n",
    "#wurzburg\n",
    "# File to Load (Remember to change these)\n",
    "wurz_flow_csv = \"data/flow_wurzburg.csv\"\n",
    "wurz_weight_csv = \"data/weight_wurzburg.csv\"\n",
    "wurz_temp_csv = \"data/temperature_wurzburg.csv\"\n",
    "wurz_humid_csv = \"data/humidity_wurzburg.csv\"\n",
    "\n",
    "\n",
    "# Read the hive Data\n",
    "wurz_flow = pd.read_csv(wurz_flow_csv, parse_dates=['timestamp'], date_parser=pd.to_datetime)\n",
    "wurz_weight_old = pd.read_csv(wurz_weight_csv, parse_dates=['timestamp'], date_parser=pd.to_datetime)\n",
    "wurz_temp = pd.read_csv(wurz_temp_csv, parse_dates=['timestamp'], date_parser=pd.to_datetime)\n",
    "wurz_humid_old = pd.read_csv(wurz_humid_csv, parse_dates=['timestamp'], date_parser=pd.to_datetime)\n",
    "\n",
    "\n"
   ]
  },
  {
   "cell_type": "code",
   "execution_count": 2,
   "metadata": {},
   "outputs": [],
   "source": [
    "#Schwartau\n",
    "# File to Load (Remember to change these)\n",
    "\n",
    "schwa_flow_csv = \"data/flow_schwartau.csv\"\n",
    "schwa_weight_csv = \"data/weight_schwartau.csv\"\n",
    "schwa_temp_csv = \"data/temperature_schwartau.csv\"\n",
    "schwa_humid_csv = \"data/humidity_schwartau.csv\"\n",
    "\n",
    "# Read the hive Data\n",
    "\n",
    "schwa_flow = pd.read_csv(schwa_flow_csv, parse_dates=['timestamp'], date_parser=pd.to_datetime)\n",
    "schwa_weight_old = pd.read_csv(schwa_weight_csv, parse_dates=['timestamp'], date_parser=pd.to_datetime)\n",
    "schwa_temp = pd.read_csv(schwa_temp_csv, parse_dates=['timestamp'], date_parser=pd.to_datetime)\n",
    "schwa_humid_old = pd.read_csv(schwa_humid_csv, parse_dates=['timestamp'], date_parser=pd.to_datetime)\n",
    "\n",
    "\n"
   ]
  },
  {
   "cell_type": "code",
   "execution_count": 3,
   "metadata": {},
   "outputs": [],
   "source": [
    "# fix the negative values showing up the weight and humid files. make new DF by removing any values less than zero\n",
    "\n",
    "\n",
    "wurz_weight = wurz_weight_old[wurz_weight_old['weight'] > 0]\n",
    "wurz_humid = wurz_humid_old[wurz_humid_old['humidity'] > 0]\n",
    "schwa_weight = schwa_weight_old[schwa_weight_old['weight'] > 0]\n",
    "schwa_humid = schwa_humid_old[schwa_humid_old['humidity'] > 0]\n"
   ]
  },
  {
   "cell_type": "code",
   "execution_count": 4,
   "metadata": {},
   "outputs": [],
   "source": [
    "# Wurz\n",
    "# add a column for day, pull the date from timestamp colummn and populate in day column in each data source used.\n",
    "# also calculate the following:\n",
    "# flow sum\n",
    "# weight mean\n",
    "# temp mean\n",
    "# humid mean\n",
    "\n",
    "pd.DatetimeIndex(wurz_flow.timestamp).normalize()\n",
    "wurz_flow['day'] = pd.DatetimeIndex(wurz_flow.timestamp).normalize()\n",
    "wgroup_flow = wurz_flow.groupby(\"day\").sum()\n",
    "\n",
    "wurz_weight['day'] = pd.DatetimeIndex(wurz_weight.timestamp).normalize()\n",
    "wgroup_weight = wurz_weight.groupby(\"day\").mean()\n",
    "\n",
    "wurz_temp['day'] = pd.DatetimeIndex(wurz_temp.timestamp).normalize()\n",
    "wgroup_temp = wurz_temp.groupby(\"day\").mean()\n",
    "\n",
    "wurz_humid['day'] = pd.DatetimeIndex(wurz_humid.timestamp).normalize()\n",
    "wgroup_humid = wurz_humid.groupby(\"day\").mean()"
   ]
  },
  {
   "cell_type": "code",
   "execution_count": 5,
   "metadata": {},
   "outputs": [],
   "source": [
    "# Schwartau\n",
    "# add a column for day, pull the date from timestamp colummn and populate in day column in each data source used.\n",
    "# also calculate the following:\n",
    "# flow sum\n",
    "# weight mean\n",
    "# temp mean\n",
    "# humid mean\n",
    "\n",
    "pd.DatetimeIndex(schwa_flow.timestamp).normalize()\n",
    "schwa_flow['day'] = pd.DatetimeIndex(schwa_flow.timestamp).normalize()\n",
    "sgroup_flow = schwa_flow.groupby(\"day\").sum()\n",
    "\n",
    "schwa_weight['day'] = pd.DatetimeIndex(schwa_weight.timestamp).normalize()\n",
    "sgroup_weight = schwa_weight.groupby(\"day\").mean()\n",
    "\n",
    "schwa_temp['day'] = pd.DatetimeIndex(schwa_temp.timestamp).normalize()\n",
    "sgroup_temp = schwa_temp.groupby(\"day\").mean()\n",
    "\n",
    "schwa_humid['day'] = pd.DatetimeIndex(schwa_humid.timestamp).normalize()\n",
    "sgroup_humid = schwa_humid.groupby(\"day\").mean()"
   ]
  },
  {
   "cell_type": "code",
   "execution_count": 6,
   "metadata": {},
   "outputs": [
    {
     "data": {
      "text/html": [
       "<div>\n",
       "<style scoped>\n",
       "    .dataframe tbody tr th:only-of-type {\n",
       "        vertical-align: middle;\n",
       "    }\n",
       "\n",
       "    .dataframe tbody tr th {\n",
       "        vertical-align: top;\n",
       "    }\n",
       "\n",
       "    .dataframe thead th {\n",
       "        text-align: right;\n",
       "    }\n",
       "</style>\n",
       "<table border=\"1\" class=\"dataframe\">\n",
       "  <thead>\n",
       "    <tr style=\"text-align: right;\">\n",
       "      <th></th>\n",
       "      <th>w_humidity</th>\n",
       "      <th>w_temperature</th>\n",
       "      <th>w_weight</th>\n",
       "      <th>w_flow</th>\n",
       "    </tr>\n",
       "    <tr>\n",
       "      <th>day</th>\n",
       "      <th></th>\n",
       "      <th></th>\n",
       "      <th></th>\n",
       "      <th></th>\n",
       "    </tr>\n",
       "  </thead>\n",
       "  <tbody>\n",
       "    <tr>\n",
       "      <th>2017-01-01</th>\n",
       "      <td>92.058947</td>\n",
       "      <td>-0.082160</td>\n",
       "      <td>52.661690</td>\n",
       "      <td>-6</td>\n",
       "    </tr>\n",
       "    <tr>\n",
       "      <th>2017-01-02</th>\n",
       "      <td>92.794722</td>\n",
       "      <td>1.825578</td>\n",
       "      <td>52.671111</td>\n",
       "      <td>-9</td>\n",
       "    </tr>\n",
       "    <tr>\n",
       "      <th>2017-01-03</th>\n",
       "      <td>91.173472</td>\n",
       "      <td>3.082557</td>\n",
       "      <td>52.653767</td>\n",
       "      <td>-7</td>\n",
       "    </tr>\n",
       "    <tr>\n",
       "      <th>2017-01-04</th>\n",
       "      <td>91.077917</td>\n",
       "      <td>3.750071</td>\n",
       "      <td>52.610835</td>\n",
       "      <td>-21</td>\n",
       "    </tr>\n",
       "    <tr>\n",
       "      <th>2017-01-05</th>\n",
       "      <td>82.656076</td>\n",
       "      <td>2.259225</td>\n",
       "      <td>52.623591</td>\n",
       "      <td>-12</td>\n",
       "    </tr>\n",
       "  </tbody>\n",
       "</table>\n",
       "</div>"
      ],
      "text/plain": [
       "            w_humidity  w_temperature   w_weight  w_flow\n",
       "day                                                     \n",
       "2017-01-01   92.058947      -0.082160  52.661690      -6\n",
       "2017-01-02   92.794722       1.825578  52.671111      -9\n",
       "2017-01-03   91.173472       3.082557  52.653767      -7\n",
       "2017-01-04   91.077917       3.750071  52.610835     -21\n",
       "2017-01-05   82.656076       2.259225  52.623591     -12"
      ]
     },
     "execution_count": 6,
     "metadata": {},
     "output_type": "execute_result"
    }
   ],
   "source": [
    "# Wurz\n",
    "# Combine the data into a single dataset\n",
    "\n",
    "wurz_3_df = pd.merge(wgroup_humid, wgroup_temp, on=\"day\", how=\"inner\")\n",
    "wurz_2_df = pd.merge(wurz_3_df, wgroup_weight, on=\"day\", how=\"inner\")\n",
    "wurz_hive_df = pd.merge(wurz_2_df, wgroup_flow, on=\"day\", how=\"inner\")\n",
    "\n",
    "wurz_df = wurz_hive_df.rename(columns={\"humidity\":\"w_humidity\",\n",
    "                                       \"temperature\":\"w_temperature\",\n",
    "                                       \"weight\":\"w_weight\",\n",
    "                                       \"flow\":\"w_flow\"})\n",
    "\n",
    "\n",
    "wurz_df.head()"
   ]
  },
  {
   "cell_type": "code",
   "execution_count": 7,
   "metadata": {},
   "outputs": [
    {
     "data": {
      "text/html": [
       "<div>\n",
       "<style scoped>\n",
       "    .dataframe tbody tr th:only-of-type {\n",
       "        vertical-align: middle;\n",
       "    }\n",
       "\n",
       "    .dataframe tbody tr th {\n",
       "        vertical-align: top;\n",
       "    }\n",
       "\n",
       "    .dataframe thead th {\n",
       "        text-align: right;\n",
       "    }\n",
       "</style>\n",
       "<table border=\"1\" class=\"dataframe\">\n",
       "  <thead>\n",
       "    <tr style=\"text-align: right;\">\n",
       "      <th></th>\n",
       "      <th>s_humidity</th>\n",
       "      <th>s_temperature</th>\n",
       "      <th>s_weight</th>\n",
       "      <th>s_flow</th>\n",
       "    </tr>\n",
       "    <tr>\n",
       "      <th>day</th>\n",
       "      <th></th>\n",
       "      <th></th>\n",
       "      <th></th>\n",
       "      <th></th>\n",
       "    </tr>\n",
       "  </thead>\n",
       "  <tbody>\n",
       "    <tr>\n",
       "      <th>2017-01-01</th>\n",
       "      <td>98.040310</td>\n",
       "      <td>15.477829</td>\n",
       "      <td>50736.790078</td>\n",
       "      <td>-5</td>\n",
       "    </tr>\n",
       "    <tr>\n",
       "      <th>2017-01-02</th>\n",
       "      <td>98.806319</td>\n",
       "      <td>13.376389</td>\n",
       "      <td>50657.796250</td>\n",
       "      <td>-22</td>\n",
       "    </tr>\n",
       "    <tr>\n",
       "      <th>2017-01-03</th>\n",
       "      <td>98.403472</td>\n",
       "      <td>16.181965</td>\n",
       "      <td>50769.785556</td>\n",
       "      <td>-30</td>\n",
       "    </tr>\n",
       "    <tr>\n",
       "      <th>2017-01-04</th>\n",
       "      <td>97.292292</td>\n",
       "      <td>14.724111</td>\n",
       "      <td>50532.602778</td>\n",
       "      <td>-28</td>\n",
       "    </tr>\n",
       "    <tr>\n",
       "      <th>2017-01-05</th>\n",
       "      <td>96.583889</td>\n",
       "      <td>9.058442</td>\n",
       "      <td>50109.808194</td>\n",
       "      <td>-11</td>\n",
       "    </tr>\n",
       "  </tbody>\n",
       "</table>\n",
       "</div>"
      ],
      "text/plain": [
       "            s_humidity  s_temperature      s_weight  s_flow\n",
       "day                                                        \n",
       "2017-01-01   98.040310      15.477829  50736.790078      -5\n",
       "2017-01-02   98.806319      13.376389  50657.796250     -22\n",
       "2017-01-03   98.403472      16.181965  50769.785556     -30\n",
       "2017-01-04   97.292292      14.724111  50532.602778     -28\n",
       "2017-01-05   96.583889       9.058442  50109.808194     -11"
      ]
     },
     "execution_count": 7,
     "metadata": {},
     "output_type": "execute_result"
    }
   ],
   "source": [
    "# Schwartau\n",
    "# Combine the data into a single dataset\n",
    "\n",
    "schwa_3_df = pd.merge(sgroup_humid, sgroup_temp, on=\"day\", how=\"inner\")\n",
    "schwa_2_df = pd.merge(schwa_3_df, sgroup_weight, on=\"day\", how=\"inner\")\n",
    "schwa_hive_df = pd.merge(schwa_2_df, sgroup_flow, on=\"day\", how=\"inner\")\n",
    "\n",
    "schwa_df = schwa_hive_df.rename(columns={\"humidity\":\"s_humidity\",\n",
    "                                       \"temperature\":\"s_temperature\",\n",
    "                                       \"weight\":\"s_weight\",\n",
    "                                       \"flow\":\"s_flow\"})\n",
    "\n",
    "\n",
    "schwa_df.head()"
   ]
  },
  {
   "cell_type": "code",
   "execution_count": 8,
   "metadata": {},
   "outputs": [
    {
     "data": {
      "text/html": [
       "<div>\n",
       "<style scoped>\n",
       "    .dataframe tbody tr th:only-of-type {\n",
       "        vertical-align: middle;\n",
       "    }\n",
       "\n",
       "    .dataframe tbody tr th {\n",
       "        vertical-align: top;\n",
       "    }\n",
       "\n",
       "    .dataframe thead th {\n",
       "        text-align: right;\n",
       "    }\n",
       "</style>\n",
       "<table border=\"1\" class=\"dataframe\">\n",
       "  <thead>\n",
       "    <tr style=\"text-align: right;\">\n",
       "      <th></th>\n",
       "      <th>w_humidity</th>\n",
       "      <th>w_temperature</th>\n",
       "      <th>w_weight</th>\n",
       "      <th>w_flow</th>\n",
       "      <th>s_humidity</th>\n",
       "      <th>s_temperature</th>\n",
       "      <th>s_weight</th>\n",
       "      <th>s_flow</th>\n",
       "    </tr>\n",
       "    <tr>\n",
       "      <th>day</th>\n",
       "      <th></th>\n",
       "      <th></th>\n",
       "      <th></th>\n",
       "      <th></th>\n",
       "      <th></th>\n",
       "      <th></th>\n",
       "      <th></th>\n",
       "      <th></th>\n",
       "    </tr>\n",
       "  </thead>\n",
       "  <tbody>\n",
       "    <tr>\n",
       "      <th>2017-01-01</th>\n",
       "      <td>92.058947</td>\n",
       "      <td>-0.082160</td>\n",
       "      <td>52.661690</td>\n",
       "      <td>-6</td>\n",
       "      <td>98.040310</td>\n",
       "      <td>15.477829</td>\n",
       "      <td>50736.790078</td>\n",
       "      <td>-5</td>\n",
       "    </tr>\n",
       "    <tr>\n",
       "      <th>2017-01-02</th>\n",
       "      <td>92.794722</td>\n",
       "      <td>1.825578</td>\n",
       "      <td>52.671111</td>\n",
       "      <td>-9</td>\n",
       "      <td>98.806319</td>\n",
       "      <td>13.376389</td>\n",
       "      <td>50657.796250</td>\n",
       "      <td>-22</td>\n",
       "    </tr>\n",
       "    <tr>\n",
       "      <th>2017-01-03</th>\n",
       "      <td>91.173472</td>\n",
       "      <td>3.082557</td>\n",
       "      <td>52.653767</td>\n",
       "      <td>-7</td>\n",
       "      <td>98.403472</td>\n",
       "      <td>16.181965</td>\n",
       "      <td>50769.785556</td>\n",
       "      <td>-30</td>\n",
       "    </tr>\n",
       "    <tr>\n",
       "      <th>2017-01-04</th>\n",
       "      <td>91.077917</td>\n",
       "      <td>3.750071</td>\n",
       "      <td>52.610835</td>\n",
       "      <td>-21</td>\n",
       "      <td>97.292292</td>\n",
       "      <td>14.724111</td>\n",
       "      <td>50532.602778</td>\n",
       "      <td>-28</td>\n",
       "    </tr>\n",
       "    <tr>\n",
       "      <th>2017-01-05</th>\n",
       "      <td>82.656076</td>\n",
       "      <td>2.259225</td>\n",
       "      <td>52.623591</td>\n",
       "      <td>-12</td>\n",
       "      <td>96.583889</td>\n",
       "      <td>9.058442</td>\n",
       "      <td>50109.808194</td>\n",
       "      <td>-11</td>\n",
       "    </tr>\n",
       "  </tbody>\n",
       "</table>\n",
       "</div>"
      ],
      "text/plain": [
       "            w_humidity  w_temperature   w_weight  w_flow  s_humidity  \\\n",
       "day                                                                    \n",
       "2017-01-01   92.058947      -0.082160  52.661690      -6   98.040310   \n",
       "2017-01-02   92.794722       1.825578  52.671111      -9   98.806319   \n",
       "2017-01-03   91.173472       3.082557  52.653767      -7   98.403472   \n",
       "2017-01-04   91.077917       3.750071  52.610835     -21   97.292292   \n",
       "2017-01-05   82.656076       2.259225  52.623591     -12   96.583889   \n",
       "\n",
       "            s_temperature      s_weight  s_flow  \n",
       "day                                              \n",
       "2017-01-01      15.477829  50736.790078      -5  \n",
       "2017-01-02      13.376389  50657.796250     -22  \n",
       "2017-01-03      16.181965  50769.785556     -30  \n",
       "2017-01-04      14.724111  50532.602778     -28  \n",
       "2017-01-05       9.058442  50109.808194     -11  "
      ]
     },
     "execution_count": 8,
     "metadata": {},
     "output_type": "execute_result"
    }
   ],
   "source": [
    "# merge the hive data for werzberg and shcwartau\n",
    "\n",
    "ws_df = pd.merge(wurz_df, schwa_df, on=\"day\", how=\"inner\")\n",
    "ws_df.head()"
   ]
  },
  {
   "cell_type": "code",
   "execution_count": 9,
   "metadata": {},
   "outputs": [],
   "source": [
    "# Export the combined hive data as a CSV, with the Pandas index and with the header\n",
    "ws_df.to_csv(\"ws.csv\", index=True, header=True)\n",
    "ws_df.to_csv(\"data/ws.csv\", index=True, header=True)"
   ]
  },
  {
   "cell_type": "code",
   "execution_count": 10,
   "metadata": {},
   "outputs": [
    {
     "data": {
      "text/html": [
       "<div>\n",
       "<style scoped>\n",
       "    .dataframe tbody tr th:only-of-type {\n",
       "        vertical-align: middle;\n",
       "    }\n",
       "\n",
       "    .dataframe tbody tr th {\n",
       "        vertical-align: top;\n",
       "    }\n",
       "\n",
       "    .dataframe thead th {\n",
       "        text-align: right;\n",
       "    }\n",
       "</style>\n",
       "<table border=\"1\" class=\"dataframe\">\n",
       "  <thead>\n",
       "    <tr style=\"text-align: right;\">\n",
       "      <th></th>\n",
       "      <th>date</th>\n",
       "      <th>s_city_temp</th>\n",
       "      <th>s_city_humid</th>\n",
       "    </tr>\n",
       "  </thead>\n",
       "  <tbody>\n",
       "    <tr>\n",
       "      <th>0</th>\n",
       "      <td>2017-01-01</td>\n",
       "      <td>5.000000</td>\n",
       "      <td>91.000000</td>\n",
       "    </tr>\n",
       "    <tr>\n",
       "      <th>1</th>\n",
       "      <td>2017-01-02</td>\n",
       "      <td>0.708333</td>\n",
       "      <td>95.416667</td>\n",
       "    </tr>\n",
       "    <tr>\n",
       "      <th>2</th>\n",
       "      <td>2017-01-03</td>\n",
       "      <td>4.714286</td>\n",
       "      <td>80.750000</td>\n",
       "    </tr>\n",
       "    <tr>\n",
       "      <th>3</th>\n",
       "      <td>2017-01-04</td>\n",
       "      <td>15.178571</td>\n",
       "      <td>71.678571</td>\n",
       "    </tr>\n",
       "    <tr>\n",
       "      <th>4</th>\n",
       "      <td>2017-01-05</td>\n",
       "      <td>12.206897</td>\n",
       "      <td>57.172414</td>\n",
       "    </tr>\n",
       "  </tbody>\n",
       "</table>\n",
       "</div>"
      ],
      "text/plain": [
       "         date  s_city_temp  s_city_humid\n",
       "0  2017-01-01     5.000000     91.000000\n",
       "1  2017-01-02     0.708333     95.416667\n",
       "2  2017-01-03     4.714286     80.750000\n",
       "3  2017-01-04    15.178571     71.678571\n",
       "4  2017-01-05    12.206897     57.172414"
      ]
     },
     "execution_count": 10,
     "metadata": {},
     "output_type": "execute_result"
    }
   ],
   "source": [
    "#load the hive data and the weather data \n",
    "\n",
    "#wurzburg\n",
    "# File to Load (Remember to change these)\n",
    "ws_csv = \"data/ws.csv\"\n",
    "ww_csv = \"data/Wurzburg_Weather_Cleaned.csv\"\n",
    "sc_csv = \"data/schwartau_Weather_Cleaned.csv\"\n",
    "\n",
    "# Read the hive Data\n",
    "ws_df = pd.read_csv(ws_csv)\n",
    "ww_df = pd.read_csv(ww_csv)\n",
    "sc_df = pd.read_csv(sc_csv)\n",
    "\n",
    "ws_df = ws_df.rename(columns={\"day\":\"date\"})\n",
    "ww_df = ww_df.rename(columns={\"T\":\"w_city_temp\",\n",
    "                             \"U\":\"w_city_humid\",\n",
    "                             \"Date\":\"date\"})\n",
    "\n",
    "sc_df = sc_df.rename(columns={\"T\":\"s_city_temp\",\n",
    "                             \"U\":\"s_city_humid\",\n",
    "                             \"Date\":\"date\"})\n",
    "\n",
    "sc_df.head()"
   ]
  },
  {
   "cell_type": "code",
   "execution_count": 11,
   "metadata": {},
   "outputs": [
    {
     "data": {
      "text/html": [
       "<div>\n",
       "<style scoped>\n",
       "    .dataframe tbody tr th:only-of-type {\n",
       "        vertical-align: middle;\n",
       "    }\n",
       "\n",
       "    .dataframe tbody tr th {\n",
       "        vertical-align: top;\n",
       "    }\n",
       "\n",
       "    .dataframe thead th {\n",
       "        text-align: right;\n",
       "    }\n",
       "</style>\n",
       "<table border=\"1\" class=\"dataframe\">\n",
       "  <thead>\n",
       "    <tr style=\"text-align: right;\">\n",
       "      <th></th>\n",
       "      <th>date</th>\n",
       "      <th>w_humidity</th>\n",
       "      <th>w_temperature</th>\n",
       "      <th>w_weight</th>\n",
       "      <th>w_flow</th>\n",
       "      <th>s_humidity</th>\n",
       "      <th>s_temperature</th>\n",
       "      <th>s_weight</th>\n",
       "      <th>s_flow</th>\n",
       "      <th>w_city_temp</th>\n",
       "      <th>w_city_humid</th>\n",
       "      <th>s_city_temp</th>\n",
       "      <th>s_city_humid</th>\n",
       "    </tr>\n",
       "  </thead>\n",
       "  <tbody>\n",
       "    <tr>\n",
       "      <th>0</th>\n",
       "      <td>2017-01-01</td>\n",
       "      <td>92.058947</td>\n",
       "      <td>-0.082160</td>\n",
       "      <td>52.661690</td>\n",
       "      <td>-6</td>\n",
       "      <td>98.040310</td>\n",
       "      <td>15.477829</td>\n",
       "      <td>50736.790078</td>\n",
       "      <td>-5</td>\n",
       "      <td>-5.145833</td>\n",
       "      <td>95.250000</td>\n",
       "      <td>5.000000</td>\n",
       "      <td>91.000000</td>\n",
       "    </tr>\n",
       "    <tr>\n",
       "      <th>1</th>\n",
       "      <td>2017-01-02</td>\n",
       "      <td>92.794722</td>\n",
       "      <td>1.825578</td>\n",
       "      <td>52.671111</td>\n",
       "      <td>-9</td>\n",
       "      <td>98.806319</td>\n",
       "      <td>13.376389</td>\n",
       "      <td>50657.796250</td>\n",
       "      <td>-22</td>\n",
       "      <td>1.583333</td>\n",
       "      <td>86.208333</td>\n",
       "      <td>0.708333</td>\n",
       "      <td>95.416667</td>\n",
       "    </tr>\n",
       "    <tr>\n",
       "      <th>2</th>\n",
       "      <td>2017-01-03</td>\n",
       "      <td>91.173472</td>\n",
       "      <td>3.082557</td>\n",
       "      <td>52.653767</td>\n",
       "      <td>-7</td>\n",
       "      <td>98.403472</td>\n",
       "      <td>16.181965</td>\n",
       "      <td>50769.785556</td>\n",
       "      <td>-30</td>\n",
       "      <td>5.220833</td>\n",
       "      <td>80.083333</td>\n",
       "      <td>4.714286</td>\n",
       "      <td>80.750000</td>\n",
       "    </tr>\n",
       "    <tr>\n",
       "      <th>3</th>\n",
       "      <td>2017-01-04</td>\n",
       "      <td>91.077917</td>\n",
       "      <td>3.750071</td>\n",
       "      <td>52.610835</td>\n",
       "      <td>-21</td>\n",
       "      <td>97.292292</td>\n",
       "      <td>14.724111</td>\n",
       "      <td>50532.602778</td>\n",
       "      <td>-28</td>\n",
       "      <td>14.466667</td>\n",
       "      <td>59.083333</td>\n",
       "      <td>15.178571</td>\n",
       "      <td>71.678571</td>\n",
       "    </tr>\n",
       "    <tr>\n",
       "      <th>4</th>\n",
       "      <td>2017-01-05</td>\n",
       "      <td>82.656076</td>\n",
       "      <td>2.259225</td>\n",
       "      <td>52.623591</td>\n",
       "      <td>-12</td>\n",
       "      <td>96.583889</td>\n",
       "      <td>9.058442</td>\n",
       "      <td>50109.808194</td>\n",
       "      <td>-11</td>\n",
       "      <td>8.235000</td>\n",
       "      <td>74.350000</td>\n",
       "      <td>12.206897</td>\n",
       "      <td>57.172414</td>\n",
       "    </tr>\n",
       "  </tbody>\n",
       "</table>\n",
       "</div>"
      ],
      "text/plain": [
       "         date  w_humidity  w_temperature   w_weight  w_flow  s_humidity  \\\n",
       "0  2017-01-01   92.058947      -0.082160  52.661690      -6   98.040310   \n",
       "1  2017-01-02   92.794722       1.825578  52.671111      -9   98.806319   \n",
       "2  2017-01-03   91.173472       3.082557  52.653767      -7   98.403472   \n",
       "3  2017-01-04   91.077917       3.750071  52.610835     -21   97.292292   \n",
       "4  2017-01-05   82.656076       2.259225  52.623591     -12   96.583889   \n",
       "\n",
       "   s_temperature      s_weight  s_flow  w_city_temp  w_city_humid  \\\n",
       "0      15.477829  50736.790078      -5    -5.145833     95.250000   \n",
       "1      13.376389  50657.796250     -22     1.583333     86.208333   \n",
       "2      16.181965  50769.785556     -30     5.220833     80.083333   \n",
       "3      14.724111  50532.602778     -28    14.466667     59.083333   \n",
       "4       9.058442  50109.808194     -11     8.235000     74.350000   \n",
       "\n",
       "   s_city_temp  s_city_humid  \n",
       "0     5.000000     91.000000  \n",
       "1     0.708333     95.416667  \n",
       "2     4.714286     80.750000  \n",
       "3    15.178571     71.678571  \n",
       "4    12.206897     57.172414  "
      ]
     },
     "execution_count": 11,
     "metadata": {},
     "output_type": "execute_result"
    }
   ],
   "source": [
    "# merge the hive file with the weather files\n",
    "\n",
    "weather_hive_2_df = pd.merge(ws_df, ww_df, on=\"date\", how=\"inner\")\n",
    "weather_hive_ws_df = pd.merge(weather_hive_2_df, sc_df, on=\"date\", how=\"inner\")\n",
    "weather_hive_ws_df.head()"
   ]
  },
  {
   "cell_type": "code",
   "execution_count": 12,
   "metadata": {},
   "outputs": [],
   "source": [
    "# Export the merged weather and hive data as a CSV, with the Pandas index and with the header\n",
    "weather_hive_ws_df.to_csv(\"weather_hive_ws.csv\", index=True, header=True)\n",
    "weather_hive_ws_df.to_csv(\"data/weather_hive_ws.csv\", index=True, header=True)"
   ]
  },
  {
   "cell_type": "code",
   "execution_count": 13,
   "metadata": {},
   "outputs": [
    {
     "data": {
      "text/plain": [
       "date             datetime64[ns]\n",
       "w_humidity              float64\n",
       "w_temperature           float64\n",
       "w_weight                float64\n",
       "w_flow                    int64\n",
       "s_humidity              float64\n",
       "s_temperature           float64\n",
       "s_weight                float64\n",
       "s_flow                    int64\n",
       "w_city_temp             float64\n",
       "w_city_humid            float64\n",
       "s_city_temp             float64\n",
       "s_city_humid            float64\n",
       "dtype: object"
      ]
     },
     "execution_count": 13,
     "metadata": {},
     "output_type": "execute_result"
    }
   ],
   "source": [
    "# load the combined weather had hive file and begin condensing to a monthly average\n",
    "\n",
    "#wurzburg\n",
    "# File to Load (Remember to change these)\n",
    "weather_hive_ws_csv = \"data/weather_hive_ws.csv\"\n",
    "\n",
    "\n",
    "# Read the hive Data\n",
    "weather_hive_ws = pd.read_csv(weather_hive_ws_csv, parse_dates=['date'], date_parser=pd.to_datetime, index_col=0)\n",
    "\n",
    "weather_hive_ws.dtypes"
   ]
  },
  {
   "cell_type": "code",
   "execution_count": 14,
   "metadata": {},
   "outputs": [
    {
     "data": {
      "text/html": [
       "<div>\n",
       "<style scoped>\n",
       "    .dataframe tbody tr th:only-of-type {\n",
       "        vertical-align: middle;\n",
       "    }\n",
       "\n",
       "    .dataframe tbody tr th {\n",
       "        vertical-align: top;\n",
       "    }\n",
       "\n",
       "    .dataframe thead th {\n",
       "        text-align: right;\n",
       "    }\n",
       "</style>\n",
       "<table border=\"1\" class=\"dataframe\">\n",
       "  <thead>\n",
       "    <tr style=\"text-align: right;\">\n",
       "      <th></th>\n",
       "      <th>date</th>\n",
       "      <th>w_humidity</th>\n",
       "      <th>w_temperature</th>\n",
       "      <th>w_weight</th>\n",
       "      <th>w_flow</th>\n",
       "      <th>s_humidity</th>\n",
       "      <th>s_temperature</th>\n",
       "      <th>s_weight</th>\n",
       "      <th>s_flow</th>\n",
       "      <th>w_city_temp</th>\n",
       "      <th>w_city_humid</th>\n",
       "      <th>s_city_temp</th>\n",
       "      <th>s_city_humid</th>\n",
       "    </tr>\n",
       "  </thead>\n",
       "  <tbody>\n",
       "    <tr>\n",
       "      <th>0</th>\n",
       "      <td>2017-01-01</td>\n",
       "      <td>92.058947</td>\n",
       "      <td>-0.082160</td>\n",
       "      <td>52.661690</td>\n",
       "      <td>-6</td>\n",
       "      <td>98.040310</td>\n",
       "      <td>15.477829</td>\n",
       "      <td>50736.790078</td>\n",
       "      <td>-5</td>\n",
       "      <td>-5.145833</td>\n",
       "      <td>95.250000</td>\n",
       "      <td>5.000000</td>\n",
       "      <td>91.000000</td>\n",
       "    </tr>\n",
       "    <tr>\n",
       "      <th>1</th>\n",
       "      <td>2017-01-02</td>\n",
       "      <td>92.794722</td>\n",
       "      <td>1.825578</td>\n",
       "      <td>52.671111</td>\n",
       "      <td>-9</td>\n",
       "      <td>98.806319</td>\n",
       "      <td>13.376389</td>\n",
       "      <td>50657.796250</td>\n",
       "      <td>-22</td>\n",
       "      <td>1.583333</td>\n",
       "      <td>86.208333</td>\n",
       "      <td>0.708333</td>\n",
       "      <td>95.416667</td>\n",
       "    </tr>\n",
       "    <tr>\n",
       "      <th>2</th>\n",
       "      <td>2017-01-03</td>\n",
       "      <td>91.173472</td>\n",
       "      <td>3.082557</td>\n",
       "      <td>52.653767</td>\n",
       "      <td>-7</td>\n",
       "      <td>98.403472</td>\n",
       "      <td>16.181965</td>\n",
       "      <td>50769.785556</td>\n",
       "      <td>-30</td>\n",
       "      <td>5.220833</td>\n",
       "      <td>80.083333</td>\n",
       "      <td>4.714286</td>\n",
       "      <td>80.750000</td>\n",
       "    </tr>\n",
       "    <tr>\n",
       "      <th>3</th>\n",
       "      <td>2017-01-04</td>\n",
       "      <td>91.077917</td>\n",
       "      <td>3.750071</td>\n",
       "      <td>52.610835</td>\n",
       "      <td>-21</td>\n",
       "      <td>97.292292</td>\n",
       "      <td>14.724111</td>\n",
       "      <td>50532.602778</td>\n",
       "      <td>-28</td>\n",
       "      <td>14.466667</td>\n",
       "      <td>59.083333</td>\n",
       "      <td>15.178571</td>\n",
       "      <td>71.678571</td>\n",
       "    </tr>\n",
       "    <tr>\n",
       "      <th>4</th>\n",
       "      <td>2017-01-05</td>\n",
       "      <td>82.656076</td>\n",
       "      <td>2.259225</td>\n",
       "      <td>52.623591</td>\n",
       "      <td>-12</td>\n",
       "      <td>96.583889</td>\n",
       "      <td>9.058442</td>\n",
       "      <td>50109.808194</td>\n",
       "      <td>-11</td>\n",
       "      <td>8.235000</td>\n",
       "      <td>74.350000</td>\n",
       "      <td>12.206897</td>\n",
       "      <td>57.172414</td>\n",
       "    </tr>\n",
       "  </tbody>\n",
       "</table>\n",
       "</div>"
      ],
      "text/plain": [
       "        date  w_humidity  w_temperature   w_weight  w_flow  s_humidity  \\\n",
       "0 2017-01-01   92.058947      -0.082160  52.661690      -6   98.040310   \n",
       "1 2017-01-02   92.794722       1.825578  52.671111      -9   98.806319   \n",
       "2 2017-01-03   91.173472       3.082557  52.653767      -7   98.403472   \n",
       "3 2017-01-04   91.077917       3.750071  52.610835     -21   97.292292   \n",
       "4 2017-01-05   82.656076       2.259225  52.623591     -12   96.583889   \n",
       "\n",
       "   s_temperature      s_weight  s_flow  w_city_temp  w_city_humid  \\\n",
       "0      15.477829  50736.790078      -5    -5.145833     95.250000   \n",
       "1      13.376389  50657.796250     -22     1.583333     86.208333   \n",
       "2      16.181965  50769.785556     -30     5.220833     80.083333   \n",
       "3      14.724111  50532.602778     -28    14.466667     59.083333   \n",
       "4       9.058442  50109.808194     -11     8.235000     74.350000   \n",
       "\n",
       "   s_city_temp  s_city_humid  \n",
       "0     5.000000     91.000000  \n",
       "1     0.708333     95.416667  \n",
       "2     4.714286     80.750000  \n",
       "3    15.178571     71.678571  \n",
       "4    12.206897     57.172414  "
      ]
     },
     "execution_count": 14,
     "metadata": {},
     "output_type": "execute_result"
    }
   ],
   "source": [
    "weather_hive_ws.head()"
   ]
  },
  {
   "cell_type": "code",
   "execution_count": 15,
   "metadata": {},
   "outputs": [
    {
     "data": {
      "text/html": [
       "<div>\n",
       "<style scoped>\n",
       "    .dataframe tbody tr th:only-of-type {\n",
       "        vertical-align: middle;\n",
       "    }\n",
       "\n",
       "    .dataframe tbody tr th {\n",
       "        vertical-align: top;\n",
       "    }\n",
       "\n",
       "    .dataframe thead th {\n",
       "        text-align: right;\n",
       "    }\n",
       "</style>\n",
       "<table border=\"1\" class=\"dataframe\">\n",
       "  <thead>\n",
       "    <tr style=\"text-align: right;\">\n",
       "      <th></th>\n",
       "      <th>w_humidity</th>\n",
       "      <th>w_temperature</th>\n",
       "      <th>w_weight</th>\n",
       "      <th>w_flow</th>\n",
       "      <th>s_humidity</th>\n",
       "      <th>s_temperature</th>\n",
       "      <th>s_weight</th>\n",
       "      <th>s_flow</th>\n",
       "      <th>w_city_temp</th>\n",
       "      <th>w_city_humid</th>\n",
       "      <th>s_city_temp</th>\n",
       "      <th>s_city_humid</th>\n",
       "    </tr>\n",
       "    <tr>\n",
       "      <th>date</th>\n",
       "      <th></th>\n",
       "      <th></th>\n",
       "      <th></th>\n",
       "      <th></th>\n",
       "      <th></th>\n",
       "      <th></th>\n",
       "      <th></th>\n",
       "      <th></th>\n",
       "      <th></th>\n",
       "      <th></th>\n",
       "      <th></th>\n",
       "      <th></th>\n",
       "    </tr>\n",
       "  </thead>\n",
       "  <tbody>\n",
       "    <tr>\n",
       "      <th>2017-01-01</th>\n",
       "      <td>92.058947</td>\n",
       "      <td>-0.082160</td>\n",
       "      <td>52.661690</td>\n",
       "      <td>-6</td>\n",
       "      <td>98.040310</td>\n",
       "      <td>15.477829</td>\n",
       "      <td>50736.790078</td>\n",
       "      <td>-5</td>\n",
       "      <td>-5.145833</td>\n",
       "      <td>95.250000</td>\n",
       "      <td>5.000000</td>\n",
       "      <td>91.000000</td>\n",
       "    </tr>\n",
       "    <tr>\n",
       "      <th>2017-01-02</th>\n",
       "      <td>92.794722</td>\n",
       "      <td>1.825578</td>\n",
       "      <td>52.671111</td>\n",
       "      <td>-9</td>\n",
       "      <td>98.806319</td>\n",
       "      <td>13.376389</td>\n",
       "      <td>50657.796250</td>\n",
       "      <td>-22</td>\n",
       "      <td>1.583333</td>\n",
       "      <td>86.208333</td>\n",
       "      <td>0.708333</td>\n",
       "      <td>95.416667</td>\n",
       "    </tr>\n",
       "    <tr>\n",
       "      <th>2017-01-03</th>\n",
       "      <td>91.173472</td>\n",
       "      <td>3.082557</td>\n",
       "      <td>52.653767</td>\n",
       "      <td>-7</td>\n",
       "      <td>98.403472</td>\n",
       "      <td>16.181965</td>\n",
       "      <td>50769.785556</td>\n",
       "      <td>-30</td>\n",
       "      <td>5.220833</td>\n",
       "      <td>80.083333</td>\n",
       "      <td>4.714286</td>\n",
       "      <td>80.750000</td>\n",
       "    </tr>\n",
       "    <tr>\n",
       "      <th>2017-01-04</th>\n",
       "      <td>91.077917</td>\n",
       "      <td>3.750071</td>\n",
       "      <td>52.610835</td>\n",
       "      <td>-21</td>\n",
       "      <td>97.292292</td>\n",
       "      <td>14.724111</td>\n",
       "      <td>50532.602778</td>\n",
       "      <td>-28</td>\n",
       "      <td>14.466667</td>\n",
       "      <td>59.083333</td>\n",
       "      <td>15.178571</td>\n",
       "      <td>71.678571</td>\n",
       "    </tr>\n",
       "    <tr>\n",
       "      <th>2017-01-05</th>\n",
       "      <td>82.656076</td>\n",
       "      <td>2.259225</td>\n",
       "      <td>52.623591</td>\n",
       "      <td>-12</td>\n",
       "      <td>96.583889</td>\n",
       "      <td>9.058442</td>\n",
       "      <td>50109.808194</td>\n",
       "      <td>-11</td>\n",
       "      <td>8.235000</td>\n",
       "      <td>74.350000</td>\n",
       "      <td>12.206897</td>\n",
       "      <td>57.172414</td>\n",
       "    </tr>\n",
       "  </tbody>\n",
       "</table>\n",
       "</div>"
      ],
      "text/plain": [
       "            w_humidity  w_temperature   w_weight  w_flow  s_humidity  \\\n",
       "date                                                                   \n",
       "2017-01-01   92.058947      -0.082160  52.661690      -6   98.040310   \n",
       "2017-01-02   92.794722       1.825578  52.671111      -9   98.806319   \n",
       "2017-01-03   91.173472       3.082557  52.653767      -7   98.403472   \n",
       "2017-01-04   91.077917       3.750071  52.610835     -21   97.292292   \n",
       "2017-01-05   82.656076       2.259225  52.623591     -12   96.583889   \n",
       "\n",
       "            s_temperature      s_weight  s_flow  w_city_temp  w_city_humid  \\\n",
       "date                                                                         \n",
       "2017-01-01      15.477829  50736.790078      -5    -5.145833     95.250000   \n",
       "2017-01-02      13.376389  50657.796250     -22     1.583333     86.208333   \n",
       "2017-01-03      16.181965  50769.785556     -30     5.220833     80.083333   \n",
       "2017-01-04      14.724111  50532.602778     -28    14.466667     59.083333   \n",
       "2017-01-05       9.058442  50109.808194     -11     8.235000     74.350000   \n",
       "\n",
       "            s_city_temp  s_city_humid  \n",
       "date                                   \n",
       "2017-01-01     5.000000     91.000000  \n",
       "2017-01-02     0.708333     95.416667  \n",
       "2017-01-03     4.714286     80.750000  \n",
       "2017-01-04    15.178571     71.678571  \n",
       "2017-01-05    12.206897     57.172414  "
      ]
     },
     "execution_count": 15,
     "metadata": {},
     "output_type": "execute_result"
    }
   ],
   "source": [
    "#set the index back to the date column\n",
    "\n",
    "weather_hive_ws = weather_hive_ws.set_index(\"date\")\n",
    "weather_hive_ws.head()"
   ]
  },
  {
   "cell_type": "code",
   "execution_count": 16,
   "metadata": {},
   "outputs": [
    {
     "data": {
      "text/html": [
       "<div>\n",
       "<style scoped>\n",
       "    .dataframe tbody tr th:only-of-type {\n",
       "        vertical-align: middle;\n",
       "    }\n",
       "\n",
       "    .dataframe tbody tr th {\n",
       "        vertical-align: top;\n",
       "    }\n",
       "\n",
       "    .dataframe thead th {\n",
       "        text-align: right;\n",
       "    }\n",
       "</style>\n",
       "<table border=\"1\" class=\"dataframe\">\n",
       "  <thead>\n",
       "    <tr style=\"text-align: right;\">\n",
       "      <th></th>\n",
       "      <th>w_humidity</th>\n",
       "      <th>w_temperature</th>\n",
       "      <th>w_weight</th>\n",
       "      <th>w_flow</th>\n",
       "      <th>s_humidity</th>\n",
       "      <th>s_temperature</th>\n",
       "      <th>s_weight</th>\n",
       "      <th>s_flow</th>\n",
       "      <th>w_city_temp</th>\n",
       "      <th>w_city_humid</th>\n",
       "      <th>s_city_temp</th>\n",
       "      <th>s_city_humid</th>\n",
       "    </tr>\n",
       "    <tr>\n",
       "      <th>date</th>\n",
       "      <th></th>\n",
       "      <th></th>\n",
       "      <th></th>\n",
       "      <th></th>\n",
       "      <th></th>\n",
       "      <th></th>\n",
       "      <th></th>\n",
       "      <th></th>\n",
       "      <th></th>\n",
       "      <th></th>\n",
       "      <th></th>\n",
       "      <th></th>\n",
       "    </tr>\n",
       "  </thead>\n",
       "  <tbody>\n",
       "    <tr>\n",
       "      <th>2017-01-31</th>\n",
       "      <td>88.924949</td>\n",
       "      <td>4.132509</td>\n",
       "      <td>52.123729</td>\n",
       "      <td>-29.166667</td>\n",
       "      <td>97.477295</td>\n",
       "      <td>10.197422</td>\n",
       "      <td>50215.159135</td>\n",
       "      <td>-19.600000</td>\n",
       "      <td>2.214264</td>\n",
       "      <td>78.650133</td>\n",
       "      <td>5.018011</td>\n",
       "      <td>85.150617</td>\n",
       "    </tr>\n",
       "    <tr>\n",
       "      <th>2017-02-28</th>\n",
       "      <td>86.739573</td>\n",
       "      <td>11.556415</td>\n",
       "      <td>49.996432</td>\n",
       "      <td>-169.300000</td>\n",
       "      <td>90.810861</td>\n",
       "      <td>13.598453</td>\n",
       "      <td>49183.048264</td>\n",
       "      <td>-36.300000</td>\n",
       "      <td>4.788542</td>\n",
       "      <td>79.706250</td>\n",
       "      <td>4.777360</td>\n",
       "      <td>83.709077</td>\n",
       "    </tr>\n",
       "    <tr>\n",
       "      <th>2017-03-31</th>\n",
       "      <td>80.167109</td>\n",
       "      <td>16.008629</td>\n",
       "      <td>48.708102</td>\n",
       "      <td>-1272.612903</td>\n",
       "      <td>94.620217</td>\n",
       "      <td>21.401484</td>\n",
       "      <td>47667.159922</td>\n",
       "      <td>276.580645</td>\n",
       "      <td>9.816964</td>\n",
       "      <td>73.816195</td>\n",
       "      <td>10.195906</td>\n",
       "      <td>73.615292</td>\n",
       "    </tr>\n",
       "    <tr>\n",
       "      <th>2017-04-30</th>\n",
       "      <td>86.295250</td>\n",
       "      <td>22.659330</td>\n",
       "      <td>49.585359</td>\n",
       "      <td>-1681.166667</td>\n",
       "      <td>92.788956</td>\n",
       "      <td>33.640373</td>\n",
       "      <td>50097.460384</td>\n",
       "      <td>-431.900000</td>\n",
       "      <td>8.589727</td>\n",
       "      <td>71.858361</td>\n",
       "      <td>8.791624</td>\n",
       "      <td>73.626336</td>\n",
       "    </tr>\n",
       "    <tr>\n",
       "      <th>2017-05-31</th>\n",
       "      <td>65.102136</td>\n",
       "      <td>27.104621</td>\n",
       "      <td>56.683475</td>\n",
       "      <td>-4814.903226</td>\n",
       "      <td>76.889198</td>\n",
       "      <td>34.737434</td>\n",
       "      <td>63299.941965</td>\n",
       "      <td>2064.516129</td>\n",
       "      <td>14.959140</td>\n",
       "      <td>72.080645</td>\n",
       "      <td>15.309315</td>\n",
       "      <td>72.582105</td>\n",
       "    </tr>\n",
       "  </tbody>\n",
       "</table>\n",
       "</div>"
      ],
      "text/plain": [
       "            w_humidity  w_temperature   w_weight       w_flow  s_humidity  \\\n",
       "date                                                                        \n",
       "2017-01-31   88.924949       4.132509  52.123729   -29.166667   97.477295   \n",
       "2017-02-28   86.739573      11.556415  49.996432  -169.300000   90.810861   \n",
       "2017-03-31   80.167109      16.008629  48.708102 -1272.612903   94.620217   \n",
       "2017-04-30   86.295250      22.659330  49.585359 -1681.166667   92.788956   \n",
       "2017-05-31   65.102136      27.104621  56.683475 -4814.903226   76.889198   \n",
       "\n",
       "            s_temperature      s_weight       s_flow  w_city_temp  \\\n",
       "date                                                                \n",
       "2017-01-31      10.197422  50215.159135   -19.600000     2.214264   \n",
       "2017-02-28      13.598453  49183.048264   -36.300000     4.788542   \n",
       "2017-03-31      21.401484  47667.159922   276.580645     9.816964   \n",
       "2017-04-30      33.640373  50097.460384  -431.900000     8.589727   \n",
       "2017-05-31      34.737434  63299.941965  2064.516129    14.959140   \n",
       "\n",
       "            w_city_humid  s_city_temp  s_city_humid  \n",
       "date                                                 \n",
       "2017-01-31     78.650133     5.018011     85.150617  \n",
       "2017-02-28     79.706250     4.777360     83.709077  \n",
       "2017-03-31     73.816195    10.195906     73.615292  \n",
       "2017-04-30     71.858361     8.791624     73.626336  \n",
       "2017-05-31     72.080645    15.309315     72.582105  "
      ]
     },
     "execution_count": 16,
     "metadata": {},
     "output_type": "execute_result"
    }
   ],
   "source": [
    "#trying to groupby month in the date column. used grouper\n",
    "\n",
    "month_avg_weather_hive_ws = weather_hive_ws.groupby(pd.Grouper(freq='M')).mean()\n",
    "month_avg_weather_hive_ws.head()"
   ]
  },
  {
   "cell_type": "code",
   "execution_count": 17,
   "metadata": {},
   "outputs": [
    {
     "data": {
      "text/html": [
       "<div>\n",
       "<style scoped>\n",
       "    .dataframe tbody tr th:only-of-type {\n",
       "        vertical-align: middle;\n",
       "    }\n",
       "\n",
       "    .dataframe tbody tr th {\n",
       "        vertical-align: top;\n",
       "    }\n",
       "\n",
       "    .dataframe thead th {\n",
       "        text-align: right;\n",
       "    }\n",
       "</style>\n",
       "<table border=\"1\" class=\"dataframe\">\n",
       "  <thead>\n",
       "    <tr style=\"text-align: right;\">\n",
       "      <th></th>\n",
       "      <th>w_humidity</th>\n",
       "      <th>w_temperature</th>\n",
       "      <th>w_weight</th>\n",
       "      <th>w_flow</th>\n",
       "      <th>s_humidity</th>\n",
       "      <th>s_temperature</th>\n",
       "      <th>s_weight</th>\n",
       "      <th>s_flow</th>\n",
       "      <th>w_city_temp</th>\n",
       "      <th>w_city_humid</th>\n",
       "      <th>s_city_temp</th>\n",
       "      <th>s_city_humid</th>\n",
       "      <th>month_year</th>\n",
       "    </tr>\n",
       "    <tr>\n",
       "      <th>date</th>\n",
       "      <th></th>\n",
       "      <th></th>\n",
       "      <th></th>\n",
       "      <th></th>\n",
       "      <th></th>\n",
       "      <th></th>\n",
       "      <th></th>\n",
       "      <th></th>\n",
       "      <th></th>\n",
       "      <th></th>\n",
       "      <th></th>\n",
       "      <th></th>\n",
       "      <th></th>\n",
       "    </tr>\n",
       "  </thead>\n",
       "  <tbody>\n",
       "    <tr>\n",
       "      <th>2017-01-31</th>\n",
       "      <td>88.924949</td>\n",
       "      <td>4.132509</td>\n",
       "      <td>52.123729</td>\n",
       "      <td>-29.166667</td>\n",
       "      <td>97.477295</td>\n",
       "      <td>10.197422</td>\n",
       "      <td>50215.159135</td>\n",
       "      <td>-19.600000</td>\n",
       "      <td>2.214264</td>\n",
       "      <td>78.650133</td>\n",
       "      <td>5.018011</td>\n",
       "      <td>85.150617</td>\n",
       "      <td>2017-01</td>\n",
       "    </tr>\n",
       "    <tr>\n",
       "      <th>2017-02-28</th>\n",
       "      <td>86.739573</td>\n",
       "      <td>11.556415</td>\n",
       "      <td>49.996432</td>\n",
       "      <td>-169.300000</td>\n",
       "      <td>90.810861</td>\n",
       "      <td>13.598453</td>\n",
       "      <td>49183.048264</td>\n",
       "      <td>-36.300000</td>\n",
       "      <td>4.788542</td>\n",
       "      <td>79.706250</td>\n",
       "      <td>4.777360</td>\n",
       "      <td>83.709077</td>\n",
       "      <td>2017-02</td>\n",
       "    </tr>\n",
       "    <tr>\n",
       "      <th>2017-03-31</th>\n",
       "      <td>80.167109</td>\n",
       "      <td>16.008629</td>\n",
       "      <td>48.708102</td>\n",
       "      <td>-1272.612903</td>\n",
       "      <td>94.620217</td>\n",
       "      <td>21.401484</td>\n",
       "      <td>47667.159922</td>\n",
       "      <td>276.580645</td>\n",
       "      <td>9.816964</td>\n",
       "      <td>73.816195</td>\n",
       "      <td>10.195906</td>\n",
       "      <td>73.615292</td>\n",
       "      <td>2017-03</td>\n",
       "    </tr>\n",
       "    <tr>\n",
       "      <th>2017-04-30</th>\n",
       "      <td>86.295250</td>\n",
       "      <td>22.659330</td>\n",
       "      <td>49.585359</td>\n",
       "      <td>-1681.166667</td>\n",
       "      <td>92.788956</td>\n",
       "      <td>33.640373</td>\n",
       "      <td>50097.460384</td>\n",
       "      <td>-431.900000</td>\n",
       "      <td>8.589727</td>\n",
       "      <td>71.858361</td>\n",
       "      <td>8.791624</td>\n",
       "      <td>73.626336</td>\n",
       "      <td>2017-04</td>\n",
       "    </tr>\n",
       "    <tr>\n",
       "      <th>2017-05-31</th>\n",
       "      <td>65.102136</td>\n",
       "      <td>27.104621</td>\n",
       "      <td>56.683475</td>\n",
       "      <td>-4814.903226</td>\n",
       "      <td>76.889198</td>\n",
       "      <td>34.737434</td>\n",
       "      <td>63299.941965</td>\n",
       "      <td>2064.516129</td>\n",
       "      <td>14.959140</td>\n",
       "      <td>72.080645</td>\n",
       "      <td>15.309315</td>\n",
       "      <td>72.582105</td>\n",
       "      <td>2017-05</td>\n",
       "    </tr>\n",
       "  </tbody>\n",
       "</table>\n",
       "</div>"
      ],
      "text/plain": [
       "            w_humidity  w_temperature   w_weight       w_flow  s_humidity  \\\n",
       "date                                                                        \n",
       "2017-01-31   88.924949       4.132509  52.123729   -29.166667   97.477295   \n",
       "2017-02-28   86.739573      11.556415  49.996432  -169.300000   90.810861   \n",
       "2017-03-31   80.167109      16.008629  48.708102 -1272.612903   94.620217   \n",
       "2017-04-30   86.295250      22.659330  49.585359 -1681.166667   92.788956   \n",
       "2017-05-31   65.102136      27.104621  56.683475 -4814.903226   76.889198   \n",
       "\n",
       "            s_temperature      s_weight       s_flow  w_city_temp  \\\n",
       "date                                                                \n",
       "2017-01-31      10.197422  50215.159135   -19.600000     2.214264   \n",
       "2017-02-28      13.598453  49183.048264   -36.300000     4.788542   \n",
       "2017-03-31      21.401484  47667.159922   276.580645     9.816964   \n",
       "2017-04-30      33.640373  50097.460384  -431.900000     8.589727   \n",
       "2017-05-31      34.737434  63299.941965  2064.516129    14.959140   \n",
       "\n",
       "            w_city_humid  s_city_temp  s_city_humid month_year  \n",
       "date                                                            \n",
       "2017-01-31     78.650133     5.018011     85.150617    2017-01  \n",
       "2017-02-28     79.706250     4.777360     83.709077    2017-02  \n",
       "2017-03-31     73.816195    10.195906     73.615292    2017-03  \n",
       "2017-04-30     71.858361     8.791624     73.626336    2017-04  \n",
       "2017-05-31     72.080645    15.309315     72.582105    2017-05  "
      ]
     },
     "execution_count": 17,
     "metadata": {},
     "output_type": "execute_result"
    }
   ],
   "source": [
    "# Extracting just Month and Year from Pandas Datetime column\n",
    "\n",
    "\n",
    "month_avg_weather_hive_ws['month_year'] = pd.to_datetime(month_avg_weather_hive_ws.index).to_period('M')\n",
    "month_avg_weather_hive_ws.head()"
   ]
  },
  {
   "cell_type": "code",
   "execution_count": 18,
   "metadata": {},
   "outputs": [
    {
     "data": {
      "text/html": [
       "<div>\n",
       "<style scoped>\n",
       "    .dataframe tbody tr th:only-of-type {\n",
       "        vertical-align: middle;\n",
       "    }\n",
       "\n",
       "    .dataframe tbody tr th {\n",
       "        vertical-align: top;\n",
       "    }\n",
       "\n",
       "    .dataframe thead th {\n",
       "        text-align: right;\n",
       "    }\n",
       "</style>\n",
       "<table border=\"1\" class=\"dataframe\">\n",
       "  <thead>\n",
       "    <tr style=\"text-align: right;\">\n",
       "      <th></th>\n",
       "      <th>w_humidity</th>\n",
       "      <th>w_temperature</th>\n",
       "      <th>w_weight</th>\n",
       "      <th>w_flow</th>\n",
       "      <th>s_humidity</th>\n",
       "      <th>s_temperature</th>\n",
       "      <th>s_weight</th>\n",
       "      <th>s_flow</th>\n",
       "      <th>w_city_temp</th>\n",
       "      <th>w_city_humid</th>\n",
       "      <th>s_city_temp</th>\n",
       "      <th>s_city_humid</th>\n",
       "    </tr>\n",
       "    <tr>\n",
       "      <th>month_year</th>\n",
       "      <th></th>\n",
       "      <th></th>\n",
       "      <th></th>\n",
       "      <th></th>\n",
       "      <th></th>\n",
       "      <th></th>\n",
       "      <th></th>\n",
       "      <th></th>\n",
       "      <th></th>\n",
       "      <th></th>\n",
       "      <th></th>\n",
       "      <th></th>\n",
       "    </tr>\n",
       "  </thead>\n",
       "  <tbody>\n",
       "    <tr>\n",
       "      <th>2017-01</th>\n",
       "      <td>88.924949</td>\n",
       "      <td>4.132509</td>\n",
       "      <td>52.123729</td>\n",
       "      <td>-29.166667</td>\n",
       "      <td>97.477295</td>\n",
       "      <td>10.197422</td>\n",
       "      <td>50215.159135</td>\n",
       "      <td>-19.600000</td>\n",
       "      <td>2.214264</td>\n",
       "      <td>78.650133</td>\n",
       "      <td>5.018011</td>\n",
       "      <td>85.150617</td>\n",
       "    </tr>\n",
       "    <tr>\n",
       "      <th>2017-02</th>\n",
       "      <td>86.739573</td>\n",
       "      <td>11.556415</td>\n",
       "      <td>49.996432</td>\n",
       "      <td>-169.300000</td>\n",
       "      <td>90.810861</td>\n",
       "      <td>13.598453</td>\n",
       "      <td>49183.048264</td>\n",
       "      <td>-36.300000</td>\n",
       "      <td>4.788542</td>\n",
       "      <td>79.706250</td>\n",
       "      <td>4.777360</td>\n",
       "      <td>83.709077</td>\n",
       "    </tr>\n",
       "    <tr>\n",
       "      <th>2017-03</th>\n",
       "      <td>80.167109</td>\n",
       "      <td>16.008629</td>\n",
       "      <td>48.708102</td>\n",
       "      <td>-1272.612903</td>\n",
       "      <td>94.620217</td>\n",
       "      <td>21.401484</td>\n",
       "      <td>47667.159922</td>\n",
       "      <td>276.580645</td>\n",
       "      <td>9.816964</td>\n",
       "      <td>73.816195</td>\n",
       "      <td>10.195906</td>\n",
       "      <td>73.615292</td>\n",
       "    </tr>\n",
       "    <tr>\n",
       "      <th>2017-04</th>\n",
       "      <td>86.295250</td>\n",
       "      <td>22.659330</td>\n",
       "      <td>49.585359</td>\n",
       "      <td>-1681.166667</td>\n",
       "      <td>92.788956</td>\n",
       "      <td>33.640373</td>\n",
       "      <td>50097.460384</td>\n",
       "      <td>-431.900000</td>\n",
       "      <td>8.589727</td>\n",
       "      <td>71.858361</td>\n",
       "      <td>8.791624</td>\n",
       "      <td>73.626336</td>\n",
       "    </tr>\n",
       "    <tr>\n",
       "      <th>2017-05</th>\n",
       "      <td>65.102136</td>\n",
       "      <td>27.104621</td>\n",
       "      <td>56.683475</td>\n",
       "      <td>-4814.903226</td>\n",
       "      <td>76.889198</td>\n",
       "      <td>34.737434</td>\n",
       "      <td>63299.941965</td>\n",
       "      <td>2064.516129</td>\n",
       "      <td>14.959140</td>\n",
       "      <td>72.080645</td>\n",
       "      <td>15.309315</td>\n",
       "      <td>72.582105</td>\n",
       "    </tr>\n",
       "  </tbody>\n",
       "</table>\n",
       "</div>"
      ],
      "text/plain": [
       "            w_humidity  w_temperature   w_weight       w_flow  s_humidity  \\\n",
       "month_year                                                                  \n",
       "2017-01      88.924949       4.132509  52.123729   -29.166667   97.477295   \n",
       "2017-02      86.739573      11.556415  49.996432  -169.300000   90.810861   \n",
       "2017-03      80.167109      16.008629  48.708102 -1272.612903   94.620217   \n",
       "2017-04      86.295250      22.659330  49.585359 -1681.166667   92.788956   \n",
       "2017-05      65.102136      27.104621  56.683475 -4814.903226   76.889198   \n",
       "\n",
       "            s_temperature      s_weight       s_flow  w_city_temp  \\\n",
       "month_year                                                          \n",
       "2017-01         10.197422  50215.159135   -19.600000     2.214264   \n",
       "2017-02         13.598453  49183.048264   -36.300000     4.788542   \n",
       "2017-03         21.401484  47667.159922   276.580645     9.816964   \n",
       "2017-04         33.640373  50097.460384  -431.900000     8.589727   \n",
       "2017-05         34.737434  63299.941965  2064.516129    14.959140   \n",
       "\n",
       "            w_city_humid  s_city_temp  s_city_humid  \n",
       "month_year                                           \n",
       "2017-01        78.650133     5.018011     85.150617  \n",
       "2017-02        79.706250     4.777360     83.709077  \n",
       "2017-03        73.816195    10.195906     73.615292  \n",
       "2017-04        71.858361     8.791624     73.626336  \n",
       "2017-05        72.080645    15.309315     72.582105  "
      ]
     },
     "execution_count": 18,
     "metadata": {},
     "output_type": "execute_result"
    }
   ],
   "source": [
    "# set the index to the month_year column\n",
    "\n",
    "month_summary = month_avg_weather_hive_ws.set_index(\"month_year\")\n",
    "month_summary.head()"
   ]
  },
  {
   "cell_type": "code",
   "execution_count": 19,
   "metadata": {},
   "outputs": [],
   "source": [
    "# Export file as a CSV, with the Pandas index and with the header....\n",
    "#month_summary.to_csv(\"month_summary.csv\", index=True, header=True)\n",
    "#month_summary.to_csv(\"data/month_summary.csv\", index=True, header=True)"
   ]
  },
  {
   "cell_type": "code",
   "execution_count": null,
   "metadata": {},
   "outputs": [],
   "source": []
  },
  {
   "cell_type": "code",
   "execution_count": null,
   "metadata": {},
   "outputs": [],
   "source": []
  },
  {
   "cell_type": "code",
   "execution_count": 20,
   "metadata": {},
   "outputs": [],
   "source": [
    "###### Wurzburg City Monthly Temperature Analysis ########"
   ]
  },
  {
   "cell_type": "code",
   "execution_count": null,
   "metadata": {},
   "outputs": [],
   "source": []
  },
  {
   "cell_type": "code",
   "execution_count": 21,
   "metadata": {},
   "outputs": [
    {
     "data": {
      "text/html": [
       "<div>\n",
       "<style scoped>\n",
       "    .dataframe tbody tr th:only-of-type {\n",
       "        vertical-align: middle;\n",
       "    }\n",
       "\n",
       "    .dataframe tbody tr th {\n",
       "        vertical-align: top;\n",
       "    }\n",
       "\n",
       "    .dataframe thead th {\n",
       "        text-align: right;\n",
       "    }\n",
       "</style>\n",
       "<table border=\"1\" class=\"dataframe\">\n",
       "  <thead>\n",
       "    <tr style=\"text-align: right;\">\n",
       "      <th></th>\n",
       "      <th>month_year</th>\n",
       "      <th>w_humidity</th>\n",
       "      <th>w_temperature</th>\n",
       "      <th>w_weight</th>\n",
       "      <th>w_flow</th>\n",
       "      <th>s_humidity</th>\n",
       "      <th>s_temperature</th>\n",
       "      <th>s_weight</th>\n",
       "      <th>s_flow</th>\n",
       "      <th>w_city_temp</th>\n",
       "      <th>w_city_humid</th>\n",
       "      <th>s_city_temp</th>\n",
       "      <th>s_city_humid</th>\n",
       "    </tr>\n",
       "  </thead>\n",
       "  <tbody>\n",
       "    <tr>\n",
       "      <th>0</th>\n",
       "      <td>2017-01</td>\n",
       "      <td>88.92</td>\n",
       "      <td>4.13</td>\n",
       "      <td>52.12</td>\n",
       "      <td>-29.17</td>\n",
       "      <td>97.48</td>\n",
       "      <td>10.20</td>\n",
       "      <td>50215.16</td>\n",
       "      <td>-19.60</td>\n",
       "      <td>2.21</td>\n",
       "      <td>78.65</td>\n",
       "      <td>5.02</td>\n",
       "      <td>85.15</td>\n",
       "    </tr>\n",
       "    <tr>\n",
       "      <th>1</th>\n",
       "      <td>2017-02</td>\n",
       "      <td>86.74</td>\n",
       "      <td>11.56</td>\n",
       "      <td>50.00</td>\n",
       "      <td>-169.30</td>\n",
       "      <td>90.81</td>\n",
       "      <td>13.60</td>\n",
       "      <td>49183.05</td>\n",
       "      <td>-36.30</td>\n",
       "      <td>4.79</td>\n",
       "      <td>79.71</td>\n",
       "      <td>4.78</td>\n",
       "      <td>83.71</td>\n",
       "    </tr>\n",
       "    <tr>\n",
       "      <th>2</th>\n",
       "      <td>2017-03</td>\n",
       "      <td>80.17</td>\n",
       "      <td>16.01</td>\n",
       "      <td>48.71</td>\n",
       "      <td>-1272.61</td>\n",
       "      <td>94.62</td>\n",
       "      <td>21.40</td>\n",
       "      <td>47667.16</td>\n",
       "      <td>276.58</td>\n",
       "      <td>9.82</td>\n",
       "      <td>73.82</td>\n",
       "      <td>10.20</td>\n",
       "      <td>73.62</td>\n",
       "    </tr>\n",
       "    <tr>\n",
       "      <th>3</th>\n",
       "      <td>2017-04</td>\n",
       "      <td>86.30</td>\n",
       "      <td>22.66</td>\n",
       "      <td>49.59</td>\n",
       "      <td>-1681.17</td>\n",
       "      <td>92.79</td>\n",
       "      <td>33.64</td>\n",
       "      <td>50097.46</td>\n",
       "      <td>-431.90</td>\n",
       "      <td>8.59</td>\n",
       "      <td>71.86</td>\n",
       "      <td>8.79</td>\n",
       "      <td>73.63</td>\n",
       "    </tr>\n",
       "    <tr>\n",
       "      <th>4</th>\n",
       "      <td>2017-05</td>\n",
       "      <td>65.10</td>\n",
       "      <td>27.10</td>\n",
       "      <td>56.68</td>\n",
       "      <td>-4814.90</td>\n",
       "      <td>76.89</td>\n",
       "      <td>34.74</td>\n",
       "      <td>63299.94</td>\n",
       "      <td>2064.52</td>\n",
       "      <td>14.96</td>\n",
       "      <td>72.08</td>\n",
       "      <td>15.31</td>\n",
       "      <td>72.58</td>\n",
       "    </tr>\n",
       "  </tbody>\n",
       "</table>\n",
       "</div>"
      ],
      "text/plain": [
       "  month_year  w_humidity  w_temperature  w_weight   w_flow  s_humidity  \\\n",
       "0    2017-01       88.92           4.13     52.12   -29.17       97.48   \n",
       "1    2017-02       86.74          11.56     50.00  -169.30       90.81   \n",
       "2    2017-03       80.17          16.01     48.71 -1272.61       94.62   \n",
       "3    2017-04       86.30          22.66     49.59 -1681.17       92.79   \n",
       "4    2017-05       65.10          27.10     56.68 -4814.90       76.89   \n",
       "\n",
       "   s_temperature  s_weight   s_flow  w_city_temp  w_city_humid  s_city_temp  \\\n",
       "0          10.20  50215.16   -19.60         2.21         78.65         5.02   \n",
       "1          13.60  49183.05   -36.30         4.79         79.71         4.78   \n",
       "2          21.40  47667.16   276.58         9.82         73.82        10.20   \n",
       "3          33.64  50097.46  -431.90         8.59         71.86         8.79   \n",
       "4          34.74  63299.94  2064.52        14.96         72.08        15.31   \n",
       "\n",
       "   s_city_humid  \n",
       "0         85.15  \n",
       "1         83.71  \n",
       "2         73.62  \n",
       "3         73.63  \n",
       "4         72.58  "
      ]
     },
     "execution_count": 21,
     "metadata": {},
     "output_type": "execute_result"
    }
   ],
   "source": [
    "monthly = \"month_summary.csv\"\n",
    "\n",
    "monthly_df = pd.read_csv(monthly, encoding=\"ISO-8859-1\")\n",
    "monthly_df = monthly_df.round(2)\n",
    "monthly_df.head()"
   ]
  },
  {
   "cell_type": "code",
   "execution_count": 22,
   "metadata": {},
   "outputs": [],
   "source": [
    "monthly_df_clean = monthly_df.dropna()\n",
    "#monthly_df_clean"
   ]
  },
  {
   "cell_type": "code",
   "execution_count": 23,
   "metadata": {},
   "outputs": [],
   "source": [
    "#create new Wurzburg temperature dataframe \n",
    "w_temp_month_df = monthly_df_clean[['month_year', 'w_city_temp', 'w_flow', 'w_weight']]\n",
    "#w_temp_df"
   ]
  },
  {
   "cell_type": "code",
   "execution_count": null,
   "metadata": {},
   "outputs": [],
   "source": []
  },
  {
   "cell_type": "code",
   "execution_count": 24,
   "metadata": {},
   "outputs": [],
   "source": [
    "#create x and y variables for lin. regress. analysis monthly temp vs weight\n",
    "mon_x_axis_w_temp = w_temp_month_df['w_city_temp']\n",
    "mon_y_axis_w_weight = w_temp_month_df['w_weight']\n",
    "#x_axis_w_temp\n",
    "#y_axis_w_weight"
   ]
  },
  {
   "cell_type": "code",
   "execution_count": 25,
   "metadata": {},
   "outputs": [
    {
     "name": "stdout",
     "output_type": "stream",
     "text": [
      "0.22\n",
      "16.15\n"
     ]
    }
   ],
   "source": [
    "# Find min/max for temp to set limits\n",
    "temp_min = w_temp_month_df['w_city_temp'].min()\n",
    "temp_max = w_temp_month_df['w_city_temp'].max()\n",
    "print(temp_min)\n",
    "print(temp_max)"
   ]
  },
  {
   "cell_type": "code",
   "execution_count": 26,
   "metadata": {},
   "outputs": [
    {
     "name": "stdout",
     "output_type": "stream",
     "text": [
      "48.71\n",
      "67.2\n"
     ]
    }
   ],
   "source": [
    "# Find min/max for weight to set limits\n",
    "weight_min = w_temp_month_df['w_weight'].min()\n",
    "weight_max = w_temp_month_df['w_weight'].max()\n",
    "print(weight_min)\n",
    "print(weight_max)"
   ]
  },
  {
   "cell_type": "code",
   "execution_count": 27,
   "metadata": {},
   "outputs": [],
   "source": [
    "#set line for lin. regress. analysis daily temp vs weight\n",
    "(slope, intercept, _, _, _) = linregress(mon_x_axis_w_temp, mon_y_axis_w_weight)\n",
    "fit = slope * mon_x_axis_w_temp + intercept"
   ]
  },
  {
   "cell_type": "code",
   "execution_count": 28,
   "metadata": {},
   "outputs": [
    {
     "data": {
      "image/png": "[encoded data removed]",
      "text/plain": [
       "<Figure size 432x288 with 1 Axes>"
      ]
     },
     "metadata": {
      "needs_background": "light"
     },
     "output_type": "display_data"
    }
   ],
   "source": [
    "#Plot monthly temp vs weight\n",
    "fig, ax = plt.subplots()\n",
    "\n",
    "fig.suptitle(\"Wurzburg Average Monthly Hive Weight vs Average Monthly City Tempurature\", fontsize=16, fontweight=\"bold\")\n",
    "\n",
    "ax.set_xlim(0, 20)\n",
    "ax.set_ylim(40, 80)\n",
    "\n",
    "\n",
    "ax.set_xlabel(\"Average Monthly Temperature (in Celsius)\")\n",
    "ax.set_ylabel(\"Average Monthly Hive Weight (in Kg)\")\n",
    "\n",
    "ax.plot(mon_x_axis_w_temp, mon_y_axis_w_weight, linewidth=0, marker='o')\n",
    "ax.plot(mon_x_axis_w_temp, fit, 'r--')\n",
    "plt.grid()\n",
    "\n",
    "plt.show()"
   ]
  },
  {
   "cell_type": "code",
   "execution_count": 29,
   "metadata": {},
   "outputs": [
    {
     "data": {
      "text/plain": [
       "(0.6333592951018491, 0.0006773945024694385)"
      ]
     },
     "execution_count": 29,
     "metadata": {},
     "output_type": "execute_result"
    }
   ],
   "source": [
    "# Find the correlation coefficient and p-value monthly temp vs weight\n",
    "stats.pearsonr(mon_x_axis_w_temp, mon_y_axis_w_weight)\n",
    "# 95% chance that temp and weight are poorly correlated in Wurzburg colony."
   ]
  },
  {
   "cell_type": "code",
   "execution_count": null,
   "metadata": {},
   "outputs": [],
   "source": []
  },
  {
   "cell_type": "code",
   "execution_count": null,
   "metadata": {},
   "outputs": [],
   "source": []
  },
  {
   "cell_type": "code",
   "execution_count": 30,
   "metadata": {},
   "outputs": [],
   "source": [
    "###### Wurzburg Daily Temperature-Weight Analysis ########"
   ]
  },
  {
   "cell_type": "code",
   "execution_count": null,
   "metadata": {},
   "outputs": [],
   "source": []
  },
  {
   "cell_type": "code",
   "execution_count": 31,
   "metadata": {},
   "outputs": [],
   "source": [
    "daily = \"weather_hive_ws.csv\"\n",
    "\n",
    "daily_df = pd.read_csv(daily, encoding=\"ISO-8859-1\")\n",
    "daily_df = daily_df.round(2)\n",
    "#daily_df.head()"
   ]
  },
  {
   "cell_type": "code",
   "execution_count": 32,
   "metadata": {},
   "outputs": [],
   "source": [
    "#create new Wurzburg temperature dataframe \n",
    "w_temp_df = daily_df[['date', 'w_city_temp', 'w_flow', 'w_weight']]\n",
    "\n",
    "#w_temp_df.head()\n"
   ]
  },
  {
   "cell_type": "code",
   "execution_count": null,
   "metadata": {},
   "outputs": [],
   "source": []
  },
  {
   "cell_type": "code",
   "execution_count": 33,
   "metadata": {},
   "outputs": [],
   "source": [
    "#create x and y variables for lin. regress. analysis daily temp vs weight\n",
    "x_axis_w_temp = w_temp_df['w_city_temp']\n",
    "y_axis_w_weight = w_temp_df['w_weight']\n",
    "#x_axis_w_temp\n",
    "#y_axis_w_weight"
   ]
  },
  {
   "cell_type": "code",
   "execution_count": 34,
   "metadata": {},
   "outputs": [
    {
     "name": "stdout",
     "output_type": "stream",
     "text": [
      "0.08\n",
      "68.51\n"
     ]
    }
   ],
   "source": [
    "# Find min/max for weight to set limits\n",
    "weight_min = w_temp_df['w_weight'].min()\n",
    "weight_max = w_temp_df['w_weight'].max()\n",
    "print(weight_min)\n",
    "print(weight_max)"
   ]
  },
  {
   "cell_type": "code",
   "execution_count": 35,
   "metadata": {},
   "outputs": [
    {
     "name": "stdout",
     "output_type": "stream",
     "text": [
      "-9.2\n",
      "28.08\n"
     ]
    }
   ],
   "source": [
    "# Find min/max for tempurature to set limits\n",
    "temp_min = w_temp_df['w_city_temp'].min()\n",
    "temp_max = w_temp_df['w_city_temp'].max()\n",
    "print(temp_min)\n",
    "print(temp_max)"
   ]
  },
  {
   "cell_type": "code",
   "execution_count": 36,
   "metadata": {},
   "outputs": [],
   "source": [
    "#set line for lin. regress. analysis daily temp vs weight\n",
    "(slope, intercept, _, _, _) = linregress(x_axis_w_temp, y_axis_w_weight)\n",
    "fit = slope * x_axis_w_temp + intercept"
   ]
  },
  {
   "cell_type": "code",
   "execution_count": 37,
   "metadata": {},
   "outputs": [
    {
     "data": {
      "image/png": "[encoded data removed]",
      "text/plain": [
       "<Figure size 432x288 with 1 Axes>"
      ]
     },
     "metadata": {
      "needs_background": "light"
     },
     "output_type": "display_data"
    }
   ],
   "source": [
    "#Plot monthly temp vs weight\n",
    "fig, ax = plt.subplots()\n",
    "\n",
    "fig.suptitle(\"Wurzburg Average Daily Hive Weight vs Average Daily Tempurature\", fontsize=16, fontweight=\"bold\")\n",
    "\n",
    "ax.set_xlim(-15, 40)\n",
    "ax.set_ylim(0, 80)\n",
    "\n",
    "\n",
    "ax.set_xlabel(\"Average Monthly Tempurature (in Celsius)\")\n",
    "ax.set_ylabel(\"Average Monthly Hive Weight (in Kg)\")\n",
    "\n",
    "ax.plot(x_axis_w_temp, y_axis_w_weight, linewidth=0, marker='o')\n",
    "ax.plot(x_axis_w_temp, fit, 'r--')\n",
    "plt.grid()\n",
    "\n",
    "plt.show()"
   ]
  },
  {
   "cell_type": "code",
   "execution_count": 94,
   "metadata": {},
   "outputs": [
    {
     "data": {
      "text/plain": [
       "(0.3687635704465886, 2.116713337047591e-22)"
      ]
     },
     "execution_count": 94,
     "metadata": {},
     "output_type": "execute_result"
    }
   ],
   "source": [
    "# Find the correlation coefficient and p-value monthly temp vs weight\n",
    "stats.pearsonr(x_axis_w_temp, y_axis_w_weight)\n",
    "# 95% confident that temp and weight are poorly correlated in Wurzburg colony.\n",
    "# Outside temperature has little to no effect on the Wurzburg Bee Colony."
   ]
  },
  {
   "cell_type": "code",
   "execution_count": null,
   "metadata": {},
   "outputs": [],
   "source": []
  },
  {
   "cell_type": "code",
   "execution_count": null,
   "metadata": {},
   "outputs": [],
   "source": []
  },
  {
   "cell_type": "code",
   "execution_count": null,
   "metadata": {},
   "outputs": [],
   "source": []
  },
  {
   "cell_type": "code",
   "execution_count": 39,
   "metadata": {},
   "outputs": [],
   "source": [
    "###### Wurzburg Daily Temperature-Flow Analysis ########"
   ]
  },
  {
   "cell_type": "code",
   "execution_count": 40,
   "metadata": {},
   "outputs": [],
   "source": [
    "#create x and y variables for lin. regress. analysis daily temp vs weight\n",
    "#x_axis_w_temp = w_temp_df['w_city_temp']\n",
    "y_axis_w_flow = w_temp_df['w_flow']\n",
    "#x_axis_w_temp\n",
    "#y_axis_w_flow"
   ]
  },
  {
   "cell_type": "code",
   "execution_count": 41,
   "metadata": {},
   "outputs": [
    {
     "name": "stdout",
     "output_type": "stream",
     "text": [
      "0.08\n",
      "68.51\n"
     ]
    }
   ],
   "source": [
    "# Find min/max for weight to set limits\n",
    "flow_min = w_temp_df['w_flow'].min()\n",
    "flow_max = w_temp_df['w_flow'].max()\n",
    "print(weight_min)\n",
    "print(weight_max)"
   ]
  },
  {
   "cell_type": "code",
   "execution_count": 42,
   "metadata": {},
   "outputs": [],
   "source": [
    "#set line for lin. regress. analysis daily temp vs weight\n",
    "(slope, intercept, _, _, _) = linregress(x_axis_w_temp, y_axis_w_flow)\n",
    "fit = slope * x_axis_w_temp + intercept"
   ]
  },
  {
   "cell_type": "code",
   "execution_count": 43,
   "metadata": {},
   "outputs": [
    {
     "data": {
      "image/png": "[encoded data removed]",
      "text/plain": [
       "<Figure size 432x288 with 1 Axes>"
      ]
     },
     "metadata": {
      "needs_background": "light"
     },
     "output_type": "display_data"
    }
   ],
   "source": [
    "#Plot monthly temp vs weight\n",
    "fig, ax = plt.subplots()\n",
    "\n",
    "fig.suptitle(\"Wurzburg Average Daily Hive Flow vs Average Daily City Tempurature\", fontsize=16, fontweight=\"bold\")\n",
    "\n",
    "ax.set_xlim(-15, 40)\n",
    "ax.set_ylim(-20000, 4000)\n",
    "\n",
    "\n",
    "ax.set_xlabel(\"Average Daily City Temprature (in Celsius)\")\n",
    "ax.set_ylabel(\"Average Daily Hive Flow\")\n",
    "\n",
    "ax.plot(x_axis_w_temp, y_axis_w_flow, linewidth=0, marker='o')\n",
    "ax.plot(x_axis_w_temp, fit, 'r--')\n",
    "plt.grid()\n",
    "\n",
    "plt.show()"
   ]
  },
  {
   "cell_type": "code",
   "execution_count": 44,
   "metadata": {},
   "outputs": [
    {
     "data": {
      "text/plain": [
       "(-0.31491428777883285, 1.8751662034702389e-16)"
      ]
     },
     "execution_count": 44,
     "metadata": {},
     "output_type": "execute_result"
    }
   ],
   "source": [
    "# Find the correlation coefficient and p-value monthly temp vs flow\n",
    "stats.pearsonr(x_axis_w_temp, y_axis_w_flow)\n",
    "# 95% chance that city temp and flow have a poor negative correlation in Wurzburg colony.\n",
    "# Outside temperature has little to no effect on the Wurzburg Bee Colony's flow."
   ]
  },
  {
   "cell_type": "code",
   "execution_count": 72,
   "metadata": {},
   "outputs": [
    {
     "data": {
      "text/html": [
       "<div>\n",
       "<style scoped>\n",
       "    .dataframe tbody tr th:only-of-type {\n",
       "        vertical-align: middle;\n",
       "    }\n",
       "\n",
       "    .dataframe tbody tr th {\n",
       "        vertical-align: top;\n",
       "    }\n",
       "\n",
       "    .dataframe thead th {\n",
       "        text-align: right;\n",
       "    }\n",
       "</style>\n",
       "<table border=\"1\" class=\"dataframe\">\n",
       "  <thead>\n",
       "    <tr style=\"text-align: right;\">\n",
       "      <th></th>\n",
       "      <th>w_humidity</th>\n",
       "      <th>w_temperature</th>\n",
       "      <th>w_weight</th>\n",
       "      <th>w_flow</th>\n",
       "      <th>w_city_temp</th>\n",
       "      <th>w_city_humid</th>\n",
       "    </tr>\n",
       "  </thead>\n",
       "  <tbody>\n",
       "    <tr>\n",
       "      <th>0</th>\n",
       "      <td>92.06</td>\n",
       "      <td>-0.08</td>\n",
       "      <td>52.66</td>\n",
       "      <td>-6</td>\n",
       "      <td>-5.15</td>\n",
       "      <td>95.25</td>\n",
       "    </tr>\n",
       "    <tr>\n",
       "      <th>1</th>\n",
       "      <td>92.79</td>\n",
       "      <td>1.83</td>\n",
       "      <td>52.67</td>\n",
       "      <td>-9</td>\n",
       "      <td>1.58</td>\n",
       "      <td>86.21</td>\n",
       "    </tr>\n",
       "    <tr>\n",
       "      <th>2</th>\n",
       "      <td>91.17</td>\n",
       "      <td>3.08</td>\n",
       "      <td>52.65</td>\n",
       "      <td>-7</td>\n",
       "      <td>5.22</td>\n",
       "      <td>80.08</td>\n",
       "    </tr>\n",
       "    <tr>\n",
       "      <th>3</th>\n",
       "      <td>91.08</td>\n",
       "      <td>3.75</td>\n",
       "      <td>52.61</td>\n",
       "      <td>-21</td>\n",
       "      <td>14.47</td>\n",
       "      <td>59.08</td>\n",
       "    </tr>\n",
       "    <tr>\n",
       "      <th>4</th>\n",
       "      <td>82.66</td>\n",
       "      <td>2.26</td>\n",
       "      <td>52.62</td>\n",
       "      <td>-12</td>\n",
       "      <td>8.24</td>\n",
       "      <td>74.35</td>\n",
       "    </tr>\n",
       "  </tbody>\n",
       "</table>\n",
       "</div>"
      ],
      "text/plain": [
       "   w_humidity  w_temperature  w_weight  w_flow  w_city_temp  w_city_humid\n",
       "0       92.06          -0.08     52.66      -6        -5.15         95.25\n",
       "1       92.79           1.83     52.67      -9         1.58         86.21\n",
       "2       91.17           3.08     52.65      -7         5.22         80.08\n",
       "3       91.08           3.75     52.61     -21        14.47         59.08\n",
       "4       82.66           2.26     52.62     -12         8.24         74.35"
      ]
     },
     "execution_count": 72,
     "metadata": {},
     "output_type": "execute_result"
    }
   ],
   "source": [
    "wurz_df = daily_df[['w_humidity', 'w_temperature', 'w_weight', 'w_flow', 'w_city_temp', 'w_city_humid']]\n",
    "wurz_df.head()"
   ]
  },
  {
   "cell_type": "code",
   "execution_count": 46,
   "metadata": {},
   "outputs": [
    {
     "data": {
      "text/plain": [
       "<matplotlib.axes._subplots.AxesSubplot at 0x1bb01be6e80>"
      ]
     },
     "execution_count": 46,
     "metadata": {},
     "output_type": "execute_result"
    },
    {
     "data": {
      "image/png": "[encoded data removed]",
      "text/plain": [
       "<Figure size 720x720 with 2 Axes>"
      ]
     },
     "metadata": {
      "needs_background": "light"
     },
     "output_type": "display_data"
    }
   ],
   "source": [
    "Wurz_corr_mat = wurz_df.corr(method='pearson')\n",
    "plt.figure(figsize=(10,10))\n",
    "sns.heatmap(Wurz_corr_mat,vmax=1,square=True,annot=True,cmap='cubehelix')"
   ]
  },
  {
   "cell_type": "code",
   "execution_count": null,
   "metadata": {},
   "outputs": [],
   "source": []
  },
  {
   "cell_type": "code",
   "execution_count": null,
   "metadata": {},
   "outputs": [],
   "source": []
  },
  {
   "cell_type": "code",
   "execution_count": 47,
   "metadata": {},
   "outputs": [],
   "source": [
    "###### Wurzburg Daily Temperature-Weight Analysis ########"
   ]
  },
  {
   "cell_type": "code",
   "execution_count": null,
   "metadata": {},
   "outputs": [],
   "source": []
  },
  {
   "cell_type": "code",
   "execution_count": 48,
   "metadata": {},
   "outputs": [
    {
     "data": {
      "text/html": [
       "<div>\n",
       "<style scoped>\n",
       "    .dataframe tbody tr th:only-of-type {\n",
       "        vertical-align: middle;\n",
       "    }\n",
       "\n",
       "    .dataframe tbody tr th {\n",
       "        vertical-align: top;\n",
       "    }\n",
       "\n",
       "    .dataframe thead th {\n",
       "        text-align: right;\n",
       "    }\n",
       "</style>\n",
       "<table border=\"1\" class=\"dataframe\">\n",
       "  <thead>\n",
       "    <tr style=\"text-align: right;\">\n",
       "      <th></th>\n",
       "      <th>date</th>\n",
       "      <th>s_city_temp</th>\n",
       "      <th>s_flow</th>\n",
       "      <th>s_weight</th>\n",
       "    </tr>\n",
       "  </thead>\n",
       "  <tbody>\n",
       "    <tr>\n",
       "      <th>0</th>\n",
       "      <td>2017-01-01</td>\n",
       "      <td>5.00</td>\n",
       "      <td>-5</td>\n",
       "      <td>50736.79</td>\n",
       "    </tr>\n",
       "    <tr>\n",
       "      <th>1</th>\n",
       "      <td>2017-01-02</td>\n",
       "      <td>0.71</td>\n",
       "      <td>-22</td>\n",
       "      <td>50657.80</td>\n",
       "    </tr>\n",
       "    <tr>\n",
       "      <th>2</th>\n",
       "      <td>2017-01-03</td>\n",
       "      <td>4.71</td>\n",
       "      <td>-30</td>\n",
       "      <td>50769.79</td>\n",
       "    </tr>\n",
       "    <tr>\n",
       "      <th>3</th>\n",
       "      <td>2017-01-04</td>\n",
       "      <td>15.18</td>\n",
       "      <td>-28</td>\n",
       "      <td>50532.60</td>\n",
       "    </tr>\n",
       "    <tr>\n",
       "      <th>4</th>\n",
       "      <td>2017-01-05</td>\n",
       "      <td>12.21</td>\n",
       "      <td>-11</td>\n",
       "      <td>50109.81</td>\n",
       "    </tr>\n",
       "  </tbody>\n",
       "</table>\n",
       "</div>"
      ],
      "text/plain": [
       "         date  s_city_temp  s_flow  s_weight\n",
       "0  2017-01-01         5.00      -5  50736.79\n",
       "1  2017-01-02         0.71     -22  50657.80\n",
       "2  2017-01-03         4.71     -30  50769.79\n",
       "3  2017-01-04        15.18     -28  50532.60\n",
       "4  2017-01-05        12.21     -11  50109.81"
      ]
     },
     "execution_count": 48,
     "metadata": {},
     "output_type": "execute_result"
    }
   ],
   "source": [
    "#create new Schwartau temperature dataframe \n",
    "s_temp_df = daily_df[['date', 's_city_temp', 's_flow', 's_weight']]\n",
    "s_temp_df.head()"
   ]
  },
  {
   "cell_type": "code",
   "execution_count": 49,
   "metadata": {},
   "outputs": [],
   "source": [
    "#create x and y variables for lin. regress. analysis daily temp vs weight\n",
    "x_axis_s_temp = s_temp_df['s_city_temp']\n",
    "y_axis_s_weight = s_temp_df['s_weight']\n",
    "#x_axis_w_temp\n",
    "#y_axis_w_weight"
   ]
  },
  {
   "cell_type": "code",
   "execution_count": 50,
   "metadata": {},
   "outputs": [
    {
     "name": "stdout",
     "output_type": "stream",
     "text": [
      "453.2\n",
      "91227.27\n"
     ]
    }
   ],
   "source": [
    "# Find min/max for weight to set limits\n",
    "weight_min = s_temp_df['s_weight'].min()\n",
    "weight_max = s_temp_df['s_weight'].max()\n",
    "print(weight_min)\n",
    "print(weight_max)"
   ]
  },
  {
   "cell_type": "code",
   "execution_count": 51,
   "metadata": {},
   "outputs": [
    {
     "name": "stdout",
     "output_type": "stream",
     "text": [
      "-10.54\n",
      "27.93\n"
     ]
    }
   ],
   "source": [
    "temp_min = s_temp_df['s_city_temp'].min()\n",
    "temp_max = s_temp_df['s_city_temp'].max()\n",
    "print(temp_min)\n",
    "print(temp_max)"
   ]
  },
  {
   "cell_type": "code",
   "execution_count": 52,
   "metadata": {},
   "outputs": [],
   "source": [
    "#set line for lin. regress. analysis daily temp vs weight\n",
    "(slope, intercept, _, _, _) = linregress(x_axis_s_temp, y_axis_s_weight)\n",
    "fit = slope * x_axis_s_temp + intercept"
   ]
  },
  {
   "cell_type": "code",
   "execution_count": 53,
   "metadata": {},
   "outputs": [
    {
     "data": {
      "image/png": "[encoded data removed]",
      "text/plain": [
       "<Figure size 432x288 with 1 Axes>"
      ]
     },
     "metadata": {
      "needs_background": "light"
     },
     "output_type": "display_data"
    }
   ],
   "source": [
    "#Plot monthly temp vs weight\n",
    "fig, ax = plt.subplots()\n",
    "\n",
    "fig.suptitle(\"Schwartau Average Daily Hive Weight vs Average Daily City Tempurature\", fontsize=16, fontweight=\"bold\")\n",
    "\n",
    "ax.set_xlim(-15, 40)\n",
    "ax.set_ylim(400, 95000)\n",
    "\n",
    "\n",
    "ax.set_xlabel(\"Average Monthly Tempurature (in Celsius)\")\n",
    "ax.set_ylabel(\"Average Monthly Hive Weight (in Kg)\")\n",
    "\n",
    "ax.plot(x_axis_s_temp, y_axis_s_weight, linewidth=0, marker='o', color='g')\n",
    "ax.plot(x_axis_s_temp, fit, 'r--')\n",
    "plt.grid()\n",
    "\n",
    "plt.show()"
   ]
  },
  {
   "cell_type": "code",
   "execution_count": 54,
   "metadata": {},
   "outputs": [
    {
     "data": {
      "text/plain": [
       "(0.1387412015378249, 0.00038476095805547756)"
      ]
     },
     "execution_count": 54,
     "metadata": {},
     "output_type": "execute_result"
    }
   ],
   "source": [
    "# Find the correlation coefficient and p-value monthly temp vs weight\n",
    "stats.pearsonr(x_axis_s_temp, y_axis_s_weight)\n",
    "# 95% chance that temp and weight are poorly correlated in Schwartau colony.\n",
    "# Outside temperature has little to no effect on the Wurzburg Bee Colony."
   ]
  },
  {
   "cell_type": "code",
   "execution_count": null,
   "metadata": {},
   "outputs": [],
   "source": []
  },
  {
   "cell_type": "code",
   "execution_count": null,
   "metadata": {},
   "outputs": [],
   "source": []
  },
  {
   "cell_type": "code",
   "execution_count": 55,
   "metadata": {},
   "outputs": [],
   "source": [
    "###### Schwartau Daily Temperature-Flow Analysis ########"
   ]
  },
  {
   "cell_type": "code",
   "execution_count": null,
   "metadata": {},
   "outputs": [],
   "source": []
  },
  {
   "cell_type": "code",
   "execution_count": 57,
   "metadata": {},
   "outputs": [],
   "source": [
    "#create x and y variables for lin. regress. analysis daily temp vs flow\n",
    "#x_axis_s_temp = s_temp_df['s_city_temp']\n",
    "y_axis_s_flow = s_temp_df['s_flow']\n",
    "#x_axis_w_temp\n",
    "#y_axis_w_flow"
   ]
  },
  {
   "cell_type": "code",
   "execution_count": 58,
   "metadata": {},
   "outputs": [
    {
     "name": "stdout",
     "output_type": "stream",
     "text": [
      "-7682\n",
      "75347\n"
     ]
    }
   ],
   "source": [
    "# Find min/max for weight to set limits\n",
    "flow_min = s_temp_df['s_flow'].min()\n",
    "flow_max = s_temp_df['s_flow'].max()\n",
    "print(flow_min)\n",
    "print(flow_max)"
   ]
  },
  {
   "cell_type": "code",
   "execution_count": 59,
   "metadata": {},
   "outputs": [],
   "source": [
    "#set line for lin. regress. analysis daily temp vs weight\n",
    "(slope, intercept, _, _, _) = linregress(x_axis_s_temp, y_axis_s_flow)\n",
    "fit = slope * x_axis_s_temp + intercept"
   ]
  },
  {
   "cell_type": "code",
   "execution_count": 60,
   "metadata": {},
   "outputs": [
    {
     "data": {
      "image/png": "[encoded data removed]",
      "text/plain": [
       "<Figure size 432x288 with 1 Axes>"
      ]
     },
     "metadata": {
      "needs_background": "light"
     },
     "output_type": "display_data"
    }
   ],
   "source": [
    "#Plot monthly temp vs weight\n",
    "fig, ax = plt.subplots()\n",
    "\n",
    "fig.suptitle(\"Schwartau Average Daily Hive Flow vs Average Daily Tempurature\", fontsize=16, fontweight=\"bold\")\n",
    "\n",
    "ax.set_xlim(-15, 40)\n",
    "ax.set_ylim(-8000, 80000)\n",
    "\n",
    "\n",
    "ax.set_xlabel(\"Average Daily City Temprature (in Celsius)\")\n",
    "ax.set_ylabel(\"Average Daily Hive Flow\")\n",
    "\n",
    "ax.plot(x_axis_s_temp, y_axis_s_flow, linewidth=0, marker='o')\n",
    "ax.plot(x_axis_s_temp, fit, 'r--')\n",
    "plt.grid()\n",
    "\n",
    "plt.show()"
   ]
  },
  {
   "cell_type": "code",
   "execution_count": 61,
   "metadata": {},
   "outputs": [
    {
     "data": {
      "text/plain": [
       "(0.2840173391198385, 1.5209846996531873e-13)"
      ]
     },
     "execution_count": 61,
     "metadata": {},
     "output_type": "execute_result"
    }
   ],
   "source": [
    "# Find the correlation coefficient and p-value monthly temp vs flow\n",
    "stats.pearsonr(x_axis_s_temp, y_axis_s_flow)\n",
    "# 95% chance that city temp and flow have a poor negative correlation in Schwartau colony.\n",
    "# Outside temperature has little to no effect on the Schwartau Bee Colony's flow."
   ]
  },
  {
   "cell_type": "code",
   "execution_count": 69,
   "metadata": {},
   "outputs": [
    {
     "data": {
      "text/html": [
       "<div>\n",
       "<style scoped>\n",
       "    .dataframe tbody tr th:only-of-type {\n",
       "        vertical-align: middle;\n",
       "    }\n",
       "\n",
       "    .dataframe tbody tr th {\n",
       "        vertical-align: top;\n",
       "    }\n",
       "\n",
       "    .dataframe thead th {\n",
       "        text-align: right;\n",
       "    }\n",
       "</style>\n",
       "<table border=\"1\" class=\"dataframe\">\n",
       "  <thead>\n",
       "    <tr style=\"text-align: right;\">\n",
       "      <th></th>\n",
       "      <th>s_humidity</th>\n",
       "      <th>s_temperature</th>\n",
       "      <th>s_weight</th>\n",
       "      <th>s_flow</th>\n",
       "      <th>s_city_temp</th>\n",
       "      <th>s_city_humid</th>\n",
       "    </tr>\n",
       "  </thead>\n",
       "  <tbody>\n",
       "    <tr>\n",
       "      <th>0</th>\n",
       "      <td>98.04</td>\n",
       "      <td>15.48</td>\n",
       "      <td>50736.79</td>\n",
       "      <td>-5</td>\n",
       "      <td>5.00</td>\n",
       "      <td>91.00</td>\n",
       "    </tr>\n",
       "    <tr>\n",
       "      <th>1</th>\n",
       "      <td>98.81</td>\n",
       "      <td>13.38</td>\n",
       "      <td>50657.80</td>\n",
       "      <td>-22</td>\n",
       "      <td>0.71</td>\n",
       "      <td>95.42</td>\n",
       "    </tr>\n",
       "    <tr>\n",
       "      <th>2</th>\n",
       "      <td>98.40</td>\n",
       "      <td>16.18</td>\n",
       "      <td>50769.79</td>\n",
       "      <td>-30</td>\n",
       "      <td>4.71</td>\n",
       "      <td>80.75</td>\n",
       "    </tr>\n",
       "    <tr>\n",
       "      <th>3</th>\n",
       "      <td>97.29</td>\n",
       "      <td>14.72</td>\n",
       "      <td>50532.60</td>\n",
       "      <td>-28</td>\n",
       "      <td>15.18</td>\n",
       "      <td>71.68</td>\n",
       "    </tr>\n",
       "    <tr>\n",
       "      <th>4</th>\n",
       "      <td>96.58</td>\n",
       "      <td>9.06</td>\n",
       "      <td>50109.81</td>\n",
       "      <td>-11</td>\n",
       "      <td>12.21</td>\n",
       "      <td>57.17</td>\n",
       "    </tr>\n",
       "  </tbody>\n",
       "</table>\n",
       "</div>"
      ],
      "text/plain": [
       "   s_humidity  s_temperature  s_weight  s_flow  s_city_temp  s_city_humid\n",
       "0       98.04          15.48  50736.79      -5         5.00         91.00\n",
       "1       98.81          13.38  50657.80     -22         0.71         95.42\n",
       "2       98.40          16.18  50769.79     -30         4.71         80.75\n",
       "3       97.29          14.72  50532.60     -28        15.18         71.68\n",
       "4       96.58           9.06  50109.81     -11        12.21         57.17"
      ]
     },
     "execution_count": 69,
     "metadata": {},
     "output_type": "execute_result"
    }
   ],
   "source": [
    "schw_df = daily_df[['s_humidity', 's_temperature', 's_weight', 's_flow', 's_city_temp', 's_city_humid']]\n",
    "schw_df.head()"
   ]
  },
  {
   "cell_type": "code",
   "execution_count": 63,
   "metadata": {},
   "outputs": [
    {
     "data": {
      "text/plain": [
       "<matplotlib.axes._subplots.AxesSubplot at 0x1bb01f5d7b8>"
      ]
     },
     "execution_count": 63,
     "metadata": {},
     "output_type": "execute_result"
    },
    {
     "data": {
      "image/png": "[encoded data removed]",
      "text/plain": [
       "<Figure size 720x720 with 2 Axes>"
      ]
     },
     "metadata": {
      "needs_background": "light"
     },
     "output_type": "display_data"
    }
   ],
   "source": [
    "Schw_corr_mat = schw_df.corr(method='pearson')\n",
    "plt.figure(figsize=(10,10))\n",
    "sns.heatmap(Schw_corr_mat,vmax=1,square=True,annot=True,cmap='cubehelix')"
   ]
  },
  {
   "cell_type": "code",
   "execution_count": null,
   "metadata": {},
   "outputs": [],
   "source": []
  },
  {
   "cell_type": "code",
   "execution_count": null,
   "metadata": {},
   "outputs": [],
   "source": []
  },
  {
   "cell_type": "code",
   "execution_count": null,
   "metadata": {},
   "outputs": [],
   "source": [
    "#### Wurzburg Time Series Analysis ####"
   ]
  },
  {
   "cell_type": "code",
   "execution_count": null,
   "metadata": {},
   "outputs": [],
   "source": []
  },
  {
   "cell_type": "code",
   "execution_count": 70,
   "metadata": {},
   "outputs": [
    {
     "data": {
      "text/html": [
       "<div>\n",
       "<style scoped>\n",
       "    .dataframe tbody tr th:only-of-type {\n",
       "        vertical-align: middle;\n",
       "    }\n",
       "\n",
       "    .dataframe tbody tr th {\n",
       "        vertical-align: top;\n",
       "    }\n",
       "\n",
       "    .dataframe thead th {\n",
       "        text-align: right;\n",
       "    }\n",
       "</style>\n",
       "<table border=\"1\" class=\"dataframe\">\n",
       "  <thead>\n",
       "    <tr style=\"text-align: right;\">\n",
       "      <th></th>\n",
       "      <th>w_humidity</th>\n",
       "      <th>w_temperature</th>\n",
       "      <th>w_weight</th>\n",
       "      <th>w_flow</th>\n",
       "      <th>w_city_temp</th>\n",
       "      <th>w_city_humid</th>\n",
       "    </tr>\n",
       "    <tr>\n",
       "      <th>date</th>\n",
       "      <th></th>\n",
       "      <th></th>\n",
       "      <th></th>\n",
       "      <th></th>\n",
       "      <th></th>\n",
       "      <th></th>\n",
       "    </tr>\n",
       "  </thead>\n",
       "  <tbody>\n",
       "    <tr>\n",
       "      <th>2017-01-01</th>\n",
       "      <td>92.06</td>\n",
       "      <td>-0.08</td>\n",
       "      <td>52.66</td>\n",
       "      <td>-6</td>\n",
       "      <td>-5.15</td>\n",
       "      <td>95.25</td>\n",
       "    </tr>\n",
       "    <tr>\n",
       "      <th>2017-01-02</th>\n",
       "      <td>92.79</td>\n",
       "      <td>1.83</td>\n",
       "      <td>52.67</td>\n",
       "      <td>-9</td>\n",
       "      <td>1.58</td>\n",
       "      <td>86.21</td>\n",
       "    </tr>\n",
       "    <tr>\n",
       "      <th>2017-01-03</th>\n",
       "      <td>91.17</td>\n",
       "      <td>3.08</td>\n",
       "      <td>52.65</td>\n",
       "      <td>-7</td>\n",
       "      <td>5.22</td>\n",
       "      <td>80.08</td>\n",
       "    </tr>\n",
       "    <tr>\n",
       "      <th>2017-01-04</th>\n",
       "      <td>91.08</td>\n",
       "      <td>3.75</td>\n",
       "      <td>52.61</td>\n",
       "      <td>-21</td>\n",
       "      <td>14.47</td>\n",
       "      <td>59.08</td>\n",
       "    </tr>\n",
       "    <tr>\n",
       "      <th>2017-01-05</th>\n",
       "      <td>82.66</td>\n",
       "      <td>2.26</td>\n",
       "      <td>52.62</td>\n",
       "      <td>-12</td>\n",
       "      <td>8.24</td>\n",
       "      <td>74.35</td>\n",
       "    </tr>\n",
       "  </tbody>\n",
       "</table>\n",
       "</div>"
      ],
      "text/plain": [
       "            w_humidity  w_temperature  w_weight  w_flow  w_city_temp  \\\n",
       "date                                                                   \n",
       "2017-01-01       92.06          -0.08     52.66      -6        -5.15   \n",
       "2017-01-02       92.79           1.83     52.67      -9         1.58   \n",
       "2017-01-03       91.17           3.08     52.65      -7         5.22   \n",
       "2017-01-04       91.08           3.75     52.61     -21        14.47   \n",
       "2017-01-05       82.66           2.26     52.62     -12         8.24   \n",
       "\n",
       "            w_city_humid  \n",
       "date                      \n",
       "2017-01-01         95.25  \n",
       "2017-01-02         86.21  \n",
       "2017-01-03         80.08  \n",
       "2017-01-04         59.08  \n",
       "2017-01-05         74.35  "
      ]
     },
     "execution_count": 70,
     "metadata": {},
     "output_type": "execute_result"
    }
   ],
   "source": [
    "wurz_ts_df = daily_df[['date','w_humidity', 'w_temperature', 'w_weight', 'w_flow', 'w_city_temp', 'w_city_humid']]\n",
    "wurz_ts_df.set_index('date', inplace=True)\n",
    "wurz_ts_df.head()"
   ]
  },
  {
   "cell_type": "code",
   "execution_count": null,
   "metadata": {},
   "outputs": [],
   "source": []
  },
  {
   "cell_type": "code",
   "execution_count": 104,
   "metadata": {},
   "outputs": [
    {
     "data": {
      "image/png": "[encoded data removed]",
      "text/plain": [
       "<Figure size 1440x720 with 1 Axes>"
      ]
     },
     "metadata": {
      "needs_background": "light"
     },
     "output_type": "display_data"
    }
   ],
   "source": [
    "# Wurz weight time series\n",
    "\n",
    "wurz_ts_df[['w_weight']].plot(figsize=(20,10), linewidth=5, fontsize=20)\n",
    "\n",
    "\n",
    "plt.suptitle(\"Wurzburg Daily Hive Weight Over Time\", fontsize=16, fontweight=\"bold\")\n",
    "plt.grid()\n",
    "plt.xlabel('date', fontsize=20)\n",
    "plt.ylabel('Hive Weight (in Kg))', fontsize=20);"
   ]
  },
  {
   "cell_type": "code",
   "execution_count": null,
   "metadata": {},
   "outputs": [],
   "source": []
  },
  {
   "cell_type": "code",
   "execution_count": 106,
   "metadata": {},
   "outputs": [
    {
     "data": {
      "image/png": "[encoded data removed]",
      "text/plain": [
       "<Figure size 1440x720 with 1 Axes>"
      ]
     },
     "metadata": {
      "needs_background": "light"
     },
     "output_type": "display_data"
    }
   ],
   "source": [
    "# Wurz flow time series\n",
    "\n",
    "wurz_ts_df[['w_flow']].plot(figsize=(20,10), linewidth=5, fontsize=20, color= 'g')\n",
    "\n",
    "plt.suptitle(\"Wurzburg Daily Hive Flow Over Time\", fontsize=16, fontweight=\"bold\")\n",
    "plt.grid()\n",
    "\n",
    "plt.xlabel('date', fontsize=20)\n",
    "plt.ylabel('Ave. Daily Flow', fontsize=20);"
   ]
  },
  {
   "cell_type": "code",
   "execution_count": 91,
   "metadata": {},
   "outputs": [
    {
     "data": {
      "image/png": "[encoded data removed]",
      "text/plain": [
       "<Figure size 1440x720 with 1 Axes>"
      ]
     },
     "metadata": {
      "needs_background": "light"
     },
     "output_type": "display_data"
    }
   ],
   "source": [
    "wurz_ts_df[['w_weight']].rolling(28).mean().plot(figsize=(20,10), linewidth=5, fontsize=20)\n",
    "plt.xlabel('date', fontsize=20);"
   ]
  },
  {
   "cell_type": "code",
   "execution_count": 88,
   "metadata": {},
   "outputs": [
    {
     "data": {
      "image/png": "[encoded data removed]",
      "text/plain": [
       "<Figure size 1440x720 with 1 Axes>"
      ]
     },
     "metadata": {
      "needs_background": "light"
     },
     "output_type": "display_data"
    }
   ],
   "source": [
    "wurz_ts_df[['w_flow']].rolling(28).mean().plot(figsize=(20,10), linewidth=5, fontsize=20, color='g')\n",
    "plt.xlabel('date', fontsize=20);"
   ]
  },
  {
   "cell_type": "code",
   "execution_count": 92,
   "metadata": {},
   "outputs": [
    {
     "data": {
      "image/png": "[encoded data removed]",
      "text/plain": [
       "<Figure size 1440x720 with 1 Axes>"
      ]
     },
     "metadata": {
      "needs_background": "light"
     },
     "output_type": "display_data"
    }
   ],
   "source": [
    "wurz_ts_df[['w_weight']].diff().plot(figsize=(20,10), linewidth=5, fontsize=20)\n",
    "plt.xlabel('date', fontsize=20);"
   ]
  },
  {
   "cell_type": "code",
   "execution_count": null,
   "metadata": {},
   "outputs": [],
   "source": []
  }
 ],
 "metadata": {
  "kernelspec": {
   "display_name": "Python 3",
   "language": "python",
   "name": "python3"
  },
  "language_info": {
   "codemirror_mode": {
    "name": "ipython",
    "version": 3
   },
   "file_extension": ".py",
   "mimetype": "text/x-python",
   "name": "python",
   "nbconvert_exporter": "python",
   "pygments_lexer": "ipython3",
   "version": "3.7.3"
  }
 },
 "nbformat": 4,
 "nbformat_minor": 2
}
