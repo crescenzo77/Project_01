{
 "cells": [
  {
   "cell_type": "code",
   "execution_count": 1,
   "metadata": {},
   "outputs": [
    {
     "name": "stdout",
     "output_type": "stream",
     "text": [
      "Requirement already up-to-date: statsmodels in c:\\users\\dinesh\\anaconda3\\lib\\site-packages (0.10.0)\n",
      "Requirement already satisfied, skipping upgrade: patsy>=0.4.0 in c:\\users\\dinesh\\anaconda3\\lib\\site-packages (from statsmodels) (0.5.1)\n",
      "Requirement already satisfied, skipping upgrade: scipy>=0.18 in c:\\users\\dinesh\\anaconda3\\lib\\site-packages (from statsmodels) (1.3.0)\n",
      "Requirement already satisfied, skipping upgrade: numpy>=1.11 in c:\\users\\dinesh\\anaconda3\\lib\\site-packages (from statsmodels) (1.16.2)\n",
      "Requirement already satisfied, skipping upgrade: pandas>=0.19 in c:\\users\\dinesh\\anaconda3\\lib\\site-packages (from statsmodels) (0.24.2)\n",
      "Requirement already satisfied, skipping upgrade: six in c:\\users\\dinesh\\anaconda3\\lib\\site-packages (from patsy>=0.4.0->statsmodels) (1.12.0)\n",
      "Requirement already satisfied, skipping upgrade: python-dateutil>=2.5.0 in c:\\users\\dinesh\\anaconda3\\lib\\site-packages (from pandas>=0.19->statsmodels) (2.8.0)\n",
      "Requirement already satisfied, skipping upgrade: pytz>=2011k in c:\\users\\dinesh\\anaconda3\\lib\\site-packages (from pandas>=0.19->statsmodels) (2018.9)\n"
     ]
    }
   ],
   "source": [
    "!pip install -U statsmodels"
   ]
  },
  {
   "cell_type": "code",
   "execution_count": 2,
   "metadata": {},
   "outputs": [],
   "source": [
    "# Bee Demo\n",
    "\n",
    "%matplotlib inline\n",
    "# Dependencies and Setup\n",
    "import matplotlib.pyplot as plt\n",
    "import pandas as pd\n",
    "import numpy as np\n",
    "from numpy import exp\n",
    "import os\n",
    "import datetime\n",
    "import scipy \n",
    "from scipy import stats \n",
    "import scipy.stats as sp\n",
    "from scipy.stats import shapiro\n",
    "from scipy.stats import spearmanr\n",
    "import statsmodels.api as sm\n",
    "from statsmodels.formula.api import ols\n",
    "from scipy.stats import ttest_rel\n",
    "from scipy.stats import ttest_ind\n"
   ]
  },
  {
   "cell_type": "code",
   "execution_count": 3,
   "metadata": {},
   "outputs": [],
   "source": [
    "#clean up data from openweather\n",
    "\n",
    "import warnings\n",
    "warnings.filterwarnings('ignore')\n"
   ]
  },
  {
   "cell_type": "code",
   "execution_count": 4,
   "metadata": {},
   "outputs": [
    {
     "data": {
      "text/html": [
       "<div>\n",
       "<style scoped>\n",
       "    .dataframe tbody tr th:only-of-type {\n",
       "        vertical-align: middle;\n",
       "    }\n",
       "\n",
       "    .dataframe tbody tr th {\n",
       "        vertical-align: top;\n",
       "    }\n",
       "\n",
       "    .dataframe thead th {\n",
       "        text-align: right;\n",
       "    }\n",
       "</style>\n",
       "<table border=\"1\" class=\"dataframe\">\n",
       "  <thead>\n",
       "    <tr style=\"text-align: right;\">\n",
       "      <th></th>\n",
       "      <th>Local time in Lubeck / Blankensee (airport)</th>\n",
       "      <th>T</th>\n",
       "      <th>P0</th>\n",
       "      <th>P</th>\n",
       "      <th>U</th>\n",
       "      <th>DD</th>\n",
       "      <th>Ff</th>\n",
       "      <th>ff10</th>\n",
       "      <th>WW</th>\n",
       "      <th>W'W'</th>\n",
       "      <th>c</th>\n",
       "      <th>VV</th>\n",
       "      <th>Td</th>\n",
       "    </tr>\n",
       "  </thead>\n",
       "  <tbody>\n",
       "    <tr>\n",
       "      <th>0</th>\n",
       "      <td>30.05.2019 20:50</td>\n",
       "      <td>17.0</td>\n",
       "      <td>763.6</td>\n",
       "      <td>765.0</td>\n",
       "      <td>77.0</td>\n",
       "      <td>Wind blowing from the south-west</td>\n",
       "      <td>4.0</td>\n",
       "      <td>NaN</td>\n",
       "      <td>NaN</td>\n",
       "      <td>NaN</td>\n",
       "      <td>Few clouds (10-30%) 420 m, broken clouds (60-9...</td>\n",
       "      <td>10.0 and more</td>\n",
       "      <td>13.0</td>\n",
       "    </tr>\n",
       "    <tr>\n",
       "      <th>1</th>\n",
       "      <td>30.05.2019 19:50</td>\n",
       "      <td>18.0</td>\n",
       "      <td>763.6</td>\n",
       "      <td>765.0</td>\n",
       "      <td>73.0</td>\n",
       "      <td>Wind blowing from the south-west</td>\n",
       "      <td>4.0</td>\n",
       "      <td>NaN</td>\n",
       "      <td>NaN</td>\n",
       "      <td>NaN</td>\n",
       "      <td>Few clouds (10-30%) 510 m, scattered clouds (4...</td>\n",
       "      <td>10.0 and more</td>\n",
       "      <td>13.0</td>\n",
       "    </tr>\n",
       "    <tr>\n",
       "      <th>2</th>\n",
       "      <td>30.05.2019 19:20</td>\n",
       "      <td>18.0</td>\n",
       "      <td>763.6</td>\n",
       "      <td>765.0</td>\n",
       "      <td>73.0</td>\n",
       "      <td>Wind blowing from the south-west</td>\n",
       "      <td>5.0</td>\n",
       "      <td>NaN</td>\n",
       "      <td>NaN</td>\n",
       "      <td>NaN</td>\n",
       "      <td>Broken clouds (60-90%) 1410 m</td>\n",
       "      <td>10.0 and more</td>\n",
       "      <td>13.0</td>\n",
       "    </tr>\n",
       "    <tr>\n",
       "      <th>3</th>\n",
       "      <td>30.05.2019 18:50</td>\n",
       "      <td>18.0</td>\n",
       "      <td>763.6</td>\n",
       "      <td>765.0</td>\n",
       "      <td>73.0</td>\n",
       "      <td>Wind blowing from the south-west</td>\n",
       "      <td>5.0</td>\n",
       "      <td>NaN</td>\n",
       "      <td>NaN</td>\n",
       "      <td>NaN</td>\n",
       "      <td>Few clouds (10-30%) 990 m</td>\n",
       "      <td>10.0 and more</td>\n",
       "      <td>13.0</td>\n",
       "    </tr>\n",
       "    <tr>\n",
       "      <th>4</th>\n",
       "      <td>30.05.2019 18:20</td>\n",
       "      <td>18.0</td>\n",
       "      <td>763.6</td>\n",
       "      <td>765.0</td>\n",
       "      <td>73.0</td>\n",
       "      <td>Wind blowing from the south-west</td>\n",
       "      <td>5.0</td>\n",
       "      <td>NaN</td>\n",
       "      <td>NaN</td>\n",
       "      <td>NaN</td>\n",
       "      <td>Few clouds (10-30%) 990 m, broken clouds (60-9...</td>\n",
       "      <td>10.0 and more</td>\n",
       "      <td>13.0</td>\n",
       "    </tr>\n",
       "  </tbody>\n",
       "</table>\n",
       "</div>"
      ],
      "text/plain": [
       "  Local time in Lubeck / Blankensee (airport)     T     P0      P     U  \\\n",
       "0                            30.05.2019 20:50  17.0  763.6  765.0  77.0   \n",
       "1                            30.05.2019 19:50  18.0  763.6  765.0  73.0   \n",
       "2                            30.05.2019 19:20  18.0  763.6  765.0  73.0   \n",
       "3                            30.05.2019 18:50  18.0  763.6  765.0  73.0   \n",
       "4                            30.05.2019 18:20  18.0  763.6  765.0  73.0   \n",
       "\n",
       "                                 DD   Ff  ff10   WW W'W'  \\\n",
       "0  Wind blowing from the south-west  4.0   NaN  NaN  NaN   \n",
       "1  Wind blowing from the south-west  4.0   NaN  NaN  NaN   \n",
       "2  Wind blowing from the south-west  5.0   NaN  NaN  NaN   \n",
       "3  Wind blowing from the south-west  5.0   NaN  NaN  NaN   \n",
       "4  Wind blowing from the south-west  5.0   NaN  NaN  NaN   \n",
       "\n",
       "                                                   c             VV    Td  \n",
       "0  Few clouds (10-30%) 420 m, broken clouds (60-9...  10.0 and more  13.0  \n",
       "1  Few clouds (10-30%) 510 m, scattered clouds (4...  10.0 and more  13.0  \n",
       "2                      Broken clouds (60-90%) 1410 m  10.0 and more  13.0  \n",
       "3                          Few clouds (10-30%) 990 m  10.0 and more  13.0  \n",
       "4  Few clouds (10-30%) 990 m, broken clouds (60-9...  10.0 and more  13.0  "
      ]
     },
     "execution_count": 4,
     "metadata": {},
     "output_type": "execute_result"
    }
   ],
   "source": [
    "#import csv files\n",
    "\n",
    "ww_csv = \"data/Wurzburg_Weather.csv\"\n",
    "\n",
    "Wurz_df = pd.read_csv(ww_csv, encoding=\"utf-8\")\n",
    "Wurz_df.head()\n",
    "\n",
    "sw_csv = \"data/Schwartau-Lubeck_Weather.csv\"\n",
    "\n",
    "schwa_df = pd.read_csv(sw_csv, encoding=\"utf-8\")\n",
    "schwa_df.head()"
   ]
  },
  {
   "cell_type": "code",
   "execution_count": 5,
   "metadata": {},
   "outputs": [
    {
     "data": {
      "text/html": [
       "<div>\n",
       "<style scoped>\n",
       "    .dataframe tbody tr th:only-of-type {\n",
       "        vertical-align: middle;\n",
       "    }\n",
       "\n",
       "    .dataframe tbody tr th {\n",
       "        vertical-align: top;\n",
       "    }\n",
       "\n",
       "    .dataframe thead th {\n",
       "        text-align: right;\n",
       "    }\n",
       "</style>\n",
       "<table border=\"1\" class=\"dataframe\">\n",
       "  <thead>\n",
       "    <tr style=\"text-align: right;\">\n",
       "      <th></th>\n",
       "      <th>Local time in Lubeck / Blankensee (airport)</th>\n",
       "      <th>T</th>\n",
       "      <th>U</th>\n",
       "    </tr>\n",
       "  </thead>\n",
       "  <tbody>\n",
       "    <tr>\n",
       "      <th>0</th>\n",
       "      <td>30.05.2019 20:50</td>\n",
       "      <td>17.0</td>\n",
       "      <td>77.0</td>\n",
       "    </tr>\n",
       "    <tr>\n",
       "      <th>1</th>\n",
       "      <td>30.05.2019 19:50</td>\n",
       "      <td>18.0</td>\n",
       "      <td>73.0</td>\n",
       "    </tr>\n",
       "    <tr>\n",
       "      <th>2</th>\n",
       "      <td>30.05.2019 19:20</td>\n",
       "      <td>18.0</td>\n",
       "      <td>73.0</td>\n",
       "    </tr>\n",
       "    <tr>\n",
       "      <th>3</th>\n",
       "      <td>30.05.2019 18:50</td>\n",
       "      <td>18.0</td>\n",
       "      <td>73.0</td>\n",
       "    </tr>\n",
       "    <tr>\n",
       "      <th>4</th>\n",
       "      <td>30.05.2019 18:20</td>\n",
       "      <td>18.0</td>\n",
       "      <td>73.0</td>\n",
       "    </tr>\n",
       "  </tbody>\n",
       "</table>\n",
       "</div>"
      ],
      "text/plain": [
       "  Local time in Lubeck / Blankensee (airport)     T     U\n",
       "0                            30.05.2019 20:50  17.0  77.0\n",
       "1                            30.05.2019 19:50  18.0  73.0\n",
       "2                            30.05.2019 19:20  18.0  73.0\n",
       "3                            30.05.2019 18:50  18.0  73.0\n",
       "4                            30.05.2019 18:20  18.0  73.0"
      ]
     },
     "execution_count": 5,
     "metadata": {},
     "output_type": "execute_result"
    }
   ],
   "source": [
    "#create DF with only relevant data\n",
    "\n",
    "Wurz_T_U_df = Wurz_df[['Local time in Wurzburg', 'T', 'U']]\n",
    "Wurz_T_U_df.head()\n",
    "\n",
    "schwa_T_U_df = schwa_df[['Local time in Lubeck / Blankensee (airport)', 'T', 'U']]\n",
    "schwa_T_U_df.head()"
   ]
  },
  {
   "cell_type": "code",
   "execution_count": 6,
   "metadata": {},
   "outputs": [
    {
     "data": {
      "text/html": [
       "<div>\n",
       "<style scoped>\n",
       "    .dataframe tbody tr th:only-of-type {\n",
       "        vertical-align: middle;\n",
       "    }\n",
       "\n",
       "    .dataframe tbody tr th {\n",
       "        vertical-align: top;\n",
       "    }\n",
       "\n",
       "    .dataframe thead th {\n",
       "        text-align: right;\n",
       "    }\n",
       "</style>\n",
       "<table border=\"1\" class=\"dataframe\">\n",
       "  <thead>\n",
       "    <tr style=\"text-align: right;\">\n",
       "      <th></th>\n",
       "      <th>Local time in Lubeck / Blankensee (airport)</th>\n",
       "      <th>T</th>\n",
       "      <th>U</th>\n",
       "      <th>Date</th>\n",
       "      <th>Time</th>\n",
       "    </tr>\n",
       "  </thead>\n",
       "  <tbody>\n",
       "    <tr>\n",
       "      <th>0</th>\n",
       "      <td>30.05.2019 20:50</td>\n",
       "      <td>17.0</td>\n",
       "      <td>77.0</td>\n",
       "      <td>2019-05-30</td>\n",
       "      <td>20:50:00</td>\n",
       "    </tr>\n",
       "    <tr>\n",
       "      <th>1</th>\n",
       "      <td>30.05.2019 19:50</td>\n",
       "      <td>18.0</td>\n",
       "      <td>73.0</td>\n",
       "      <td>2019-05-30</td>\n",
       "      <td>19:50:00</td>\n",
       "    </tr>\n",
       "    <tr>\n",
       "      <th>2</th>\n",
       "      <td>30.05.2019 19:20</td>\n",
       "      <td>18.0</td>\n",
       "      <td>73.0</td>\n",
       "      <td>2019-05-30</td>\n",
       "      <td>19:20:00</td>\n",
       "    </tr>\n",
       "    <tr>\n",
       "      <th>3</th>\n",
       "      <td>30.05.2019 18:50</td>\n",
       "      <td>18.0</td>\n",
       "      <td>73.0</td>\n",
       "      <td>2019-05-30</td>\n",
       "      <td>18:50:00</td>\n",
       "    </tr>\n",
       "    <tr>\n",
       "      <th>4</th>\n",
       "      <td>30.05.2019 18:20</td>\n",
       "      <td>18.0</td>\n",
       "      <td>73.0</td>\n",
       "      <td>2019-05-30</td>\n",
       "      <td>18:20:00</td>\n",
       "    </tr>\n",
       "  </tbody>\n",
       "</table>\n",
       "</div>"
      ],
      "text/plain": [
       "  Local time in Lubeck / Blankensee (airport)     T     U        Date  \\\n",
       "0                            30.05.2019 20:50  17.0  77.0  2019-05-30   \n",
       "1                            30.05.2019 19:50  18.0  73.0  2019-05-30   \n",
       "2                            30.05.2019 19:20  18.0  73.0  2019-05-30   \n",
       "3                            30.05.2019 18:50  18.0  73.0  2019-05-30   \n",
       "4                            30.05.2019 18:20  18.0  73.0  2019-05-30   \n",
       "\n",
       "       Time  \n",
       "0  20:50:00  \n",
       "1  19:50:00  \n",
       "2  19:20:00  \n",
       "3  18:50:00  \n",
       "4  18:20:00  "
      ]
     },
     "execution_count": 6,
     "metadata": {},
     "output_type": "execute_result"
    }
   ],
   "source": [
    "#clean up headers\n",
    "\n",
    "Wurz_T_U_df['Date'] = pd.to_datetime(Wurz_T_U_df['Local time in Wurzburg']).dt.date\n",
    "Wurz_T_U_df['Time'] = pd.to_datetime(Wurz_T_U_df['Local time in Wurzburg']).dt.time\n",
    "Wurz_T_U_df.head()\n",
    "\n",
    "schwa_T_U_df['Date'] = pd.to_datetime(schwa_T_U_df['Local time in Lubeck / Blankensee (airport)']).dt.date\n",
    "schwa_T_U_df['Time'] = pd.to_datetime(schwa_T_U_df['Local time in Lubeck / Blankensee (airport)']).dt.time\n",
    "schwa_T_U_df.head()"
   ]
  },
  {
   "cell_type": "code",
   "execution_count": 7,
   "metadata": {},
   "outputs": [
    {
     "data": {
      "text/html": [
       "<div>\n",
       "<style scoped>\n",
       "    .dataframe tbody tr th:only-of-type {\n",
       "        vertical-align: middle;\n",
       "    }\n",
       "\n",
       "    .dataframe tbody tr th {\n",
       "        vertical-align: top;\n",
       "    }\n",
       "\n",
       "    .dataframe thead th {\n",
       "        text-align: right;\n",
       "    }\n",
       "</style>\n",
       "<table border=\"1\" class=\"dataframe\">\n",
       "  <thead>\n",
       "    <tr style=\"text-align: right;\">\n",
       "      <th></th>\n",
       "      <th>Date</th>\n",
       "      <th>T</th>\n",
       "      <th>U</th>\n",
       "    </tr>\n",
       "  </thead>\n",
       "  <tbody>\n",
       "    <tr>\n",
       "      <th>0</th>\n",
       "      <td>2019-05-30</td>\n",
       "      <td>17.0</td>\n",
       "      <td>77.0</td>\n",
       "    </tr>\n",
       "    <tr>\n",
       "      <th>1</th>\n",
       "      <td>2019-05-30</td>\n",
       "      <td>18.0</td>\n",
       "      <td>73.0</td>\n",
       "    </tr>\n",
       "    <tr>\n",
       "      <th>2</th>\n",
       "      <td>2019-05-30</td>\n",
       "      <td>18.0</td>\n",
       "      <td>73.0</td>\n",
       "    </tr>\n",
       "    <tr>\n",
       "      <th>3</th>\n",
       "      <td>2019-05-30</td>\n",
       "      <td>18.0</td>\n",
       "      <td>73.0</td>\n",
       "    </tr>\n",
       "    <tr>\n",
       "      <th>4</th>\n",
       "      <td>2019-05-30</td>\n",
       "      <td>18.0</td>\n",
       "      <td>73.0</td>\n",
       "    </tr>\n",
       "  </tbody>\n",
       "</table>\n",
       "</div>"
      ],
      "text/plain": [
       "         Date     T     U\n",
       "0  2019-05-30  17.0  77.0\n",
       "1  2019-05-30  18.0  73.0\n",
       "2  2019-05-30  18.0  73.0\n",
       "3  2019-05-30  18.0  73.0\n",
       "4  2019-05-30  18.0  73.0"
      ]
     },
     "execution_count": 7,
     "metadata": {},
     "output_type": "execute_result"
    }
   ],
   "source": [
    "#arange headers\n",
    "\n",
    "Wurz_T_U_D = Wurz_T_U_df[['Date', 'T', 'U']]\n",
    "Wurz_T_U_D.head()\n",
    "\n",
    "schwa_T_U_D = schwa_T_U_df[['Date', 'T', 'U']]\n",
    "schwa_T_U_D.head()"
   ]
  },
  {
   "cell_type": "code",
   "execution_count": 8,
   "metadata": {},
   "outputs": [
    {
     "data": {
      "text/html": [
       "<div>\n",
       "<style scoped>\n",
       "    .dataframe tbody tr th:only-of-type {\n",
       "        vertical-align: middle;\n",
       "    }\n",
       "\n",
       "    .dataframe tbody tr th {\n",
       "        vertical-align: top;\n",
       "    }\n",
       "\n",
       "    .dataframe thead th {\n",
       "        text-align: right;\n",
       "    }\n",
       "</style>\n",
       "<table border=\"1\" class=\"dataframe\">\n",
       "  <thead>\n",
       "    <tr style=\"text-align: right;\">\n",
       "      <th></th>\n",
       "      <th>T</th>\n",
       "      <th>U</th>\n",
       "    </tr>\n",
       "    <tr>\n",
       "      <th>Date</th>\n",
       "      <th></th>\n",
       "      <th></th>\n",
       "    </tr>\n",
       "  </thead>\n",
       "  <tbody>\n",
       "    <tr>\n",
       "      <th>2017-01-01</th>\n",
       "      <td>5.000000</td>\n",
       "      <td>91.000000</td>\n",
       "    </tr>\n",
       "    <tr>\n",
       "      <th>2017-01-02</th>\n",
       "      <td>0.708333</td>\n",
       "      <td>95.416667</td>\n",
       "    </tr>\n",
       "    <tr>\n",
       "      <th>2017-01-03</th>\n",
       "      <td>4.714286</td>\n",
       "      <td>80.750000</td>\n",
       "    </tr>\n",
       "    <tr>\n",
       "      <th>2017-01-04</th>\n",
       "      <td>15.178571</td>\n",
       "      <td>71.678571</td>\n",
       "    </tr>\n",
       "    <tr>\n",
       "      <th>2017-01-05</th>\n",
       "      <td>12.206897</td>\n",
       "      <td>57.172414</td>\n",
       "    </tr>\n",
       "  </tbody>\n",
       "</table>\n",
       "</div>"
      ],
      "text/plain": [
       "                    T          U\n",
       "Date                            \n",
       "2017-01-01   5.000000  91.000000\n",
       "2017-01-02   0.708333  95.416667\n",
       "2017-01-03   4.714286  80.750000\n",
       "2017-01-04  15.178571  71.678571\n",
       "2017-01-05  12.206897  57.172414"
      ]
     },
     "execution_count": 8,
     "metadata": {},
     "output_type": "execute_result"
    }
   ],
   "source": [
    "#groupby date\n",
    "\n",
    "Wurz_Clean = Wurz_T_U_D.groupby(['Date']).mean()\n",
    "Wurz_Clean.head()\n",
    "\n",
    "schwa_Clean = schwa_T_U_D.groupby(['Date']).mean()\n",
    "schwa_Clean.head()"
   ]
  },
  {
   "cell_type": "code",
   "execution_count": null,
   "metadata": {},
   "outputs": [],
   "source": [
    "#EA: added index True, as date index missing from CSV.\n",
    "Wurz_Clean.to_csv('Wurzburg_Weather_Cleaned.csv', index=True, header=True)\n",
    "\n",
    "#EA: added index True, as date index missing from CSV.\n",
    "schwa_Clean.to_csv('schwartau_Weather_Cleaned.csv', index=True, header=True)"
   ]
  },
  {
   "cell_type": "code",
   "execution_count": null,
   "metadata": {},
   "outputs": [],
   "source": [
    "\n",
    "\n",
    "#wurzburg\n",
    "# File to Load (Remember to change these)\n",
    "wurz_flow_csv = \"data/flow_wurzburg.csv\"\n",
    "wurz_weight_csv = \"data/weight_wurzburg.csv\"\n",
    "wurz_temp_csv = \"data/temperature_wurzburg.csv\"\n",
    "wurz_humid_csv = \"data/humidity_wurzburg.csv\"\n",
    "\n",
    "\n",
    "# Read the hive Data\n",
    "wurz_flow = pd.read_csv(wurz_flow_csv, parse_dates=['timestamp'], date_parser=pd.to_datetime)\n",
    "wurz_weight_old = pd.read_csv(wurz_weight_csv, parse_dates=['timestamp'], date_parser=pd.to_datetime)\n",
    "wurz_temp = pd.read_csv(wurz_temp_csv, parse_dates=['timestamp'], date_parser=pd.to_datetime)\n",
    "wurz_humid_old = pd.read_csv(wurz_humid_csv, parse_dates=['timestamp'], date_parser=pd.to_datetime)\n",
    "\n",
    "\n"
   ]
  },
  {
   "cell_type": "code",
   "execution_count": null,
   "metadata": {},
   "outputs": [],
   "source": [
    "#Schwartau\n",
    "# File to Load (Remember to change these)\n",
    "\n",
    "schwa_flow_csv = \"data/flow_schwartau.csv\"\n",
    "schwa_weight_csv = \"data/weight_schwartau.csv\"\n",
    "schwa_temp_csv = \"data/temperature_schwartau.csv\"\n",
    "schwa_humid_csv = \"data/humidity_schwartau.csv\"\n",
    "\n",
    "# Read the hive Data\n",
    "\n",
    "schwa_flow = pd.read_csv(schwa_flow_csv, parse_dates=['timestamp'], date_parser=pd.to_datetime)\n",
    "schwa_weight_old = pd.read_csv(schwa_weight_csv, parse_dates=['timestamp'], date_parser=pd.to_datetime)\n",
    "schwa_temp = pd.read_csv(schwa_temp_csv, parse_dates=['timestamp'], date_parser=pd.to_datetime)\n",
    "schwa_humid_old = pd.read_csv(schwa_humid_csv, parse_dates=['timestamp'], date_parser=pd.to_datetime)\n",
    "\n",
    "\n"
   ]
  },
  {
   "cell_type": "code",
   "execution_count": null,
   "metadata": {},
   "outputs": [],
   "source": [
    "# fix the negative values showing up the weight and humid files. make new DF by removing any values less than zero\n",
    "\n",
    "\n",
    "wurz_weight = wurz_weight_old[wurz_weight_old['weight'] > 0]\n",
    "wurz_humid = wurz_humid_old[wurz_humid_old['humidity'] > 0]\n",
    "schwa_weight = schwa_weight_old[schwa_weight_old['weight'] > 0]\n",
    "schwa_humid = schwa_humid_old[schwa_humid_old['humidity'] > 0]\n"
   ]
  },
  {
   "cell_type": "code",
   "execution_count": null,
   "metadata": {},
   "outputs": [],
   "source": [
    "# Wurz\n",
    "# add a column for day, pull the date from timestamp colummn and populate in day column in each data source used.\n",
    "# also calculate the following:\n",
    "# flow sum\n",
    "# weight mean\n",
    "# temp mean\n",
    "# humid mean\n",
    "\n",
    "pd.DatetimeIndex(wurz_flow.timestamp).normalize()\n",
    "wurz_flow['day'] = pd.DatetimeIndex(wurz_flow.timestamp).normalize()\n",
    "wgroup_flow = wurz_flow.groupby(\"day\").sum()\n",
    "\n",
    "wurz_weight['day'] = pd.DatetimeIndex(wurz_weight.timestamp).normalize()\n",
    "wgroup_weight = wurz_weight.groupby(\"day\").mean()\n",
    "\n",
    "wurz_temp['day'] = pd.DatetimeIndex(wurz_temp.timestamp).normalize()\n",
    "wgroup_temp = wurz_temp.groupby(\"day\").mean()\n",
    "\n",
    "wurz_humid['day'] = pd.DatetimeIndex(wurz_humid.timestamp).normalize()\n",
    "wgroup_humid = wurz_humid.groupby(\"day\").mean()"
   ]
  },
  {
   "cell_type": "code",
   "execution_count": null,
   "metadata": {},
   "outputs": [],
   "source": [
    "# Schwartau\n",
    "# add a column for day, pull the date from timestamp colummn and populate in day column in each data source used.\n",
    "# also calculate the following:\n",
    "# flow sum\n",
    "# weight mean\n",
    "# temp mean\n",
    "# humid mean\n",
    "\n",
    "pd.DatetimeIndex(schwa_flow.timestamp).normalize()\n",
    "schwa_flow['day'] = pd.DatetimeIndex(schwa_flow.timestamp).normalize()\n",
    "sgroup_flow = schwa_flow.groupby(\"day\").sum()\n",
    "\n",
    "schwa_weight['day'] = pd.DatetimeIndex(schwa_weight.timestamp).normalize()\n",
    "sgroup_weight = schwa_weight.groupby(\"day\").mean()\n",
    "\n",
    "schwa_temp['day'] = pd.DatetimeIndex(schwa_temp.timestamp).normalize()\n",
    "sgroup_temp = schwa_temp.groupby(\"day\").mean()\n",
    "\n",
    "schwa_humid['day'] = pd.DatetimeIndex(schwa_humid.timestamp).normalize()\n",
    "sgroup_humid = schwa_humid.groupby(\"day\").mean()"
   ]
  },
  {
   "cell_type": "code",
   "execution_count": null,
   "metadata": {},
   "outputs": [],
   "source": [
    "# Wurz\n",
    "# Combine the data into a single dataset\n",
    "\n",
    "wurz_3_df = pd.merge(wgroup_humid, wgroup_temp, on=\"day\", how=\"inner\")\n",
    "wurz_2_df = pd.merge(wurz_3_df, wgroup_weight, on=\"day\", how=\"inner\")\n",
    "wurz_hive_df = pd.merge(wurz_2_df, wgroup_flow, on=\"day\", how=\"inner\")\n",
    "\n",
    "wurz_df = wurz_hive_df.rename(columns={\"humidity\":\"w_humidity\",\n",
    "                                       \"temperature\":\"w_temperature\",\n",
    "                                       \"weight\":\"w_weight\",\n",
    "                                       \"flow\":\"w_flow\"})\n",
    "\n",
    "\n",
    "wurz_df.head()"
   ]
  },
  {
   "cell_type": "code",
   "execution_count": null,
   "metadata": {},
   "outputs": [],
   "source": [
    "# Schwartau\n",
    "# Combine the data into a single dataset\n",
    "\n",
    "schwa_3_df = pd.merge(sgroup_humid, sgroup_temp, on=\"day\", how=\"inner\")\n",
    "schwa_2_df = pd.merge(schwa_3_df, sgroup_weight, on=\"day\", how=\"inner\")\n",
    "schwa_hive_df = pd.merge(schwa_2_df, sgroup_flow, on=\"day\", how=\"inner\")\n",
    "\n",
    "schwa_df = schwa_hive_df.rename(columns={\"humidity\":\"s_humidity\",\n",
    "                                       \"temperature\":\"s_temperature\",\n",
    "                                       \"weight\":\"s_weight\",\n",
    "                                       \"flow\":\"s_flow\"})\n",
    "\n",
    "\n",
    "schwa_df.head()"
   ]
  },
  {
   "cell_type": "code",
   "execution_count": null,
   "metadata": {},
   "outputs": [],
   "source": [
    "# merge the hive data for werzberg and shcwartau\n",
    "\n",
    "ws_df = pd.merge(wurz_df, schwa_df, on=\"day\", how=\"inner\")\n",
    "ws_df.head()"
   ]
  },
  {
   "cell_type": "code",
   "execution_count": null,
   "metadata": {},
   "outputs": [],
   "source": [
    "# Export the combined hive data as a CSV, with the Pandas index and with the header\n",
    "ws_df.to_csv(\"ws.csv\", index=True, header=True)\n",
    "ws_df.to_csv(\"data/ws.csv\", index=True, header=True)"
   ]
  },
  {
   "cell_type": "code",
   "execution_count": null,
   "metadata": {},
   "outputs": [],
   "source": [
    "#load the hive data and the weather data \n",
    "\n",
    "#wurzburg\n",
    "# File to Load (Remember to change these)\n",
    "ws_csv = \"data/ws.csv\"\n",
    "ww_csv = \"data/Wurzburg_Weather_Cleaned.csv\"\n",
    "sc_csv = \"data/schwartau_Weather_Cleaned.csv\"\n",
    "\n",
    "# Read the hive Data\n",
    "ws_df = pd.read_csv(ws_csv)\n",
    "ww_df = pd.read_csv(ww_csv)\n",
    "sc_df = pd.read_csv(sc_csv)\n",
    "\n",
    "ws_df = ws_df.rename(columns={\"day\":\"date\"})\n",
    "ww_df = ww_df.rename(columns={\"T\":\"w_city_temp\",\n",
    "                             \"U\":\"w_city_humid\",\n",
    "                             \"Date\":\"date\"})\n",
    "\n",
    "sc_df = sc_df.rename(columns={\"T\":\"s_city_temp\",\n",
    "                             \"U\":\"s_city_humid\",\n",
    "                             \"Date\":\"date\"})\n",
    "\n",
    "sc_df.head()"
   ]
  },
  {
   "cell_type": "code",
   "execution_count": null,
   "metadata": {},
   "outputs": [],
   "source": [
    "# merge the hive file with the weather files\n",
    "\n",
    "weather_hive_2_df = pd.merge(ws_df, ww_df, on=\"date\", how=\"inner\")\n",
    "weather_hive_ws_df = pd.merge(weather_hive_2_df, sc_df, on=\"date\", how=\"inner\")\n",
    "weather_hive_ws_df.head()"
   ]
  },
  {
   "cell_type": "code",
   "execution_count": null,
   "metadata": {},
   "outputs": [],
   "source": [
    "# Export the merged weather and hive data as a CSV, with the Pandas index and with the header\n",
    "weather_hive_ws_df.to_csv(\"weather_hive_ws.csv\", index=True, header=True)\n",
    "weather_hive_ws_df.to_csv(\"data/weather_hive_ws.csv\", index=True, header=True)"
   ]
  },
  {
   "cell_type": "code",
   "execution_count": null,
   "metadata": {},
   "outputs": [],
   "source": [
    "# load the combined weather had hive file and begin condensing to a monthly average\n",
    "\n",
    "#wurzburg\n",
    "# File to Load (Remember to change these)\n",
    "weather_hive_ws_csv = \"data/weather_hive_ws.csv\"\n",
    "\n",
    "\n",
    "# Read the hive Data\n",
    "weather_hive_ws_one = pd.read_csv(weather_hive_ws_csv, parse_dates=['date'], date_parser=pd.to_datetime, index_col=0)\n",
    "\n",
    "weather_hive_ws_one.dtypes"
   ]
  },
  {
   "cell_type": "code",
   "execution_count": null,
   "metadata": {},
   "outputs": [],
   "source": [
    "weather_hive_ws_one.head()"
   ]
  },
  {
   "cell_type": "code",
   "execution_count": null,
   "metadata": {},
   "outputs": [],
   "source": [
    "#set the index back to the date column\n",
    "\n",
    "weather_hive_ws = weather_hive_ws_one.set_index(\"date\")\n",
    "weather_hive_ws.head()"
   ]
  },
  {
   "cell_type": "code",
   "execution_count": null,
   "metadata": {},
   "outputs": [],
   "source": [
    "#trying to groupby month in the date column. used grouper\n",
    "\n",
    "month_avg_weather_hive_ws = weather_hive_ws.groupby(pd.Grouper(freq='M')).mean()\n",
    "month_avg_weather_hive_ws.head()"
   ]
  },
  {
   "cell_type": "code",
   "execution_count": null,
   "metadata": {},
   "outputs": [],
   "source": [
    "# Extracting just Month and Year from Pandas Datetime column\n",
    "\n",
    "\n",
    "month_avg_weather_hive_ws['month_year'] = pd.to_datetime(month_avg_weather_hive_ws.index).to_period('M')\n",
    "month_avg_weather_hive_ws.head()"
   ]
  },
  {
   "cell_type": "code",
   "execution_count": null,
   "metadata": {},
   "outputs": [],
   "source": [
    "# set the index to the month_year column\n",
    "\n",
    "month_summary = month_avg_weather_hive_ws.set_index(\"month_year\")\n",
    "month_summary.head()"
   ]
  },
  {
   "cell_type": "code",
   "execution_count": null,
   "metadata": {},
   "outputs": [],
   "source": [
    "weather_hive_ws.plot.scatter(x='w_city_temp', y='w_temperature', c='lightblue')\n",
    "plt.show()"
   ]
  },
  {
   "cell_type": "code",
   "execution_count": null,
   "metadata": {},
   "outputs": [],
   "source": [
    "weather_hive_ws.plot.scatter(x='s_city_temp', y='s_temperature', c='red')\n",
    "plt.show()"
   ]
  },
  {
   "cell_type": "code",
   "execution_count": null,
   "metadata": {},
   "outputs": [],
   "source": [
    "weather_hive_ws.plot.scatter(x='w_temperature', y='w_weight', c='blue')\n",
    "plt.show()"
   ]
  },
  {
   "cell_type": "code",
   "execution_count": null,
   "metadata": {},
   "outputs": [],
   "source": [
    "weather_hive_ws.plot.scatter(x='s_temperature', y='s_weight', c='orange')\n",
    "plt.show()"
   ]
  },
  {
   "cell_type": "code",
   "execution_count": null,
   "metadata": {},
   "outputs": [],
   "source": [
    "weather_hive_ws.plot.scatter(x='w_temperature', y='w_flow', c='darkblue')\n",
    "plt.show()"
   ]
  },
  {
   "cell_type": "code",
   "execution_count": null,
   "metadata": {},
   "outputs": [],
   "source": [
    "weather_hive_ws.plot.scatter(x='s_temperature', y='s_flow', c='pink')\n",
    "plt.show()"
   ]
  },
  {
   "cell_type": "code",
   "execution_count": null,
   "metadata": {},
   "outputs": [],
   "source": [
    "weather_hive_ws.plot.scatter(x='w_city_humid', y='w_humidity', c='lightgreen')\n",
    "plt.show()"
   ]
  },
  {
   "cell_type": "code",
   "execution_count": null,
   "metadata": {},
   "outputs": [],
   "source": [
    "weather_hive_ws.plot.scatter(x='s_city_humid', y='s_humidity', c='black')\n",
    "plt.show()"
   ]
  },
  {
   "cell_type": "code",
   "execution_count": null,
   "metadata": {},
   "outputs": [],
   "source": [
    "weather_hive_ws.plot.scatter(x='w_humidity', y='w_weight', c='green')\n",
    "plt.show()"
   ]
  },
  {
   "cell_type": "code",
   "execution_count": null,
   "metadata": {},
   "outputs": [],
   "source": [
    "weather_hive_ws.plot.scatter(x='s_humidity', y='s_weight', c='darkgrey')\n",
    "plt.show()"
   ]
  },
  {
   "cell_type": "code",
   "execution_count": null,
   "metadata": {},
   "outputs": [],
   "source": [
    "weather_hive_ws.plot.scatter(x='w_humidity', y='w_flow', c='darkgreen')\n",
    "plt.show()"
   ]
  },
  {
   "cell_type": "code",
   "execution_count": null,
   "metadata": {},
   "outputs": [],
   "source": [
    "weather_hive_ws.plot.scatter(x='s_humidity', y='s_flow', c='lightgrey')\n",
    "plt.show()"
   ]
  },
  {
   "cell_type": "code",
   "execution_count": null,
   "metadata": {},
   "outputs": [],
   "source": [
    "weather_hive_ws.plot.scatter(x='w_humidity', y='w_temperature', c='brown')\n",
    "plt.show()"
   ]
  },
  {
   "cell_type": "code",
   "execution_count": null,
   "metadata": {},
   "outputs": [],
   "source": [
    "weather_hive_ws.plot.scatter(x='w_city_humid', y='w_city_temp', c='purple')\n",
    "plt.show()"
   ]
  },
  {
   "cell_type": "code",
   "execution_count": null,
   "metadata": {},
   "outputs": [],
   "source": [
    "list(weather_hive_ws_one.columns.values)\n",
    "weather_hive_ws_one['date'] = weather_hive_ws_one['date'].astype('str')\n",
    "#weather_hive_ws_one.head()\n",
    "weather_hive_ws_one['year'] = pd.DatetimeIndex(weather_hive_ws_one['date']).year\n",
    "weather_hive_ws_one.head()\n",
    "weather_hive_ws_one['month'] = pd.DatetimeIndex(weather_hive_ws_one['date']).month\n",
    "weather_hive_ws_one\n",
    "\n",
    "\n",
    "\n",
    "list(month_avg_weather_hive_ws.columns.values)\n",
    "month_avg_weather_hive_ws['date'] = month_avg_weather_hive_ws['month_year'].astype(str)\n",
    "month_avg_weather_hive_ws['year'] = pd.DatetimeIndex(month_avg_weather_hive_ws['date']).year\n",
    "\n",
    "month_avg_weather_hive_ws['month'] = pd.DatetimeIndex(month_avg_weather_hive_ws['date']).month\n",
    "month_avg_weather_hive_ws.head()\n",
    "\n",
    "month_avg_weather_hive_ws['day'] = pd.DatetimeIndex(month_avg_weather_hive_ws['date']).day\n",
    "month_avg_weather_hive_ws.head()\n",
    "#weather = weather_hive_ws_one.loc[weather_hive_ws_one['date']]\n",
    "#weather.head()\n",
    "#weather_hive_ws_one[['year','month','day']] = weather_hive_ws_one.loc['date']\n",
    "#weather_hive_ws_one"
   ]
  },
  {
   "cell_type": "code",
   "execution_count": null,
   "metadata": {},
   "outputs": [],
   "source": [
    "weather_hive_ws_two = weather_hive_ws_one[['date', 'year', 'month','w_humidity', 'w_temperature', 'w_weight', 'w_flow', 'w_city_temp', 'w_city_humid', 's_humidity', 's_temperature', 's_weight', 's_flow', 's_city_temp', 's_city_humid']]\n",
    "weather_hive_ws_two.head()\n",
    "\n"
   ]
  },
  {
   "cell_type": "code",
   "execution_count": null,
   "metadata": {},
   "outputs": [],
   "source": [
    "month_avg_weather_hive_ws_one = month_avg_weather_hive_ws[['year', 'month','w_humidity', 'w_temperature', 'w_weight', 'w_flow', 'w_city_temp', 'w_city_humid', 's_humidity', 's_temperature', 's_weight', 's_flow', 's_city_temp', 's_city_humid']]\n",
    "month_avg_weather_hive_ws_two = pd.DataFrame(month_avg_weather_hive_ws_one)\n",
    "month_avg_weather_hive_ws_two.head()"
   ]
  },
  {
   "cell_type": "code",
   "execution_count": null,
   "metadata": {},
   "outputs": [],
   "source": [
    "ax = month_avg_weather_hive_ws_two.loc[(month_avg_weather_hive_ws_two['year']==2017)].plot.scatter(x='month', y='w_temperature', c='green', label = 'hive')\n",
    "month_avg_weather_hive_ws_two.loc[(month_avg_weather_hive_ws_two['year']==2017)].plot.scatter(x='month', y='w_city_temp', c='lightgreen',  label = 'city', title = '2017', ax = ax)\n",
    "plt.xlabel('Months')\n",
    "plt.ylabel('Temperatures (deg C)')\n",
    "\n",
    "plt.show()\n"
   ]
  },
  {
   "cell_type": "code",
   "execution_count": null,
   "metadata": {},
   "outputs": [],
   "source": [
    "ax = month_avg_weather_hive_ws_two.loc[(month_avg_weather_hive_ws_two['year']==2018)].plot(x='month', y='w_temperature', label = 'hive', kind = 'scatter', ylim = (0,30), c='black', title = '2018')\n",
    "month_avg_weather_hive_ws_two.loc[(month_avg_weather_hive_ws_two['year']==2018)].plot.scatter(x='month', y='w_city_temp', c='grey', label = 'city',  ax = ax)\n",
    "plt.show()\n"
   ]
  },
  {
   "cell_type": "code",
   "execution_count": null,
   "metadata": {},
   "outputs": [],
   "source": [
    "ax = month_avg_weather_hive_ws_two.loc[(month_avg_weather_hive_ws_two['year']==2019)].plot(x='month', y='w_temperature', label = 'hive', kind ='scatter', xlim=(1,12), ylim = (0,30), c='blue')\n",
    "month_avg_weather_hive_ws_two.loc[(month_avg_weather_hive_ws_two['year']==2019)].plot.scatter(x='month', y='w_city_temp', c='lightblue', label = 'city', title = '2019', ax = ax)\n",
    "\n",
    "plt.show()"
   ]
  },
  {
   "cell_type": "code",
   "execution_count": null,
   "metadata": {},
   "outputs": [],
   "source": [
    "# temperature and humidity variation inside the hive and in the city of Wurzburg in years 2017, 2018, 2019\n",
    "fig = plt.figure()\n",
    "ax = fig.add_subplot(2,1,1)\n",
    "\n",
    "ax = month_avg_weather_hive_ws_two.loc[(month_avg_weather_hive_ws_two['year']==2017)].plot.scatter(x='month', y='w_temperature', c='blue', marker = 'o', label = '2017_hive')\n",
    "month_avg_weather_hive_ws_two.loc[(month_avg_weather_hive_ws_two['year']==2017)].plot.scatter(x='month', y='w_city_temp', c='red',  marker = 'o', label = '2017_city', ax = ax)\n",
    "\n",
    "\n",
    "month_avg_weather_hive_ws_two.loc[(month_avg_weather_hive_ws_two['year']==2018)].plot(x='month', y='w_temperature', kind = 'scatter', ylim = (0,30), c='blue', marker = 'x', label = '2018_hive', ax = ax)\n",
    "month_avg_weather_hive_ws_two.loc[(month_avg_weather_hive_ws_two['year']==2018)].plot.scatter(x='month', y='w_city_temp', c='red',  marker = 'x', label = '2018_city', ax = ax)\n",
    "\n",
    "month_avg_weather_hive_ws_two.loc[(month_avg_weather_hive_ws_two['year']==2019)].plot(x='month', y='w_temperature', kind ='scatter', xlim=(0,13), ylim = (0,40), marker = 'v', label = '2019_hive', ax = ax, c='blue')\n",
    "month_avg_weather_hive_ws_two.loc[(month_avg_weather_hive_ws_two['year']==2019)].plot.scatter(x='month', y='w_city_temp', c='red', label = '2019_city', marker = 'v', ax = ax)\n",
    "\n",
    "plt.xlabel('Months')\n",
    "plt.ylabel('Mean Temperatures (deg C)')\n",
    "plt.legend (loc='upper right')\n",
    "plt.title('Wurzburg City')\n",
    "\n",
    "#plt.show()\n",
    "\n",
    "ax = fig.add_subplot(2,1,2)\n",
    "\n",
    "ax = month_avg_weather_hive_ws_two.loc[(month_avg_weather_hive_ws_two['year']==2017)].plot.scatter(x='month', y='w_humidity', c='blue', marker = 'o', label = '2017_hive')\n",
    "month_avg_weather_hive_ws_two.loc[(month_avg_weather_hive_ws_two['year']==2017)].plot.scatter(x='month', y='w_city_humid', c='red',  marker = 'o', label = '2017_city', ax = ax)\n",
    "\n",
    "\n",
    "month_avg_weather_hive_ws_two.loc[(month_avg_weather_hive_ws_two['year']==2018)].plot(x='month', y='w_humidity', kind = 'scatter', c='blue', marker = 'x', label = '2018_hive', ax = ax)\n",
    "month_avg_weather_hive_ws_two.loc[(month_avg_weather_hive_ws_two['year']==2018)].plot.scatter(x='month', y='w_city_humid', c='red',  marker = 'x', label = '2018_city', ax = ax)\n",
    "\n",
    "month_avg_weather_hive_ws_two.loc[(month_avg_weather_hive_ws_two['year']==2019)].plot(x='month', y='w_humidity', kind ='scatter', xlim=(0,13), ylim=(0,110), marker = 'v', label = '2019_hive', ax = ax, c='blue')\n",
    "month_avg_weather_hive_ws_two.loc[(month_avg_weather_hive_ws_two['year']==2019)].plot.scatter(x='month', y='w_city_humid', c='red', label = '2019_city', marker = 'v', ax = ax)\n",
    "\n",
    "plt.xlabel('Months')\n",
    "plt.ylabel('Mean Humidity (%)')\n",
    "plt.legend (loc='lower right')\n",
    "plt.title('Wurzburg City')\n",
    "plt.show()"
   ]
  },
  {
   "cell_type": "code",
   "execution_count": null,
   "metadata": {},
   "outputs": [],
   "source": [
    "\n",
    "# weight of hive and flow of bees in and out of hive in the city of Wursburg in years 2017, 2018, 2019\n",
    "ax = fig.add_subplot(2,1,1)\n",
    "ax =weather_hive_ws_two.loc[(weather_hive_ws_two['year']==2017)].plot.scatter(x='month', y='w_weight', c='blue', marker = 'o', label = '2017_hive')\n",
    "weather_hive_ws_two.loc[(weather_hive_ws_two['year']==2018)].plot(x='month', y='w_weight', kind = 'scatter', c='blue', marker = 'x', label = '2018_hive', ax = ax)\n",
    "weather_hive_ws_two.loc[(weather_hive_ws_two['year']==2019)].plot(x='month', y='w_weight', kind ='scatter', marker = 'v', label = '2019_hive', ax = ax, c='blue')\n",
    "\n",
    "plt.xlabel('Months')\n",
    "plt.ylabel('Weight of hive (kgs)')\n",
    "plt.legend (loc='lower right')\n",
    "plt.title('Wurzburg City')\n",
    "\n",
    "plt.show()\n",
    "\n",
    "ax = fig.add_subplot(2,1,2)\n",
    "ax = weather_hive_ws_two.loc[(weather_hive_ws_two['year']==2017)].plot.scatter(x='month', y='w_flow', c='blue', marker = 'o', label = '2017_hive')\n",
    "weather_hive_ws_two.loc[(weather_hive_ws_two['year']==2018)].plot(x='month', y='w_flow', kind = 'scatter',  c='blue', marker = 'x', label = '2018_hive', ax = ax)\n",
    "weather_hive_ws_two.loc[(weather_hive_ws_two['year']==2019)].plot(x='month', y='w_flow', kind ='scatter',  marker = 'v', label = '2019_hive', ax = ax, c='blue')\n",
    "\n",
    "\n",
    "plt.xlabel('Months')\n",
    "plt.ylabel('Bee flow (#)')\n",
    "plt.legend (loc='lower right')\n",
    "plt.title('Wurzburg City')\n",
    "\n",
    "plt.show()"
   ]
  },
  {
   "cell_type": "code",
   "execution_count": null,
   "metadata": {},
   "outputs": [],
   "source": [
    "#fig, ax = plt.subplots()\n",
    "ax =weather_hive_ws_two.loc[(weather_hive_ws_two['year']==2017)].plot.scatter(x='month', y='w_weight', c='blue', marker = 'o', label = '2017_hive_weight')\n",
    "ax.set_ylabel('Weight of hive (kgs)')\n",
    "ax.set_xlabel('Months')\n",
    "ax.legend(loc='left')\n",
    "ax.ylim = [0,120000]\n",
    "\n",
    "ax_new = ax.twinx()\n",
    "month_avg_weather_hive_ws_two.loc[(month_avg_weather_hive_ws_two['year']==2017)].plot(x='month', y='w_temperature', style = '>', c='grey', markersize = 5, label = '2017_hive_temp', secondary_y=True, xlim = [0,13], ax = ax_new)\n",
    "ax_new.set_ylabel('Temp of Hive (deg C)')\n",
    "\n",
    "ax.set_xlabel('Months')\n",
    "ax.legend(loc='right')\n",
    "plt.title('Wurzburg City')\n",
    "plt.tight_layout()"
   ]
  },
  {
   "cell_type": "code",
   "execution_count": null,
   "metadata": {},
   "outputs": [],
   "source": [
    "#fig, ax = plt.subplots()\n",
    "ax =weather_hive_ws_two.loc[(weather_hive_ws_two['year']==2017)].plot.scatter(x='month', y='w_flow', c='yellow', marker = 'o', label = '2017_hive_flow')\n",
    "ax.set_ylabel('Flow of bees (#)')\n",
    "ax.set_xlabel('Months')\n",
    "ax.legend(loc='left')\n",
    "ax.ylim = [0,120000]\n",
    "\n",
    "ax_new = ax.twinx()\n",
    "month_avg_weather_hive_ws_two.loc[(month_avg_weather_hive_ws_two['year']==2017)].plot(x='month', y='w_temperature', style = '>', c='grey', markersize = 5, label = '2017_hive_temp', secondary_y=True, xlim = [0,13], ax = ax_new)\n",
    "ax_new.set_ylabel('Temp of Hive (deg C)')\n",
    "\n",
    "ax.set_xlabel('Months')\n",
    "ax.legend(loc='right')\n",
    "plt.title('Wurzburg City')\n",
    "plt.tight_layout()"
   ]
  },
  {
   "cell_type": "code",
   "execution_count": null,
   "metadata": {},
   "outputs": [],
   "source": [
    "#fig, ax = plt.subplots()\n",
    "ax =weather_hive_ws_two.loc[(weather_hive_ws_two['year']==2018)].plot.scatter(x='month', y='w_weight', c='blue', marker = 'o', label = '2018_hive_weight')\n",
    "ax.set_ylabel('Weight of hive (kgs)')\n",
    "ax.set_xlabel('Months')\n",
    "ax.legend(loc='left')\n",
    "ax.ylim = [0,120000]\n",
    "\n",
    "ax_new = ax.twinx()\n",
    "month_avg_weather_hive_ws_two.loc[(month_avg_weather_hive_ws_two['year']==2018)].plot(x='month', y='w_temperature', style = '>', c='grey', markersize = 5, label = '2018_hive_temp', secondary_y=True, xlim = [0,13], ax = ax_new)\n",
    "ax_new.set_ylabel('Temp of Hive (deg C)')\n",
    "\n",
    "ax.set_xlabel('Months')\n",
    "ax.legend(loc='right')\n",
    "plt.title('Wurzburg City')\n",
    "plt.tight_layout()"
   ]
  },
  {
   "cell_type": "code",
   "execution_count": null,
   "metadata": {},
   "outputs": [],
   "source": [
    "#fig, ax = plt.subplots()\n",
    "ax =weather_hive_ws_two.loc[(weather_hive_ws_two['year']==2018)].plot.scatter(x='month', y='w_flow', c='yellow', marker = 'o', label = '2018_hive_flow')\n",
    "ax.set_ylabel('Flow of bees (#)')\n",
    "ax.set_xlabel('Months')\n",
    "ax.legend(loc='left')\n",
    "ax.ylim = [0,120000]\n",
    "\n",
    "ax_new = ax.twinx()\n",
    "month_avg_weather_hive_ws_two.loc[(month_avg_weather_hive_ws_two['year']==2018)].plot(x='month', y='w_temperature', style = '>', c='grey', markersize = 5, label = '2018_hive_temp', secondary_y=True, xlim = [0,13], ax = ax_new)\n",
    "ax_new.set_ylabel('Temp of Hive (deg C)')\n",
    "\n",
    "ax.set_xlabel('Months')\n",
    "ax.legend(loc='right')\n",
    "plt.title('Wurzburg City')\n",
    "plt.tight_layout()"
   ]
  },
  {
   "cell_type": "code",
   "execution_count": null,
   "metadata": {},
   "outputs": [],
   "source": [
    "#fig, ax = plt.subplots()\n",
    "ax =weather_hive_ws_two.loc[(weather_hive_ws_two['year']==2019)].plot.scatter(x='month', y='w_weight', c='blue', marker = 'o', label = '2019_hive_weight')\n",
    "ax.set_ylabel('Weight of hive (kgs)')\n",
    "ax.set_xlabel('Months')\n",
    "ax.legend(loc='left')\n",
    "ax.ylim = [0,120000]\n",
    "\n",
    "ax_new = ax.twinx()\n",
    "month_avg_weather_hive_ws_two.loc[(month_avg_weather_hive_ws_two['year']==2019)].plot(x='month', y='w_temperature', style = '>', c='grey', markersize = 5, label = '2019_hive_temp', secondary_y=True, xlim = [0,13], ax = ax_new)\n",
    "ax_new.set_ylabel('Temp of Hive (deg C)')\n",
    "\n",
    "ax.set_xlabel('Months')\n",
    "ax.legend(loc='right')\n",
    "plt.title('Wurzburg City')\n",
    "plt.tight_layout()"
   ]
  },
  {
   "cell_type": "code",
   "execution_count": null,
   "metadata": {},
   "outputs": [],
   "source": [
    "#fig, ax = plt.subplots()\n",
    "ax =weather_hive_ws_two.loc[(weather_hive_ws_two['year']==2019)].plot.scatter(x='month', y='w_flow', c='yellow', marker = 'o', label = '2019_hive_flow')\n",
    "ax.set_ylabel('Flow of bees (#)')\n",
    "ax.set_xlabel('Months')\n",
    "ax.legend(loc='left')\n",
    "ax.ylim = [0,120000]\n",
    "\n",
    "ax_new = ax.twinx()\n",
    "month_avg_weather_hive_ws_two.loc[(month_avg_weather_hive_ws_two['year']==2019)].plot(x='month', y='w_temperature', style = '>', c='grey', markersize = 5, label = '2019_hive_temp', secondary_y=True, xlim = [0,13], ax = ax_new)\n",
    "ax_new.set_ylabel('Temp of Hive (deg C)')\n",
    "\n",
    "ax.set_xlabel('Months')\n",
    "ax.legend(loc='right')\n",
    "plt.title('Wurzburg City')\n",
    "plt.tight_layout()"
   ]
  },
  {
   "cell_type": "code",
   "execution_count": null,
   "metadata": {},
   "outputs": [],
   "source": [
    "#fig, ax = plt.subplots()\n",
    "#month_avg_weather_hive_ws_two.groupby('year').plot(x='month', y='w_temperature', kind = 'scatter', c='blue', label = 'hive', marker = 'o', ax =ax)\n",
    "#month_avg_weather_hive_ws_two.groupby('year').plot(x='month', y='w_city_temp', kind = 'scatter', c='red', label = 'city', marker='x', ax =ax)\n",
    "\n",
    "#plt.xlabel('Months')\n",
    "#plt.ylabel('Mean Temperatures (deg C)')\n",
    "#plt.legend (loc='upper left')\n",
    "#plt.title('Wurzburg City')\n",
    "#plt.show()"
   ]
  },
  {
   "cell_type": "code",
   "execution_count": null,
   "metadata": {},
   "outputs": [],
   "source": [
    "# temperature and humidity variation inside the hive and in the city of Schwartau in years 2017, 2018, 2019\n",
    "fig = plt.figure()\n",
    "ax = fig.add_subplot(2,1,1)\n",
    "ax = month_avg_weather_hive_ws_two.loc[(month_avg_weather_hive_ws_two['year']==2017)].plot.scatter(x='month', y='s_temperature', c='green', marker = 'o', label = '2017_hive')\n",
    "month_avg_weather_hive_ws_two.loc[(month_avg_weather_hive_ws_two['year']==2017)].plot.scatter(x='month', y='s_city_temp', c='black',  marker = 'o', label = '2017_city', ax = ax)\n",
    "\n",
    "\n",
    "month_avg_weather_hive_ws_two.loc[(month_avg_weather_hive_ws_two['year']==2018)].plot(x='month', y='s_temperature', kind = 'scatter', ylim = (0,30), c='green', marker = 'x', label = '2018_hive', ax = ax)\n",
    "month_avg_weather_hive_ws_two.loc[(month_avg_weather_hive_ws_two['year']==2018)].plot.scatter(x='month', y='s_city_temp', c='black',  marker = 'x', label = '2018_city', ax = ax)\n",
    "\n",
    "month_avg_weather_hive_ws_two.loc[(month_avg_weather_hive_ws_two['year']==2019)].plot(x='month', y='s_temperature', kind ='scatter', xlim=(0,13), ylim = (0,40), marker = 'v', label = '2019_hive', ax = ax, c='green')\n",
    "month_avg_weather_hive_ws_two.loc[(month_avg_weather_hive_ws_two['year']==2019)].plot.scatter(x='month', y='s_city_temp', c='black', label = '2019_city', marker = 'v', ax = ax)\n",
    "\n",
    "plt.xlabel('Months')\n",
    "plt.ylabel('Mean Temperatures (deg C)')\n",
    "plt.legend (loc='upper right')\n",
    "plt.title('Schwartau City')\n",
    "\n",
    "plt.show()\n",
    "\n",
    "ax = fig.add_subplot(2,1,2)\n",
    "ax = month_avg_weather_hive_ws_two.loc[(month_avg_weather_hive_ws_two['year']==2017)].plot.scatter(x='month', y='s_humidity', c='green', marker = 'o', label = '2017_hive')\n",
    "month_avg_weather_hive_ws_two.loc[(month_avg_weather_hive_ws_two['year']==2017)].plot.scatter(x='month', y='s_city_humid', c='black',  marker = 'o', label = '2017_city', ax = ax)\n",
    "\n",
    "\n",
    "month_avg_weather_hive_ws_two.loc[(month_avg_weather_hive_ws_two['year']==2018)].plot(x='month', y='s_humidity', kind = 'scatter', c='green', marker = 'x', label = '2018_hive', ax = ax)\n",
    "month_avg_weather_hive_ws_two.loc[(month_avg_weather_hive_ws_two['year']==2018)].plot.scatter(x='month', y='s_city_humid', c='black',  marker = 'x', label = '2018_city', ax = ax)\n",
    "\n",
    "month_avg_weather_hive_ws_two.loc[(month_avg_weather_hive_ws_two['year']==2019)].plot(x='month', y='s_humidity', kind ='scatter', xlim=(0,13), ylim = (0,110), marker = 'v', label = '2019_hive', ax = ax, c='green')\n",
    "month_avg_weather_hive_ws_two.loc[(month_avg_weather_hive_ws_two['year']==2019)].plot.scatter(x='month', y='s_city_humid', c='black', label = '2019_city', marker = 'v', ax = ax)\n",
    "\n",
    "plt.xlabel('Months')\n",
    "plt.ylabel('Mean Humidity (%)')\n",
    "plt.legend (loc='lower right')\n",
    "plt.title('Schwartau City')\n",
    "\n",
    "plt.show()\n"
   ]
  },
  {
   "cell_type": "code",
   "execution_count": null,
   "metadata": {},
   "outputs": [],
   "source": [
    "# temperature and humidity variation inside the hive and in the city of Schwartau in years 2017, 2018, 2019\n",
    "ax = fig.add_subplot(2,1,1)\n",
    "ax = month_avg_weather_hive_ws_two.loc[(month_avg_weather_hive_ws_two['year']==2017)].plot.scatter(x='month', y='s_weight', c='green', marker = 'o', label = '2017_hive')\n",
    "month_avg_weather_hive_ws_two.loc[(month_avg_weather_hive_ws_two['year']==2018)].plot(x='month', y='s_weight', kind = 'scatter', c='green', marker = 'x', label = '2018_hive', ax = ax)\n",
    "month_avg_weather_hive_ws_two.loc[(month_avg_weather_hive_ws_two['year']==2019)].plot(x='month', y='s_weight', kind ='scatter', marker = 'v', label = '2019_hive', ax = ax, c='green')\n",
    "\n",
    "\n",
    "plt.xlabel('Months')\n",
    "plt.ylabel('Weight of hive (kgs)')\n",
    "plt.legend (loc='lower right')\n",
    "plt.title('Schwartau City')\n",
    "\n",
    "plt.show()\n",
    "\n",
    "ax = fig.add_subplot(2,1,2)\n",
    "ax = month_avg_weather_hive_ws_two.loc[(month_avg_weather_hive_ws_two['year']==2017)].plot.scatter(x='month', y='s_flow', c='green', marker = 'o', label = '2017_hive')\n",
    "month_avg_weather_hive_ws_two.loc[(month_avg_weather_hive_ws_two['year']==2018)].plot(x='month', y='s_flow', kind = 'scatter',  c='green', marker = 'x', label = '2018_hive', ax = ax)\n",
    "month_avg_weather_hive_ws_two.loc[(month_avg_weather_hive_ws_two['year']==2019)].plot(x='month', y='s_flow', kind ='scatter',  marker = 'v', label = '2019_hive', ax = ax, c='green')\n",
    "\n",
    "\n",
    "plt.xlabel('Months')\n",
    "plt.ylabel('Bee flow (#)')\n",
    "plt.legend (loc='upper right')\n",
    "plt.title('Schwartau City')\n",
    "\n",
    "plt.show()"
   ]
  },
  {
   "cell_type": "code",
   "execution_count": null,
   "metadata": {},
   "outputs": [],
   "source": [
    "#weight of hive and flow of bees into and out of hive in the city of Schwartau in years 2017, 2018, 2019\n",
    "ax = fig.add_subplot(2,1,1)\n",
    "ax3 = ax.twinx()\n",
    "rspine = ax3.spines['right']\n",
    "rspine.set_position(('axes', 1.15))\n",
    "ax3.set_frame_on(True)\n",
    "ax3.patch.set_visible(False)\n",
    "fig.subplots_adjust(right=0.7)\n",
    "ax =weather_hive_ws_two.loc[(weather_hive_ws_two['year']==2017)].plot.scatter(x='month', y='s_weight', c='green', marker = 'o', label = '2017_hive')\n",
    "weather_hive_ws_two.loc[(weather_hive_ws_two['year']==2018)].plot(x='month', y='s_weight', kind = 'scatter', c='green', marker = 'x', label = '2018_hive', ax = ax)\n",
    "weather_hive_ws_two.loc[(weather_hive_ws_two['year']==2019)].plot(x='month', y='s_weight', kind ='scatter', marker = 'v', label = '2019_hive', ax = ax, c='green')\n",
    "month_avg_weather_hive_ws_two.plot(x='month', y='s_temperature', kind='line', c='black', label = 'hive temp', ax = ax3)\n",
    "\n",
    "plt.xlabel('Months')\n",
    "plt.ylabel('Weight of hive (kgs)')\n",
    "plt.legend (loc='lower right')\n",
    "plt.title('Schwartau City')\n",
    "\n",
    "plt.show()\n",
    "\n",
    "ax = fig.add_subplot(2,1,2)\n",
    "ax = weather_hive_ws_two.loc[(weather_hive_ws_two['year']==2017)].plot.scatter(x='month', y='s_flow', c='green', marker = 'o', label = '2017_hive')\n",
    "weather_hive_ws_two.loc[(weather_hive_ws_two['year']==2018)].plot(x='month', y='s_flow', kind = 'scatter',  c='green', marker = 'x', label = '2018_hive', ax = ax)\n",
    "weather_hive_ws_two.loc[(weather_hive_ws_two['year']==2019)].plot(x='month', y='s_flow', kind ='scatter',  marker = 'v', label = '2019_hive', ylim = (-80000, 80000), ax = ax, c='green')\n",
    "\n",
    "\n",
    "plt.xlabel('Months')\n",
    "plt.ylabel('Bee flow (#)')\n",
    "plt.legend (loc='upper right')\n",
    "plt.title('Schwartau City')\n",
    "\n",
    "plt.show()"
   ]
  },
  {
   "cell_type": "code",
   "execution_count": null,
   "metadata": {},
   "outputs": [],
   "source": [
    "#month_avg_weather_hive_ws_two['temp_difference'] = month_avg_weather_hive_ws_two['w_city_temp'] - month_avg_weather_hive_ws_two['w_temperature']\n",
    "\n",
    "#month_avg_weather_hive_ws_two['temp_difference'].plot(kind='hist', title= 'temperature difference histogram')\n",
    "#Again, this saves the plot as a png file\n",
    "#plt.savefig('blood pressure difference histogram.png')\n",
    "#plt.show()"
   ]
  },
  {
   "cell_type": "code",
   "execution_count": null,
   "metadata": {},
   "outputs": [],
   "source": [
    "#ttest_ind(month_avg_weather_hive_ws_two['w_city_temp'], month_avg_weather_hive_ws_two['w_temperature'])\n",
    "#scipy.stats.mannwhitneyu"
   ]
  },
  {
   "cell_type": "code",
   "execution_count": null,
   "metadata": {},
   "outputs": [],
   "source": [
    "#fig, ax = plt.subplots()\n",
    "\n",
    "ax =weather_hive_ws_two.loc[(weather_hive_ws_two['year']==2017)].plot.scatter(x='month', y='s_weight', c='green', marker = 'o', label = '2017_hive')\n",
    "weather_hive_ws_two.loc[(weather_hive_ws_two['year']==2018)].plot(x='month', y='s_weight', kind = 'scatter', c='green', marker = 'x', label = '2018_hive', ax = ax)\n",
    "weather_hive_ws_two.loc[(weather_hive_ws_two['year']==2019)].plot(x='month', y='s_weight', kind ='scatter', marker = 'v', label = '2019_hive', xlim = [0,13], ylim = [0,120000], ax = ax, c='green')\n",
    "\n",
    "ax.set_ylabel('Weight of hive (kgs)')\n",
    "ax.set_xlabel('Months')\n",
    "\n",
    "ax.legend(loc='upper left')\n",
    "\n",
    "ax_new = ax.twinx()\n",
    "#month_avg_weather_hive_ws_two.plot(x='month', y='s_temperature', style = '>', color = 'purple', markersize = 5,  secondary_y=True, label = 'hive temp', xlim = [0,13], ax = ax_new)\n",
    "month_avg_weather_hive_ws_two.loc[(month_avg_weather_hive_ws_two['year']==2017)].plot(x='month', y='s_temperature', style = '>', markersize = 5,  secondary_y=True, label = '2017_hive', ax = ax_new)\n",
    "month_avg_weather_hive_ws_two.loc[(month_avg_weather_hive_ws_two['year']==2018)].plot(x='month', y='s_temperature', style = 'x', markersize = 5,  secondary_y=True, label = '2018_hive', ax = ax_new)\n",
    "month_avg_weather_hive_ws_two.loc[(month_avg_weather_hive_ws_two['year']==2019)].plot(x='month', y='s_temperature', style = '^', markersize = 5,  secondary_y=True, label = '2019_hive', xlim = [0,13], ylim = [0,50], ax = ax_new)\n",
    "\n",
    "\n",
    "#ax_new.set_ylim = [0,50]\n",
    "#ax_new.set_ylabel('Hive temperature (deg C)')\n",
    "\n",
    "\n",
    "\n",
    "\n",
    "\n",
    "\n",
    "#plt.legend (loc='lower right')\n",
    "plt.title('Schwartau City')\n",
    "#plt.figure(figsize=(80,40))\n",
    "plt.tight_layout()"
   ]
  },
  {
   "cell_type": "code",
   "execution_count": null,
   "metadata": {},
   "outputs": [],
   "source": [
    "#fig, ax = plt.subplots()\n",
    "ax =weather_hive_ws_two.loc[(weather_hive_ws_two['year']==2017)].plot.scatter(x='month', y='s_weight', c='green', marker = 'o', ylim = [0,120000], label = '2017_hive_weight')\n",
    "ax.set_ylabel('Weight of hive (kgs)')\n",
    "ax.set_xlabel('Months')\n",
    "ax.legend(loc='upper left')\n",
    "\n",
    "\n",
    "ax_new = ax.twinx()\n",
    "month_avg_weather_hive_ws_two.loc[(month_avg_weather_hive_ws_two['year']==2017)].plot(x='month', y='s_temperature', style = '>', markersize = 5, label = '2017_hive_temp', secondary_y=True, xlim = [0,13], ax = ax_new)\n",
    "ax_new.set_ylabel('Temp of Hive (deg C)')\n",
    "\n",
    "ax_new.set_xlabel('Months')\n",
    "ax_new.legend(loc='lower right')\n",
    "plt.title('Schwartau City')\n",
    "plt.tight_layout()"
   ]
  },
  {
   "cell_type": "code",
   "execution_count": null,
   "metadata": {},
   "outputs": [],
   "source": [
    "#fig, ax = plt.subplots()\n",
    "ax =weather_hive_ws_two.loc[(weather_hive_ws_two['year']==2017)].plot.scatter(x='month', y='s_flow', c='purple', marker = 'o', label = '2017_hive_flow')\n",
    "ax.set_ylabel('Flow of bees (#)')\n",
    "ax.set_xlabel('Months')\n",
    "ax.legend(loc='left')\n",
    "#ax.ylim = [0,120000]\n",
    "\n",
    "ax_new = ax.twinx()\n",
    "month_avg_weather_hive_ws_two.loc[(month_avg_weather_hive_ws_two['year']==2017)].plot(x='month', y='s_temperature', style = '>', markersize = 5, label = '2017_hive_temp', secondary_y=True, xlim = [0,13], ax = ax_new)\n",
    "ax_new.set_ylabel('Temp of Hive (deg C)')\n",
    "\n",
    "ax.set_xlabel('Months')\n",
    "ax.legend(loc='right')\n",
    "plt.title('Schwartau City')\n",
    "plt.tight_layout()"
   ]
  },
  {
   "cell_type": "code",
   "execution_count": null,
   "metadata": {},
   "outputs": [],
   "source": [
    "#fig, ax = plt.subplots(sharex = True)\n",
    "ax =weather_hive_ws_two.loc[(weather_hive_ws_two['year']==2018)].plot.scatter(x='month', y='s_weight', c='green', marker = 'o', label = '2018_hive_weight')\n",
    "ax.set_ylabel('Weight of hive (kgs)')\n",
    "ax.set_xlabel('Months')\n",
    "ax.legend(loc='left')\n",
    "ax.ylim = [0,120000]\n",
    "\n",
    "ax_new = ax.twinx()\n",
    "month_avg_weather_hive_ws_two.loc[(month_avg_weather_hive_ws_two['year']==2018)].plot(x='month', y='s_temperature', style = '>', markersize = 5, label = '2018_hive_temp', secondary_y=True, xlim = [0,13], ax = ax_new)\n",
    "ax_new.set_ylabel('Temp of Hive (deg C)')\n",
    "ax.set_xlabel('Months')\n",
    "ax.legend(loc='right')\n",
    "ax_new.right_ax.ylim = (0,40)\n",
    "plt.title('Schwartau City')\n",
    "plt.tight_layout()"
   ]
  },
  {
   "cell_type": "code",
   "execution_count": null,
   "metadata": {},
   "outputs": [],
   "source": [
    "#fig, ax = plt.subplots()\n",
    "ax =weather_hive_ws_two.loc[(weather_hive_ws_two['year']==2018)].plot.scatter(x='month', y='s_flow', c='purple', marker = 'o', label = '2018_hive_flow')\n",
    "ax.set_ylabel('Flow of bees (#)')\n",
    "ax.set_xlabel('Months')\n",
    "ax.legend(loc='left')\n",
    "#ax.ylim = [0,120000]\n",
    "\n",
    "ax_new = ax.twinx()\n",
    "month_avg_weather_hive_ws_two.loc[(month_avg_weather_hive_ws_two['year']==2018)].plot(x='month', y='s_temperature', style = '>', markersize = 5, label = '2018_hive_temp', secondary_y=True, xlim = [0,13], ax = ax_new)\n",
    "ax_new.set_ylabel('Temp of Hive (deg C)')\n",
    "\n",
    "ax.set_xlabel('Months')\n",
    "ax.legend(loc='right')\n",
    "plt.title('Schwartau City')\n",
    "plt.tight_layout()"
   ]
  },
  {
   "cell_type": "code",
   "execution_count": null,
   "metadata": {},
   "outputs": [],
   "source": [
    "#fig, ax = plt.subplots()\n",
    "ax =weather_hive_ws_two.loc[(weather_hive_ws_two['year']==2019)].plot.scatter(x='month', y='s_weight', c='green', marker = 'o', label = '2019_hive_weight')\n",
    "ax.set_ylabel('Weight of hive (kgs)')\n",
    "ax.set_xlabel('Months')\n",
    "ax.legend(loc='left')\n",
    "\n",
    "ax_new = ax.twinx()\n",
    "month_avg_weather_hive_ws_two.loc[(month_avg_weather_hive_ws_two['year']==2019)].plot(x='month', y='s_temperature', style = '>', markersize = 5, label = '2019_hive_temp', secondary_y=True, xlim = [0,13], ax = ax_new)\n",
    "ax_new.set_ylabel('Temp of Hive (deg C)')\n",
    "ax.set_xlabel('Months')\n",
    "ax.legend(loc='right')\n",
    "plt.title('Schwartau City')\n",
    "plt.tight_layout()"
   ]
  },
  {
   "cell_type": "code",
   "execution_count": null,
   "metadata": {
    "scrolled": true
   },
   "outputs": [],
   "source": [
    "#fig, ax = plt.subplots()\n",
    "ax =weather_hive_ws_two.loc[(weather_hive_ws_two['year']==2019)].plot.scatter(x='month', y='s_flow', c='purple', marker = 'o', label = '2019_hive_flow')\n",
    "ax.set_ylabel('Flow of bees (#)')\n",
    "ax.set_xlabel('Months')\n",
    "ax.legend(loc='left')\n",
    "#ax.ylim = [0,120000]\n",
    "\n",
    "ax_new = ax.twinx()\n",
    "month_avg_weather_hive_ws_two.loc[(month_avg_weather_hive_ws_two['year']==2019)].plot(x='month', y='s_temperature', style = '>', markersize = 5, label = '2019_hive_temp', secondary_y=True, xlim = [0,13], ax = ax_new)\n",
    "ax_new.set_ylabel('Temp of Hive (deg C)')\n",
    "\n",
    "ax.set_xlabel('Months')\n",
    "ax.legend(loc='right')\n",
    "plt.title('Schwartau City')\n",
    "plt.tight_layout()"
   ]
  },
  {
   "cell_type": "code",
   "execution_count": null,
   "metadata": {},
   "outputs": [],
   "source": [
    "month_avg_weather_hive_ws_two['temp_difference'] = month_avg_weather_hive_ws_two['w_city_temp'] - month_avg_weather_hive_ws_two['w_temperature']\n",
    "\n",
    "month_avg_weather_hive_ws_two['temp_difference'].plot(kind='hist', title= 'temperature difference histogram')\n"
   ]
  },
  {
   "cell_type": "code",
   "execution_count": null,
   "metadata": {},
   "outputs": [],
   "source": [
    "scipy.stats.wilcoxon(month_avg_weather_hive_ws_two['w_city_temp'], month_avg_weather_hive_ws_two['w_temperature'])"
   ]
  },
  {
   "cell_type": "code",
   "execution_count": null,
   "metadata": {},
   "outputs": [],
   "source": [
    "scipy.stats.wilcoxon(month_avg_weather_hive_ws_two['s_city_temp'], month_avg_weather_hive_ws_two['s_temperature'])"
   ]
  },
  {
   "cell_type": "code",
   "execution_count": null,
   "metadata": {},
   "outputs": [],
   "source": [
    "scipy.stats.wilcoxon(month_avg_weather_hive_ws_two['w_city_humid'], month_avg_weather_hive_ws_two['w_humidity'])"
   ]
  },
  {
   "cell_type": "code",
   "execution_count": null,
   "metadata": {},
   "outputs": [],
   "source": [
    "scipy.stats.wilcoxon(month_avg_weather_hive_ws_two['s_city_humid'], month_avg_weather_hive_ws_two['s_humidity'])"
   ]
  },
  {
   "cell_type": "code",
   "execution_count": null,
   "metadata": {},
   "outputs": [],
   "source": [
    "#month_avg_weather_hive_ws_two['temp_diff'] = month_avg_weather_hive_ws_two['w_city_temp'] - month_avg_weather_hive_ws_two['w_temperature']\n",
    "#scipy.stats.wilcoxon(month_avg_weather_hive_ws_two['temp_diff'])                 "
   ]
  },
  {
   "cell_type": "code",
   "execution_count": null,
   "metadata": {},
   "outputs": [],
   "source": [
    "#flow_avg_peak_w = month_avg_weather_hive_ws_two['w_']\n",
    "mean_flow_2019_w = month_avg_weather_hive_ws_two.loc[(month_avg_weather_hive_ws_two['year']==2019)]\n",
    "mean_flow_2019_monthly_w_df = pd.DataFrame(mean_flow_2019_w['w_flow'])\n",
    "mean_flow_2019_monthly_w_df"
   ]
  },
  {
   "cell_type": "code",
   "execution_count": null,
   "metadata": {},
   "outputs": [],
   "source": [
    "#Shapiro-Wilk test to determine normal distribution of variables for Wurzburg city beehive\n",
    "p_value_weight_w = stats.shapiro(weather_hive_ws_two['w_weight'])\n",
    "if p_value_weight_w[1] <0.05:\n",
    "    print(\"w_weight is not normally distributed\")\n",
    "w_weight_hist = weather_hive_ws_two['w_weight'].plot(kind='hist', title= 'w_weight_histogram')\n",
    "w_weight_hist\n",
    "\n",
    "\n",
    "p_value_flow_w = stats.shapiro(weather_hive_ws_two['w_flow'])\n",
    "if p_value_flow_w[1] <0.05:\n",
    "    print(\"w_flow is not normally distributed\")\n",
    "w_flow_hist = weather_hive_ws_two['w_flow'].plot(kind='hist', title= 'w_flow_histogram')\n",
    "w_flow_hist\n",
    "\n",
    "p_value_hivetemp_w = stats.shapiro(weather_hive_ws_two['w_temperature'])\n",
    "if p_value_hivetemp_w[1] <0.05:\n",
    "    print(\"w_hivetemp is not normally distributed\")\n",
    "    \n",
    "p_value_hivehumid_w = stats.shapiro(weather_hive_ws_two['w_humidity'])\n",
    "if p_value_hivehumid_w[1] <0.05:\n",
    "    print(\"w_hivehumid is not normally distributed\")\n",
    "    \n",
    "p_value_cityhumid_w = stats.shapiro(weather_hive_ws_two['w_city_humid'])\n",
    "if p_value_cityhumid_w[1] <0.05:\n",
    "    print(\"w_cityhumid is not normally distributed\")\n",
    "    \n",
    "p_value_citytemp_w = stats.shapiro(weather_hive_ws_two['w_city_temp'])\n",
    "if p_value_citytemp_w[1] <0.05:\n",
    "    print(\"w_citytemp is not normally distributed\")"
   ]
  },
  {
   "cell_type": "code",
   "execution_count": null,
   "metadata": {},
   "outputs": [],
   "source": [
    "#Shapiro-Wilk test to determine normal distribution of variables for Schwartau city beehive\n",
    "p_value_weight_s = stats.shapiro(weather_hive_ws_two['s_weight'])\n",
    "if p_value_weight_s[1] <0.05:\n",
    "    print(\"s_weight is not normally distributed\")\n",
    "\n",
    "p_value_flow_s = stats.shapiro(weather_hive_ws_two['s_flow'])\n",
    "if p_value_flow_s[1] <0.05:\n",
    "    print(\"s_flow is not normally distributed\")\n",
    "\n",
    "\n",
    "p_value_hivetemp_s = stats.shapiro(weather_hive_ws_two['s_temperature'])\n",
    "if p_value_hivetemp_s[1] <0.05:\n",
    "    print(\"s_hivetemp is not normally distributed\")\n",
    "    \n",
    "p_value_hivehumid_s = stats.shapiro(weather_hive_ws_two['s_humidity'])\n",
    "if p_value_hivehumid_s[1] <0.05:\n",
    "    print(\"s_hivehumid is not normally distributed\")\n",
    "    \n",
    "p_value_cityhumid_s = stats.shapiro(weather_hive_ws_two['s_city_humid'])\n",
    "if p_value_cityhumid_s[1] <0.05:\n",
    "    print(\"s_cityhumid is not normally distributed\")\n",
    "    \n",
    "p_value_citytemp_s = stats.shapiro(weather_hive_ws_two['s_city_temp'])\n",
    "if p_value_citytemp_s[1] <0.05:\n",
    "    print(\"s_citytemp is not normally distributed\")"
   ]
  },
  {
   "cell_type": "code",
   "execution_count": null,
   "metadata": {},
   "outputs": [],
   "source": [
    "#spearman correlation between dependent variables\n",
    "corr_w = spearmanr(weather_hive_ws_two['w_weight'], weather_hive_ws_two['w_flow'])\n",
    "corr_s = spearmanr(weather_hive_ws_two['s_weight'], weather_hive_ws_two['s_flow'])\n",
    "\n",
    "print(corr_w)\n",
    "print(corr_s)"
   ]
  },
  {
   "cell_type": "code",
   "execution_count": null,
   "metadata": {},
   "outputs": [],
   "source": [
    "#spearman correlation between independent variables\n",
    "weather_hive_ws_two.head()\n",
    "ind_corr_thh_w = spearmanr(weather_hive_ws_two['w_temperature'], weather_hive_ws_two['w_humidity'])\n",
    "print(ind_corr_thh_w)\n",
    "ind_corr_thc_w = spearmanr(weather_hive_ws_two['w_city_temp'], weather_hive_ws_two['w_city_humid'])\n",
    "print(ind_corr_thc_w)\n",
    "ind_corr_tt_w = spearmanr(weather_hive_ws_two['w_city_temp'], weather_hive_ws_two['w_temperature'])\n",
    "print(ind_corr_tt_w)\n",
    "ind_corr_hh_w = spearmanr(weather_hive_ws_two['w_city_humid'], weather_hive_ws_two['w_humidity'])\n",
    "print(ind_corr_hh_w)\n",
    "\n",
    "ind_corr_thh_s = spearmanr(weather_hive_ws_two['s_temperature'], weather_hive_ws_two['s_humidity'])\n",
    "print(ind_corr_thh_s)\n",
    "ind_corr_thc_s = spearmanr(weather_hive_ws_two['s_city_temp'], weather_hive_ws_two['s_city_humid'])\n",
    "print(ind_corr_thc_s)\n",
    "ind_corr_tt_s = spearmanr(weather_hive_ws_two['s_city_temp'], weather_hive_ws_two['s_temperature'])\n",
    "print(ind_corr_tt_s)\n",
    "ind_corr_hh_s = spearmanr(weather_hive_ws_two['s_city_humid'], weather_hive_ws_two['s_humidity'])\n",
    "print(ind_corr_hh_s)"
   ]
  },
  {
   "cell_type": "code",
   "execution_count": null,
   "metadata": {},
   "outputs": [],
   "source": [
    "#Box-Cox power transformation to normalize data distribution for Wurzburg city beehive\n",
    "tr_w_weight = stats.boxcox(weather_hive_ws_two['w_weight'])\n",
    "weather_hive_ws_two['tr_w_weight'] = tr_w_weight[0]\n",
    "#weather_hive_ws_two.head()\n",
    "\n",
    "#min_flow \n",
    "min_flow = weather_hive_ws_two['w_flow'].min()\n",
    "min_flow\n",
    "weather_hive_ws_two['w_flow_p'] =weather_hive_ws_two['w_flow'].add(-min_flow+1)\n",
    "#print(weather_hive_ws_two['w_flow_p'].min())\n",
    "weather_hive_ws_two.head()\n",
    "tr_w_flow_p = stats.boxcox(weather_hive_ws_two['w_flow_p'])\n",
    "weather_hive_ws_two['tr_w_flow_p'] = tr_w_flow_p[0]\n",
    "#weather_hive_ws_two.head()\n",
    "\n",
    "min_temp = weather_hive_ws_two['w_temperature'].min()\n",
    "#print(min_temp)\n",
    "weather_hive_ws_two['w_temp_p'] =weather_hive_ws_two['w_temperature'].add(-min_temp+1)\n",
    "tr_w_temp_p = stats.boxcox(weather_hive_ws_two['w_temp_p'])\n",
    "weather_hive_ws_two['tr_w_temp_p'] = tr_w_temp_p[0]\n",
    "#weather_hive_ws_two.head()\n",
    "\n",
    "tr_w_humidity = stats.boxcox(weather_hive_ws_two['w_humidity'])\n",
    "weather_hive_ws_two['tr_w_humid'] = tr_w_humidity[0]\n",
    "\n",
    "min_city_temp = weather_hive_ws_two['w_city_temp'].min()\n",
    "#print(min_temp)\n",
    "weather_hive_ws_two['w_city_temp_p'] =weather_hive_ws_two['w_city_temp'].add(-min_city_temp+1)\n",
    "tr_w_city_temp_p = stats.boxcox(weather_hive_ws_two['w_city_temp_p'])\n",
    "weather_hive_ws_two['tr_w_city_temp_p'] = tr_w_city_temp_p[0]\n",
    "#weather_hive_ws_two.head() \n",
    "\n",
    "\n",
    "tr_w_city_humidity = stats.boxcox(weather_hive_ws_two['w_city_humid'])\n",
    "weather_hive_ws_two['tr_w_city_humid'] = tr_w_city_humidity[0]\n",
    "weather_hive_ws_two.head()\n",
    "\n",
    "weather_hive_w_normal = weather_hive_ws_two.drop(columns=['w_humidity', 'w_temperature','w_weight', 'w_flow', 'w_city_humid', 'w_city_temp','s_weight', 's_flow', 's_temperature', 's_humidity', 's_city_humid', 's_city_temp', 'w_flow_p', 'w_temp_p', 'w_city_temp_p']) \n",
    "weather_hive_w_normal.head()"
   ]
  },
  {
   "cell_type": "code",
   "execution_count": null,
   "metadata": {},
   "outputs": [],
   "source": [
    "#Box-Cox power transformation to normalize data distribution for Schwartau city beehive\n",
    "tr_s_weight = stats.boxcox(weather_hive_ws_two['s_weight'])\n",
    "weather_hive_ws_two['tr_s_weight'] = tr_s_weight[0]\n",
    "#weather_hive_ws_two.head()\n",
    "\n",
    "#min_flow \n",
    "min_flow_s = weather_hive_ws_two['s_flow'].min()\n",
    "min_flow_s\n",
    "weather_hive_ws_two['s_flow_p'] =weather_hive_ws_two['s_flow'].add(-min_flow_s+1)\n",
    "#print(weather_hive_ws_two['w_flow_p'].min())\n",
    "weather_hive_ws_two.head()\n",
    "tr_s_flow_p = stats.boxcox(weather_hive_ws_two['s_flow_p'])\n",
    "weather_hive_ws_two['tr_s_flow_p'] = tr_s_flow_p[0]\n",
    "#weather_hive_ws_two.head()\n",
    "\n",
    "min_temp_s = weather_hive_ws_two['s_temperature'].min()\n",
    "#print(min_temp)\n",
    "weather_hive_ws_two['s_temp_p'] =weather_hive_ws_two['s_temperature'].add(-(min_temp_s)+1)\n",
    "tr_s_temp_p = stats.boxcox(weather_hive_ws_two['s_temp_p'])\n",
    "weather_hive_ws_two['tr_s_temp_p'] = tr_s_temp_p[0]\n",
    "#weather_hive_ws_two.head()\n",
    "\n",
    "tr_s_humidity = stats.boxcox(weather_hive_ws_two['s_humidity'])\n",
    "weather_hive_ws_two['tr_s_humid'] = tr_s_humidity[0]\n",
    "\n",
    "min_city_temp_s = weather_hive_ws_two['s_city_temp'].min()\n",
    "#print(min_temp)\n",
    "weather_hive_ws_two['s_city_temp_p'] =weather_hive_ws_two['s_city_temp'].add(-min_city_temp_s+1)\n",
    "tr_s_city_temp_p = stats.boxcox(weather_hive_ws_two['s_city_temp_p'])\n",
    "weather_hive_ws_two['tr_s_city_temp_p'] = tr_s_city_temp_p[0]\n",
    "#weather_hive_ws_two.head() \n",
    "\n",
    "\n",
    "tr_s_city_humidity = stats.boxcox(weather_hive_ws_two['s_city_humid'])\n",
    "weather_hive_ws_two['tr_s_city_humid'] = tr_s_city_humidity[0]\n",
    "weather_hive_ws_two.head()\n",
    "\n",
    "weather_hive_s_normal = weather_hive_ws_two.drop(columns=['w_humidity', 'w_temperature','w_weight', 'w_flow', 'w_city_humid', 'w_city_temp','s_weight', 's_flow', 's_temperature', 's_humidity', 's_city_humid', 's_city_temp', 's_flow_p', 's_temp_p', 's_city_temp_p']) \n",
    "weather_hive_s_normal.head()"
   ]
  },
  {
   "cell_type": "code",
   "execution_count": null,
   "metadata": {},
   "outputs": [],
   "source": [
    "#spearman correlation between normalized independent variables\n",
    "corr_wn = spearmanr(weather_hive_w_normal['tr_w_weight'], weather_hive_w_normal['tr_w_flow_p'])\n",
    "corr_sn = spearmanr(weather_hive_s_normal['tr_s_weight'], weather_hive_s_normal['tr_s_flow_p'])\n",
    "\n",
    "print(corr_wn)\n",
    "print(corr_sn)"
   ]
  },
  {
   "cell_type": "code",
   "execution_count": null,
   "metadata": {},
   "outputs": [],
   "source": [
    "#spearman correlation between normalized independent variables - Wurzburg\n",
    "ind_corr_thh_wn = spearmanr(weather_hive_w_normal['tr_w_temp_p'], weather_hive_w_normal['tr_w_humid'])\n",
    "print(ind_corr_thh_wn)\n",
    "ind_corr_thc_wn = spearmanr(weather_hive_w_normal['tr_w_city_temp_p'], weather_hive_w_normal['tr_w_city_humid'])\n",
    "print(ind_corr_thc_wn)\n",
    "ind_corr_tt_wn = spearmanr(weather_hive_w_normal['tr_w_city_temp_p'], weather_hive_w_normal['tr_w_temp_p'])\n",
    "print(ind_corr_tt_wn)\n",
    "ind_corr_tw_wn = spearmanr(weather_hive_w_normal['tr_w_temp_p'], weather_hive_w_normal['tr_w_weight'])\n",
    "print(ind_corr_tw_wn)\n",
    "ind_corr_tf_wn = spearmanr(weather_hive_w_normal['tr_w_temp_p'], weather_hive_w_normal['tr_w_flow_p'])\n",
    "print(ind_corr_tf_wn)\n",
    "ind_corr_hh_wn = spearmanr(weather_hive_w_normal['tr_w_city_humid'], weather_hive_w_normal['tr_w_humid'])\n",
    "print(ind_corr_hh_wn)\n",
    "ind_corr_hw_wn = spearmanr(weather_hive_w_normal['tr_w_humid'], weather_hive_w_normal['tr_w_weight'])\n",
    "print(ind_corr_hw_wn)\n",
    "ind_corr_hf_wn = spearmanr(weather_hive_w_normal['tr_w_humid'], weather_hive_w_normal['tr_w_flow_p'])\n",
    "print(ind_corr_hf_wn)\n",
    "\n"
   ]
  },
  {
   "cell_type": "code",
   "execution_count": null,
   "metadata": {},
   "outputs": [],
   "source": [
    "#spearman correlation between normalized independent variables - Schwartau\n",
    "ind_corr_thh_sn = spearmanr(weather_hive_s_normal['tr_s_temp_p'], weather_hive_s_normal['tr_s_humid'])\n",
    "print(ind_corr_thh_sn)\n",
    "ind_corr_thc_sn = spearmanr(weather_hive_s_normal['tr_s_city_temp_p'], weather_hive_s_normal['tr_s_city_humid'])\n",
    "print(ind_corr_thc_sn)\n",
    "ind_corr_tt_sn = spearmanr(weather_hive_s_normal['tr_s_city_temp_p'], weather_hive_s_normal['tr_s_temp_p'])\n",
    "print(ind_corr_tt_sn)\n",
    "ind_corr_tw_sn = spearmanr(weather_hive_s_normal['tr_s_temp_p'], weather_hive_s_normal['tr_s_weight'])\n",
    "print(ind_corr_tw_sn)\n",
    "ind_corr_tf_sn = spearmanr(weather_hive_s_normal['tr_s_temp_p'], weather_hive_s_normal['tr_s_flow_p'])\n",
    "print(ind_corr_tf_sn)\n",
    "ind_corr_hh_sn = spearmanr(weather_hive_s_normal['tr_s_city_humid'], weather_hive_s_normal['tr_s_humid'])\n",
    "print(ind_corr_hh_sn)\n",
    "ind_corr_hw_sn = spearmanr(weather_hive_s_normal['tr_s_humid'], weather_hive_s_normal['tr_s_weight'])\n",
    "print(ind_corr_hw_sn)\n",
    "ind_corr_hf_sn = spearmanr(weather_hive_s_normal['tr_s_humid'], weather_hive_s_normal['tr_s_flow_p'])\n",
    "print(ind_corr_hf_sn)"
   ]
  },
  {
   "cell_type": "code",
   "execution_count": null,
   "metadata": {},
   "outputs": [],
   "source": [
    "#wurzburg: hive temperature effect\n",
    "w_temp_30 = weather_hive_ws_two.loc[weather_hive_ws_two['w_temperature']>30, ['w_weight', 'w_flow']]\n",
    "print(\"w_temp_greater than 30\" , w_temp_30.describe())\n",
    "w_temp_l30 = weather_hive_ws_two.loc[weather_hive_ws_two['w_temperature']<30, ['w_weight', 'w_flow']]\n",
    "print(\"w_temp_less than 30\" , w_temp_l30.describe())\n",
    "temp_weight = ttest_ind(w_temp_30['w_weight'], w_temp_l30['w_weight'], equal_var=False)\n",
    "temp_flow = ttest_ind(w_temp_30['w_flow'], w_temp_l30['w_flow'], equal_var=False)\n",
    "print(\"effect of temp on weight of hive = \", temp_weight)\n",
    "print(\"effect of temp on flow of bees = \", temp_flow)\n"
   ]
  },
  {
   "cell_type": "code",
   "execution_count": null,
   "metadata": {},
   "outputs": [],
   "source": [
    "#schwartau: hive temperature effect\n",
    "s_temp_30 = weather_hive_ws_two.loc[weather_hive_ws_two['s_temperature']>30, ['s_weight', 's_flow']]\n",
    "print(\"s_temp_greater than 30\" , s_temp_30.describe())\n",
    "s_temp_l30 = weather_hive_ws_two.loc[weather_hive_ws_two['s_temperature']<30, ['s_weight', 's_flow']]\n",
    "print(\"s_temp_less than 30\" , s_temp_l30.describe())\n",
    "s_temp_weight = ttest_ind(s_temp_30['s_weight'], s_temp_l30['s_weight'], equal_var=False)\n",
    "s_temp_flow = ttest_ind(s_temp_30['s_flow'], s_temp_l30['s_flow'], equal_var=False)\n",
    "print(\"effect of temp on weight of hive = \", s_temp_weight)\n",
    "print(\"effect of temp on flow of bees = \", s_temp_flow)"
   ]
  },
  {
   "cell_type": "code",
   "execution_count": null,
   "metadata": {},
   "outputs": [],
   "source": [
    "sw_temp_weight = ttest_ind(s_temp_30['s_weight'], w_temp_30['w_weight'], equal_var=False)\n",
    "sw_temp_flow = ttest_ind(s_temp_30['s_flow'], w_temp_30['w_flow'], equal_var=False)\n",
    "print(\"effect of >30 temp on weight of hive b/w wursburg and Sch = \", s_temp_weight)\n",
    "print(\"effect of >30 temp on bee flow b/w wursburg and Sch =\", s_temp_flow)"
   ]
  },
  {
   "cell_type": "code",
   "execution_count": null,
   "metadata": {},
   "outputs": [],
   "source": [
    "results_w = ols('tr_w_flow_p ~C(month)', data=weather_hive_w_normal).fit()\n",
    "results_w.summary()"
   ]
  },
  {
   "cell_type": "code",
   "execution_count": null,
   "metadata": {},
   "outputs": [],
   "source": [
    "print('Parameters: ', results_w.params)\n",
    "print('R2: ', results_w.rsquared)"
   ]
  },
  {
   "cell_type": "code",
   "execution_count": null,
   "metadata": {},
   "outputs": [],
   "source": [
    "results_s = ols('tr_s_flow_p ~C(month)', data=weather_hive_s_normal).fit()\n",
    "results_s.summary()"
   ]
  },
  {
   "cell_type": "code",
   "execution_count": null,
   "metadata": {},
   "outputs": [],
   "source": [
    "#result = ols('s_flow ~C(month)', data=weather_hive_ws_two).fit()\n",
    "#result.summary()"
   ]
  }
 ],
 "metadata": {
  "kernelspec": {
   "display_name": "Python 3",
   "language": "python",
   "name": "python3"
  },
  "language_info": {
   "codemirror_mode": {
    "name": "ipython",
    "version": 3
   },
   "file_extension": ".py",
   "mimetype": "text/x-python",
   "name": "python",
   "nbconvert_exporter": "python",
   "pygments_lexer": "ipython3",
   "version": "3.7.3"
  }
 },
 "nbformat": 4,
 "nbformat_minor": 2
}
