{
 "cells": [
  {
   "cell_type": "code",
   "execution_count": 1,
   "metadata": {},
   "outputs": [
    {
     "name": "stdout",
     "output_type": "stream",
     "text": [
      "Collecting statsmodels\n",
      "  Downloading https://files.pythonhosted.org/packages/b6/b6/7377d2e12b3734123f5957a3e078c7957698abc3296288197c0e8a2cd5d4/statsmodels-0.10.0-cp37-none-win_amd64.whl (7.6MB)\n",
      "Requirement already satisfied, skipping upgrade: scipy>=0.18 in c:\\users\\dinesh\\anaconda3\\lib\\site-packages (from statsmodels) (1.3.0)\n",
      "Requirement already satisfied, skipping upgrade: numpy>=1.11 in c:\\users\\dinesh\\anaconda3\\lib\\site-packages (from statsmodels) (1.16.2)\n",
      "Requirement already satisfied, skipping upgrade: patsy>=0.4.0 in c:\\users\\dinesh\\anaconda3\\lib\\site-packages (from statsmodels) (0.5.1)\n",
      "Requirement already satisfied, skipping upgrade: pandas>=0.19 in c:\\users\\dinesh\\anaconda3\\lib\\site-packages (from statsmodels) (0.24.2)\n",
      "Requirement already satisfied, skipping upgrade: six in c:\\users\\dinesh\\anaconda3\\lib\\site-packages (from patsy>=0.4.0->statsmodels) (1.12.0)\n",
      "Requirement already satisfied, skipping upgrade: python-dateutil>=2.5.0 in c:\\users\\dinesh\\anaconda3\\lib\\site-packages (from pandas>=0.19->statsmodels) (2.8.0)\n",
      "Requirement already satisfied, skipping upgrade: pytz>=2011k in c:\\users\\dinesh\\anaconda3\\lib\\site-packages (from pandas>=0.19->statsmodels) (2018.9)\n",
      "Installing collected packages: statsmodels\n",
      "  Found existing installation: statsmodels 0.9.0\n",
      "    Uninstalling statsmodels-0.9.0:\n",
      "      Successfully uninstalled statsmodels-0.9.0\n"
     ]
    },
    {
     "name": "stderr",
     "output_type": "stream",
     "text": [
      "Could not install packages due to an EnvironmentError: [WinError 5] Access is denied: 'c:\\\\users\\\\dinesh\\\\anaconda3\\\\lib\\\\site-packages\\\\~tatsmodels\\\\tsa\\\\statespace\\\\_filters\\\\_conventional.cp37-win_amd64.pyd'\n",
      "Consider using the `--user` option or check the permissions.\n",
      "\n"
     ]
    }
   ],
   "source": [
    "!pip install -U statsmodels\n"
   ]
  },
  {
   "cell_type": "code",
   "execution_count": 4,
   "metadata": {},
   "outputs": [],
   "source": [
    "# Bee Demo\n",
    "\n",
    "%matplotlib inline\n",
    "# Dependencies and Setup\n",
    "import matplotlib.pyplot as plt\n",
    "import pandas as pd\n",
    "import numpy as np\n",
    "from numpy import exp\n",
    "import os\n",
    "import datetime\n",
    "import scipy \n",
    "from scipy import stats \n",
    "from scipy.stats import shapiro\n",
    "from scipy.stats import spearmanr\n",
    "\n",
    "import statsmodels.api as sm\n",
    "from statsmodels.formula.api import ols"
   ]
  },
  {
   "cell_type": "code",
   "execution_count": null,
   "metadata": {},
   "outputs": [],
   "source": []
  }
 ],
 "metadata": {
  "kernelspec": {
   "display_name": "Python 3",
   "language": "python",
   "name": "python3"
  },
  "language_info": {
   "codemirror_mode": {
    "name": "ipython",
    "version": 3
   },
   "file_extension": ".py",
   "mimetype": "text/x-python",
   "name": "python",
   "nbconvert_exporter": "python",
   "pygments_lexer": "ipython3",
   "version": "3.7.3"
  }
 },
 "nbformat": 4,
 "nbformat_minor": 2
}
