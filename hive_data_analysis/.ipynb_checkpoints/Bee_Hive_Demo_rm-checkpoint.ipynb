{
 "cells": [
  {
   "cell_type": "code",
   "execution_count": null,
   "metadata": {},
   "outputs": [],
   "source": [
    "# Bee Demo\n",
    "\n",
    "%matplotlib inline\n",
    "# Dependencies and Setup\n",
    "import matplotlib.pyplot as plt\n",
    "import pandas as pd\n",
    "import numpy as np\n",
    "import os\n",
    "import datetime"
   ]
  },
  {
   "cell_type": "code",
   "execution_count": null,
   "metadata": {},
   "outputs": [],
   "source": [
    "#clean up data from openweather\n",
    "\n",
    "import warnings\n",
    "warnings.filterwarnings('ignore')\n"
   ]
  },
  {
   "cell_type": "code",
   "execution_count": null,
   "metadata": {},
   "outputs": [],
   "source": [
    "#import csv files\n",
    "\n",
    "ww_csv = \"data/Wurzburg_Weather.csv\"\n",
    "\n",
    "Wurz_df = pd.read_csv(ww_csv, encoding=\"utf-8\")\n",
    "Wurz_df.head()\n",
    "\n",
    "sw_csv = \"data/Schwartau-Lubeck_Weather.csv\"\n",
    "\n",
    "schwa_df = pd.read_csv(sw_csv, encoding=\"utf-8\")\n",
    "schwa_df.head()"
   ]
  },
  {
   "cell_type": "code",
   "execution_count": null,
   "metadata": {},
   "outputs": [],
   "source": [
    "#create DF with only relevant data\n",
    "\n",
    "Wurz_T_U_df = Wurz_df[['Local time in Wurzburg', 'T', 'U']]\n",
    "Wurz_T_U_df.head()\n",
    "\n",
    "schwa_T_U_df = schwa_df[['Local time in Lubeck / Blankensee (airport)', 'T', 'U']]\n",
    "schwa_T_U_df.head()"
   ]
  },
  {
   "cell_type": "code",
   "execution_count": null,
   "metadata": {},
   "outputs": [],
   "source": [
    "#clean up headers\n",
    "\n",
    "Wurz_T_U_df['Date'] = pd.to_datetime(Wurz_T_U_df['Local time in Wurzburg']).dt.date\n",
    "Wurz_T_U_df['Time'] = pd.to_datetime(Wurz_T_U_df['Local time in Wurzburg']).dt.time\n",
    "Wurz_T_U_df.head()\n",
    "\n",
    "schwa_T_U_df['Date'] = pd.to_datetime(schwa_T_U_df['Local time in Lubeck / Blankensee (airport)']).dt.date\n",
    "schwa_T_U_df['Time'] = pd.to_datetime(schwa_T_U_df['Local time in Lubeck / Blankensee (airport)']).dt.time\n",
    "schwa_T_U_df.head()"
   ]
  },
  {
   "cell_type": "code",
   "execution_count": null,
   "metadata": {},
   "outputs": [],
   "source": [
    "#arange headers\n",
    "\n",
    "Wurz_T_U_D = Wurz_T_U_df[['Date', 'T', 'U']]\n",
    "Wurz_T_U_D.head()\n",
    "\n",
    "schwa_T_U_D = schwa_T_U_df[['Date', 'T', 'U']]\n",
    "schwa_T_U_D.head()"
   ]
  },
  {
   "cell_type": "code",
   "execution_count": null,
   "metadata": {},
   "outputs": [],
   "source": [
    "#groupby date\n",
    "\n",
    "Wurz_Clean = Wurz_T_U_D.groupby(['Date']).mean()\n",
    "Wurz_Clean.head()\n",
    "\n",
    "schwa_Clean = schwa_T_U_D.groupby(['Date']).mean()\n",
    "schwa_Clean.head()"
   ]
  },
  {
   "cell_type": "code",
   "execution_count": null,
   "metadata": {},
   "outputs": [],
   "source": [
    "#EA: added index True, as date index missing from CSV.\n",
    "Wurz_Clean.to_csv('Wurzburg_Weather_Cleaned.csv', index=True, header=True)\n",
    "\n",
    "#EA: added index True, as date index missing from CSV.\n",
    "schwa_Clean.to_csv('schwartau_Weather_Cleaned.csv', index=True, header=True)"
   ]
  },
  {
   "cell_type": "code",
   "execution_count": null,
   "metadata": {},
   "outputs": [],
   "source": [
    "\n",
    "\n",
    "#wurzburg\n",
    "# File to Load (Remember to change these)\n",
    "wurz_flow_csv = \"data/flow_wurzburg.csv\"\n",
    "wurz_weight_csv = \"data/weight_wurzburg.csv\"\n",
    "wurz_temp_csv = \"data/temperature_wurzburg.csv\"\n",
    "wurz_humid_csv = \"data/humidity_wurzburg.csv\"\n",
    "\n",
    "\n",
    "# Read the hive Data\n",
    "wurz_flow = pd.read_csv(wurz_flow_csv, parse_dates=['timestamp'], date_parser=pd.to_datetime)\n",
    "wurz_weight_old = pd.read_csv(wurz_weight_csv, parse_dates=['timestamp'], date_parser=pd.to_datetime)\n",
    "wurz_temp = pd.read_csv(wurz_temp_csv, parse_dates=['timestamp'], date_parser=pd.to_datetime)\n",
    "wurz_humid_old = pd.read_csv(wurz_humid_csv, parse_dates=['timestamp'], date_parser=pd.to_datetime)\n",
    "\n",
    "\n"
   ]
  },
  {
   "cell_type": "code",
   "execution_count": null,
   "metadata": {},
   "outputs": [],
   "source": [
    "#Schwartau\n",
    "# File to Load (Remember to change these)\n",
    "\n",
    "schwa_flow_csv = \"data/flow_schwartau.csv\"\n",
    "schwa_weight_csv = \"data/weight_schwartau.csv\"\n",
    "schwa_temp_csv = \"data/temperature_schwartau.csv\"\n",
    "schwa_humid_csv = \"data/humidity_schwartau.csv\"\n",
    "\n",
    "# Read the hive Data\n",
    "\n",
    "schwa_flow = pd.read_csv(schwa_flow_csv, parse_dates=['timestamp'], date_parser=pd.to_datetime)\n",
    "schwa_weight_old = pd.read_csv(schwa_weight_csv, parse_dates=['timestamp'], date_parser=pd.to_datetime)\n",
    "schwa_temp = pd.read_csv(schwa_temp_csv, parse_dates=['timestamp'], date_parser=pd.to_datetime)\n",
    "schwa_humid_old = pd.read_csv(schwa_humid_csv, parse_dates=['timestamp'], date_parser=pd.to_datetime)\n",
    "\n",
    "\n"
   ]
  },
  {
   "cell_type": "code",
   "execution_count": null,
   "metadata": {},
   "outputs": [],
   "source": [
    "# fix the negative values showing up the weight and humid files. make new DF by removing any values less than zero\n",
    "\n",
    "\n",
    "wurz_weight = wurz_weight_old[wurz_weight_old['weight'] > 0]\n",
    "wurz_humid = wurz_humid_old[wurz_humid_old['humidity'] > 0]\n",
    "schwa_weight = schwa_weight_old[schwa_weight_old['weight'] > 0]\n",
    "schwa_humid = schwa_humid_old[schwa_humid_old['humidity'] > 0]\n"
   ]
  },
  {
   "cell_type": "code",
   "execution_count": null,
   "metadata": {},
   "outputs": [],
   "source": [
    "# Wurz\n",
    "# add a column for day, pull the date from timestamp colummn and populate in day column in each data source used.\n",
    "# also calculate the following:\n",
    "# flow sum\n",
    "# weight mean\n",
    "# temp mean\n",
    "# humid mean\n",
    "\n",
    "pd.DatetimeIndex(wurz_flow.timestamp).normalize()\n",
    "wurz_flow['day'] = pd.DatetimeIndex(wurz_flow.timestamp).normalize()\n",
    "wgroup_flow = wurz_flow.groupby(\"day\").sum()\n",
    "\n",
    "wurz_weight['day'] = pd.DatetimeIndex(wurz_weight.timestamp).normalize()\n",
    "wgroup_weight = wurz_weight.groupby(\"day\").mean()\n",
    "\n",
    "wurz_temp['day'] = pd.DatetimeIndex(wurz_temp.timestamp).normalize()\n",
    "wgroup_temp = wurz_temp.groupby(\"day\").mean()\n",
    "\n",
    "wurz_humid['day'] = pd.DatetimeIndex(wurz_humid.timestamp).normalize()\n",
    "wgroup_humid = wurz_humid.groupby(\"day\").mean()"
   ]
  },
  {
   "cell_type": "code",
   "execution_count": null,
   "metadata": {},
   "outputs": [],
   "source": [
    "# Schwartau\n",
    "# add a column for day, pull the date from timestamp colummn and populate in day column in each data source used.\n",
    "# also calculate the following:\n",
    "# flow sum\n",
    "# weight mean\n",
    "# temp mean\n",
    "# humid mean\n",
    "\n",
    "pd.DatetimeIndex(schwa_flow.timestamp).normalize()\n",
    "schwa_flow['day'] = pd.DatetimeIndex(schwa_flow.timestamp).normalize()\n",
    "sgroup_flow = schwa_flow.groupby(\"day\").sum()\n",
    "\n",
    "schwa_weight['day'] = pd.DatetimeIndex(schwa_weight.timestamp).normalize()\n",
    "sgroup_weight = schwa_weight.groupby(\"day\").mean()\n",
    "\n",
    "schwa_temp['day'] = pd.DatetimeIndex(schwa_temp.timestamp).normalize()\n",
    "sgroup_temp = schwa_temp.groupby(\"day\").mean()\n",
    "\n",
    "schwa_humid['day'] = pd.DatetimeIndex(schwa_humid.timestamp).normalize()\n",
    "sgroup_humid = schwa_humid.groupby(\"day\").mean()"
   ]
  },
  {
   "cell_type": "code",
   "execution_count": null,
   "metadata": {},
   "outputs": [],
   "source": [
    "# Wurz\n",
    "# Combine the data into a single dataset\n",
    "\n",
    "wurz_3_df = pd.merge(wgroup_humid, wgroup_temp, on=\"day\", how=\"inner\")\n",
    "wurz_2_df = pd.merge(wurz_3_df, wgroup_weight, on=\"day\", how=\"inner\")\n",
    "wurz_hive_df = pd.merge(wurz_2_df, wgroup_flow, on=\"day\", how=\"inner\")\n",
    "\n",
    "wurz_df = wurz_hive_df.rename(columns={\"humidity\":\"w_humidity\",\n",
    "                                       \"temperature\":\"w_temperature\",\n",
    "                                       \"weight\":\"w_weight\",\n",
    "                                       \"flow\":\"w_flow\"})\n",
    "\n",
    "\n",
    "wurz_df.head()"
   ]
  },
  {
   "cell_type": "code",
   "execution_count": null,
   "metadata": {},
   "outputs": [],
   "source": [
    "# Schwartau\n",
    "# Combine the data into a single dataset\n",
    "\n",
    "schwa_3_df = pd.merge(sgroup_humid, sgroup_temp, on=\"day\", how=\"inner\")\n",
    "schwa_2_df = pd.merge(schwa_3_df, sgroup_weight, on=\"day\", how=\"inner\")\n",
    "schwa_hive_df = pd.merge(schwa_2_df, sgroup_flow, on=\"day\", how=\"inner\")\n",
    "\n",
    "schwa_df = schwa_hive_df.rename(columns={\"humidity\":\"s_humidity\",\n",
    "                                       \"temperature\":\"s_temperature\",\n",
    "                                       \"weight\":\"s_weight\",\n",
    "                                       \"flow\":\"s_flow\"})\n",
    "\n",
    "\n",
    "schwa_df.head()"
   ]
  },
  {
   "cell_type": "code",
   "execution_count": null,
   "metadata": {},
   "outputs": [],
   "source": [
    "# merge the hive data for werzberg and shcwartau\n",
    "\n",
    "ws_df = pd.merge(wurz_df, schwa_df, on=\"day\", how=\"inner\")\n",
    "ws_df.head()"
   ]
  },
  {
   "cell_type": "code",
   "execution_count": null,
   "metadata": {},
   "outputs": [],
   "source": [
    "# Export the combined hive data as a CSV, with the Pandas index and with the header\n",
    "ws_df.to_csv(\"ws.csv\", index=True, header=True)\n",
    "ws_df.to_csv(\"data/ws.csv\", index=True, header=True)"
   ]
  },
  {
   "cell_type": "code",
   "execution_count": null,
   "metadata": {},
   "outputs": [],
   "source": [
    "#load the hive data and the weather data \n",
    "\n",
    "#wurzburg\n",
    "# File to Load (Remember to change these)\n",
    "ws_csv = \"data/ws.csv\"\n",
    "ww_csv = \"data/Wurzburg_Weather_Cleaned.csv\"\n",
    "sc_csv = \"data/schwartau_Weather_Cleaned.csv\"\n",
    "\n",
    "# Read the hive Data\n",
    "ws_df = pd.read_csv(ws_csv)\n",
    "ww_df = pd.read_csv(ww_csv)\n",
    "sc_df = pd.read_csv(sc_csv)\n",
    "\n",
    "ws_df = ws_df.rename(columns={\"day\":\"date\"})\n",
    "ww_df = ww_df.rename(columns={\"T\":\"w_city_temp\",\n",
    "                             \"U\":\"w_city_humid\",\n",
    "                             \"Date\":\"date\"})\n",
    "\n",
    "sc_df = sc_df.rename(columns={\"T\":\"s_city_temp\",\n",
    "                             \"U\":\"s_city_humid\",\n",
    "                             \"Date\":\"date\"})\n",
    "\n",
    "sc_df.head()"
   ]
  },
  {
   "cell_type": "code",
   "execution_count": null,
   "metadata": {},
   "outputs": [],
   "source": [
    "# merge the hive file with the weather files\n",
    "\n",
    "weather_hive_2_df = pd.merge(ws_df, ww_df, on=\"date\", how=\"inner\")\n",
    "weather_hive_ws_df = pd.merge(weather_hive_2_df, sc_df, on=\"date\", how=\"inner\")\n",
    "weather_hive_ws_df.head()"
   ]
  },
  {
   "cell_type": "code",
   "execution_count": null,
   "metadata": {},
   "outputs": [],
   "source": [
    "# Export the merged weather and hive data as a CSV, with the Pandas index and with the header\n",
    "weather_hive_ws_df.to_csv(\"weather_hive_ws.csv\", index=True, header=True)\n",
    "weather_hive_ws_df.to_csv(\"data/weather_hive_ws.csv\", index=True, header=True)"
   ]
  },
  {
   "cell_type": "code",
   "execution_count": null,
   "metadata": {},
   "outputs": [],
   "source": [
    "# load the combined weather had hive file and begin condensing to a monthly average\n",
    "\n",
    "#wurzburg\n",
    "# File to Load (Remember to change these)\n",
    "weather_hive_ws_csv = \"data/weather_hive_ws.csv\"\n",
    "\n",
    "\n",
    "# Read the hive Data\n",
    "weather_hive_ws = pd.read_csv(weather_hive_ws_csv, parse_dates=['date'], date_parser=pd.to_datetime, index_col=0)\n",
    "\n",
    "weather_hive_ws.dtypes"
   ]
  },
  {
   "cell_type": "code",
   "execution_count": null,
   "metadata": {},
   "outputs": [],
   "source": [
    "weather_hive_ws.head()"
   ]
  },
  {
   "cell_type": "code",
   "execution_count": null,
   "metadata": {},
   "outputs": [],
   "source": [
    "#set the index back to the date column\n",
    "\n",
    "weather_hive_ws = weather_hive_ws.set_index(\"date\")\n",
    "weather_hive_ws.head()"
   ]
  },
  {
   "cell_type": "code",
   "execution_count": null,
   "metadata": {},
   "outputs": [],
   "source": [
    "#trying to groupby month in the date column. used grouper\n",
    "\n",
    "month_avg_weather_hive_ws = weather_hive_ws.groupby(pd.Grouper(freq='M')).mean()\n",
    "month_avg_weather_hive_ws.head()"
   ]
  },
  {
   "cell_type": "code",
   "execution_count": null,
   "metadata": {},
   "outputs": [],
   "source": [
    "# Extracting just Month and Year from Pandas Datetime column\n",
    "\n",
    "\n",
    "month_avg_weather_hive_ws['month_year'] = pd.to_datetime(month_avg_weather_hive_ws.index).to_period('M')\n",
    "month_avg_weather_hive_ws.head()"
   ]
  },
  {
   "cell_type": "code",
   "execution_count": null,
   "metadata": {},
   "outputs": [],
   "source": [
    "# set the index to the month_year column\n",
    "\n",
    "month_summary = month_avg_weather_hive_ws.set_index(\"month_year\")\n",
    "month_summary.head()"
   ]
  },
  {
   "cell_type": "code",
   "execution_count": null,
   "metadata": {},
   "outputs": [],
   "source": [
    "# Export file as a CSV, with the Pandas index and with the header....\n",
    "#month_summary.to_csv(\"month_summary.csv\", index=True, header=True)\n",
    "#month_summary.to_csv(\"data/month_summary.csv\", index=True, header=True)"
   ]
  },
  {
   "cell_type": "code",
   "execution_count": null,
   "metadata": {},
   "outputs": [],
   "source": [
    "#month_summary.dtypes\n",
    "#month_summary.reset_index()\n",
    "#month_summary['Year'] = month_summary['month_year'].dt.year\n",
    "#month_summary['Month'] = month_summary['month_year'].dt.month\n",
    "#month_summary.head()\n",
    "#month_summary['Year']=[d.split('-')[0] for d in month_summary.month_year]\n",
    "#month_summary['Month']=[d.split('-')[1] for d in month_summary.month_year]\n",
    "#month_summary.head()"
   ]
  },
  {
   "cell_type": "code",
   "execution_count": null,
   "metadata": {},
   "outputs": [],
   "source": [
    "#month_summary.plot.scatter(x='w_city_temp', y='w_temperature', c='blue')\n",
    "#plt.show()"
   ]
  },
  {
   "cell_type": "code",
   "execution_count": null,
   "metadata": {},
   "outputs": [],
   "source": [
    "weather_hive_ws.plot.scatter(x='w_city_temp', y='w_temperature', c='lightblue')\n",
    "plt.show()"
   ]
  },
  {
   "cell_type": "code",
   "execution_count": null,
   "metadata": {},
   "outputs": [],
   "source": [
    "weather_hive_ws.plot.scatter(x='w_temperature', y='w_weight', c='blue')\n",
    "plt.show()"
   ]
  },
  {
   "cell_type": "code",
   "execution_count": null,
   "metadata": {},
   "outputs": [],
   "source": [
    "weather_hive_ws.plot.scatter(x='w_temperature', y='w_flow', c='darkblue')\n",
    "plt.show()"
   ]
  },
  {
   "cell_type": "code",
   "execution_count": null,
   "metadata": {},
   "outputs": [],
   "source": [
    "weather_hive_ws.plot.scatter(x='w_city_humid', y='w_humidity', c='lightgreen')\n",
    "plt.show()"
   ]
  },
  {
   "cell_type": "code",
   "execution_count": null,
   "metadata": {},
   "outputs": [],
   "source": [
    "weather_hive_ws.plot.scatter(x='w_humidity', y='w_weight', c='green')\n",
    "plt.show()"
   ]
  },
  {
   "cell_type": "code",
   "execution_count": null,
   "metadata": {},
   "outputs": [],
   "source": [
    "weather_hive_ws.plot.scatter(x='w_humidity', y='w_flow', c='darkgreen')\n",
    "plt.show()"
   ]
  },
  {
   "cell_type": "code",
   "execution_count": null,
   "metadata": {},
   "outputs": [],
   "source": [
    "weather_hive_ws.plot.scatter(x='w_humidity', y='w_temperature', c='grey')\n",
    "plt.show()"
   ]
  },
  {
   "cell_type": "code",
   "execution_count": null,
   "metadata": {},
   "outputs": [],
   "source": [
    "weather_hive_ws.plot.scatter(x='w_city_humid', y='w_city_temp', c='purple')\n",
    "plt.show()"
   ]
  },
  {
   "cell_type": "code",
   "execution_count": null,
   "metadata": {},
   "outputs": [],
   "source": [
    "#df['year'] = pd.DatetimeIndex(df['birth_date']).year\n",
    "#df.head()"
   ]
  }
 ],
 "metadata": {
  "kernelspec": {
   "display_name": "Python 3",
   "language": "python",
   "name": "python3"
  },
  "language_info": {
   "codemirror_mode": {
    "name": "ipython",
    "version": 3
   },
   "file_extension": ".py",
   "mimetype": "text/x-python",
   "name": "python",
   "nbconvert_exporter": "python",
   "pygments_lexer": "ipython3",
   "version": "3.7.3"
  }
 },
 "nbformat": 4,
 "nbformat_minor": 2
}
