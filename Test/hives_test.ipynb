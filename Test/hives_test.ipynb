{
 "cells": [
  {
   "cell_type": "code",
   "execution_count": 1,
   "metadata": {},
   "outputs": [
    {
     "data": {
      "text/html": [
       "<div>\n",
       "<style scoped>\n",
       "    .dataframe tbody tr th:only-of-type {\n",
       "        vertical-align: middle;\n",
       "    }\n",
       "\n",
       "    .dataframe tbody tr th {\n",
       "        vertical-align: top;\n",
       "    }\n",
       "\n",
       "    .dataframe thead th {\n",
       "        text-align: right;\n",
       "    }\n",
       "</style>\n",
       "<table border=\"1\" class=\"dataframe\">\n",
       "  <thead>\n",
       "    <tr style=\"text-align: right;\">\n",
       "      <th></th>\n",
       "      <th>timestamp</th>\n",
       "      <th>flow</th>\n",
       "      <th>weight</th>\n",
       "      <th>temperature</th>\n",
       "      <th>humidity</th>\n",
       "    </tr>\n",
       "  </thead>\n",
       "  <tbody>\n",
       "    <tr>\n",
       "      <th>0</th>\n",
       "      <td>2017-01-01 06:00:00</td>\n",
       "      <td>0</td>\n",
       "      <td>52.6972</td>\n",
       "      <td>-1.866717</td>\n",
       "      <td>92.27</td>\n",
       "    </tr>\n",
       "    <tr>\n",
       "      <th>1</th>\n",
       "      <td>2017-01-01 06:00:00</td>\n",
       "      <td>0</td>\n",
       "      <td>52.6972</td>\n",
       "      <td>-0.278550</td>\n",
       "      <td>92.27</td>\n",
       "    </tr>\n",
       "    <tr>\n",
       "      <th>2</th>\n",
       "      <td>2017-01-01 06:00:00</td>\n",
       "      <td>0</td>\n",
       "      <td>52.6972</td>\n",
       "      <td>0.509700</td>\n",
       "      <td>92.27</td>\n",
       "    </tr>\n",
       "    <tr>\n",
       "      <th>3</th>\n",
       "      <td>2017-01-01 06:00:00</td>\n",
       "      <td>0</td>\n",
       "      <td>52.6972</td>\n",
       "      <td>3.352567</td>\n",
       "      <td>92.27</td>\n",
       "    </tr>\n",
       "    <tr>\n",
       "      <th>4</th>\n",
       "      <td>2017-01-01 06:00:00</td>\n",
       "      <td>0</td>\n",
       "      <td>52.6972</td>\n",
       "      <td>2.162150</td>\n",
       "      <td>92.27</td>\n",
       "    </tr>\n",
       "  </tbody>\n",
       "</table>\n",
       "</div>"
      ],
      "text/plain": [
       "            timestamp  flow   weight  temperature  humidity\n",
       "0 2017-01-01 06:00:00     0  52.6972    -1.866717     92.27\n",
       "1 2017-01-01 06:00:00     0  52.6972    -0.278550     92.27\n",
       "2 2017-01-01 06:00:00     0  52.6972     0.509700     92.27\n",
       "3 2017-01-01 06:00:00     0  52.6972     3.352567     92.27\n",
       "4 2017-01-01 06:00:00     0  52.6972     2.162150     92.27"
      ]
     },
     "execution_count": 1,
     "metadata": {},
     "output_type": "execute_result"
    }
   ],
   "source": [
    "%matplotlib inline\n",
    "# Dependencies and Setup\n",
    "import matplotlib.pyplot as plt\n",
    "import pandas as pd\n",
    "import numpy as np\n",
    "import os\n",
    "import datetime as dt \n",
    "\n",
    "dateparse = lambda x: pd.datetime.strptime(x, '%Y-%m-%d %H:%M:%S')\n",
    "\n",
    "\n",
    "# File to Load (Remember to change these)\n",
    "wurz_flow_csv = \"data/flow_wurzburg.csv\"\n",
    "wurz_weight_csv = \"data/weight_wurzburg.csv\"\n",
    "wurz_temp_csv = \"data/temperature_wurzburg.csv\"\n",
    "wurz_humid_csv = \"data/humidity_wurzburg.csv\"\n",
    "\n",
    "# Read the hive Data\n",
    "wurz_flow = pd.read_csv(wurz_flow_csv, parse_dates=['timestamp'], date_parser=dateparse)\n",
    "wurz_weight = pd.read_csv(wurz_weight_csv, parse_dates=['timestamp'], date_parser=dateparse)\n",
    "wurz_temp = pd.read_csv(wurz_temp_csv, parse_dates=['timestamp'], date_parser=dateparse)\n",
    "wurz_humid = pd.read_csv(wurz_humid_csv, parse_dates=['timestamp'], date_parser=dateparse)\n",
    "\n",
    "\n",
    "# Combine the data into a single dataset\n",
    "wurz_3_df = pd.merge(wurz_flow, wurz_weight, on=\"timestamp\")\n",
    "wurz_2_df = pd.merge(wurz_3_df, wurz_temp, on=\"timestamp\")\n",
    "wurz_hive_df = pd.merge(wurz_2_df, wurz_humid, on=\"timestamp\")\n",
    "\n",
    "\n",
    "# Display the data table for preview\n",
    "wurz_hive_df.head()"
   ]
  },
  {
   "cell_type": "code",
   "execution_count": 2,
   "metadata": {},
   "outputs": [
    {
     "data": {
      "text/plain": [
       "timestamp      datetime64[ns]\n",
       "flow                    int64\n",
       "weight                float64\n",
       "temperature           float64\n",
       "humidity              float64\n",
       "dtype: object"
      ]
     },
     "execution_count": 2,
     "metadata": {},
     "output_type": "execute_result"
    }
   ],
   "source": [
    "wurz_hive_df.dtypes"
   ]
  },
  {
   "cell_type": "code",
   "execution_count": 3,
   "metadata": {},
   "outputs": [],
   "source": [
    "#flow_time_type_df = wurz_flow['timestamp'].astype(str)\n",
    "# fix by weight, then everage weight to merge the other files"
   ]
  },
  {
   "cell_type": "code",
   "execution_count": 4,
   "metadata": {},
   "outputs": [],
   "source": []
  },
  {
   "cell_type": "code",
   "execution_count": null,
   "metadata": {},
   "outputs": [],
   "source": []
  }
 ],
 "metadata": {
  "kernelspec": {
   "display_name": "Python 3",
   "language": "python",
   "name": "python3"
  },
  "language_info": {
   "codemirror_mode": {
    "name": "ipython",
    "version": 3
   },
   "file_extension": ".py",
   "mimetype": "text/x-python",
   "name": "python",
   "nbconvert_exporter": "python",
   "pygments_lexer": "ipython3",
   "version": "3.7.3"
  }
 },
 "nbformat": 4,
 "nbformat_minor": 2
}
