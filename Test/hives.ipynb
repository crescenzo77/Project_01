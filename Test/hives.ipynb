{
 "cells": [
  {
   "cell_type": "markdown",
   "metadata": {},
   "source": [
    "### %matplotlib inline\n",
    "# Dependencies and Setup\n",
    "import matplotlib.pyplot as plt\n",
    "import pandas as pd\n",
    "import numpy as np\n",
    "import os\n",
    "\n",
    "# File to Load (Remember to change these)\n",
    "wurz_flow_csv = \"data/flow_wurzburg.csv\"\n",
    "wurz_weight_csv = \"data/weight_wurzburg.csv\"\n",
    "wurz_temp_csv = \"data/temperature_wurzburg.csv\"\n",
    "wurz_humid_csv = \"data/humidity_wurzburg.csv\"\n",
    "\n",
    "city_csv = \"data/city_data.csv\"\n",
    "ride_csv = \"data/ride_data.csv\"\n",
    "\n",
    "# Read the hive Data\n",
    "wurz_flow = pd.read_csv(wurz_flow_csv)\n",
    "wurz_weight = pd.read_csv(wurz_weight_csv)\n",
    "wurz_temp = pd.read_csv(wurz_temp_csv)\n",
    "wurz_humid = pd.read_csv(wurz_humid_csv)\n",
    "\n",
    "\n",
    "# Combine the data into a single dataset\n",
    "wurz_hive_df = pd.merge(wurz_flow, wurz_weight, wurz_temp, wurz_humid, on=\"timestamp\")\n",
    "wurz_hive_df = pd.merge(wurz_flow, wurz_weight, wurz_temp, wurz_humid, on=\"timestamp\")\n",
    "wurz_hive_df = pd.merge(wurz_flow, wurz_weight, wurz_temp, wurz_humid, on=\"timestamp\")\n",
    "\n",
    "# Display the data table for preview\n",
    "wurz_hive_df.head()\n"
   ]
  },
  {
   "cell_type": "code",
   "execution_count": null,
   "metadata": {},
   "outputs": [],
   "source": []
  }
 ],
 "metadata": {
  "kernelspec": {
   "display_name": "Python 3",
   "language": "python",
   "name": "python3"
  },
  "language_info": {
   "codemirror_mode": {
    "name": "ipython",
    "version": 3
   },
   "file_extension": ".py",
   "mimetype": "text/x-python",
   "name": "python",
   "nbconvert_exporter": "python",
   "pygments_lexer": "ipython3",
   "version": "3.7.3"
  }
 },
 "nbformat": 4,
 "nbformat_minor": 2
}
