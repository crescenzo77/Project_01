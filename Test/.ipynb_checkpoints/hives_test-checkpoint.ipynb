{
 "cells": [
  {
   "cell_type": "code",
   "execution_count": 1,
   "metadata": {},
   "outputs": [],
   "source": [
    "%matplotlib inline\n",
    "# Dependencies and Setup\n",
    "import matplotlib.pyplot as plt\n",
    "import pandas as pd\n",
    "import numpy as np\n",
    "import os\n",
    "\n",
    "# File to Load (Remember to change these)\n",
    "wurz_flow_csv = \"data/flow_wurzburg.csv\"\n",
    "wurz_weight_csv = \"data/weight_wurzburg.csv\"\n",
    "wurz_temp_csv = \"data/temperature_wurzburg.csv\"\n",
    "wurz_humid_csv = \"data/humidity_wurzburg.csv\"\n",
    "\n",
    "# Read the hive Data\n",
    "wurz_flow = pd.read_csv(wurz_flow_csv)\n",
    "wurz_weight = pd.read_csv(wurz_weight_csv)\n",
    "wurz_temp = pd.read_csv(wurz_temp_csv)\n",
    "wurz_humid = pd.read_csv(wurz_humid_csv)\n",
    "\n",
    "\n",
    "# Combine the data into a single dataset\n",
    "wurz_3_df = pd.merge(wurz_flow, wurz_weight, on=\"timestamp\")\n",
    "wurz_2_df = pd.merge(wurz_3_df, wurz_temp, on=\"timestamp\")\n",
    "wurz_hive_df = pd.merge(wurz_2_df, wurz_humid, on=\"timestamp\")\n",
    "\n",
    "\n",
    "# Display the data table for preview\n",
    "\n"
   ]
  },
  {
   "cell_type": "code",
   "execution_count": 2,
   "metadata": {},
   "outputs": [
    {
     "data": {
      "text/plain": [
       "timestamp    object\n",
       "flow          int64\n",
       "dtype: object"
      ]
     },
     "execution_count": 2,
     "metadata": {},
     "output_type": "execute_result"
    }
   ],
   "source": [
    "wurz_flow.dtypes"
   ]
  },
  {
   "cell_type": "code",
   "execution_count": 3,
   "metadata": {},
   "outputs": [],
   "source": [
    "flow_time_type_df = wurz_flow['timestamp'].astype(str)"
   ]
  },
  {
   "cell_type": "code",
   "execution_count": null,
   "metadata": {},
   "outputs": [],
   "source": [
    "# fix by weight, then everage weight to merge the other files"
   ]
  },
  {
   "cell_type": "code",
   "execution_count": null,
   "metadata": {},
   "outputs": [],
   "source": []
  }
 ],
 "metadata": {
  "kernelspec": {
   "display_name": "Python 3",
   "language": "python",
   "name": "python3"
  },
  "language_info": {
   "codemirror_mode": {
    "name": "ipython",
    "version": 3
   },
   "file_extension": ".py",
   "mimetype": "text/x-python",
   "name": "python",
   "nbconvert_exporter": "python",
   "pygments_lexer": "ipython3",
   "version": "3.7.3"
  }
 },
 "nbformat": 4,
 "nbformat_minor": 2
}
